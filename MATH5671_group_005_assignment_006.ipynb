{
  "nbformat": 4,
  "nbformat_minor": 0,
  "metadata": {
    "kernelspec": {
      "display_name": "Python 3",
      "language": "python",
      "name": "python3"
    },
    "language_info": {
      "codemirror_mode": {
        "name": "ipython",
        "version": 3
      },
      "file_extension": ".py",
      "mimetype": "text/x-python",
      "name": "python",
      "nbconvert_exporter": "python",
      "pygments_lexer": "ipython3",
      "version": "3.6.3"
    },
    "colab": {
      "name": "K-Means Clustering Template.ipynb",
      "provenance": [],
      "include_colab_link": true
    }
  },
  "cells": [
    {
      "cell_type": "markdown",
      "metadata": {
        "id": "view-in-github",
        "colab_type": "text"
      },
      "source": [
        "<a href=\"https://colab.research.google.com/github/nguyen084/MATH5671/blob/master/MATH5671_group_005_assignment_006.ipynb\" target=\"_parent\"><img src=\"https://colab.research.google.com/assets/colab-badge.svg\" alt=\"Open In Colab\"/></a>"
      ]
    },
    {
      "cell_type": "markdown",
      "metadata": {
        "id": "WI16ZT11huCE",
        "colab_type": "text"
      },
      "source": [
        "# Stock Movement using K-Means Clustering\n"
      ]
    },
    {
      "cell_type": "markdown",
      "metadata": {
        "id": "QjUHnDr2huCG",
        "colab_type": "text"
      },
      "source": [
        "![image.png](attachment:image.png)\n",
        "\n",
        "The given dataset contains the closing stock prices for S&P500 stocks for a period of time. Their symbols show on the column headers. The companies operate in 10 sectors as follows (from SP500Companies.xls):\n",
        "\n",
        "Health Care\n",
        "\n",
        "Financials\n",
        "\n",
        "Information Technology\n",
        "\n",
        "Industrials\n",
        "\n",
        "Utilities\n",
        "\n",
        "Materials\n",
        "\n",
        "Consumer Staples\n",
        "\n",
        "Consumer Discretionary\n",
        "\n",
        "Energy\n",
        "\n",
        "Telecommunications Services\n",
        "\n",
        "In the preprocessing step, a new data set is created to indicate if the stock prices increase compared with the previous day (1 or 0 corresponding to UP or DOWN). The matrix is then transposed such that the up/down movement of a stock is in in a row. The model will cluster rows/points in a number of clusters. Here the number of clusters is chosen to be 10 to see if the stocks (or most of) of companies operating in the same sectors happen to be grouped together.\n",
        "\n",
        "The km function implements the K-means algorithm. The outer loop loops for a number of max iterations. The first inner loop assigns each example/point to a cluster. The 2nd loop re-computes the centroids of the clusters.\n",
        "\n",
        "\n",
        "Write a function km that implements the k-means algorithm. The input arguments are the data set X, number of K clusters, and the maximum number of iterations. The function returns an n-by-1 matrix (n is the number of instances), each element in the matrix stores the cluster number of the associated instance. "
      ]
    },
    {
      "cell_type": "code",
      "metadata": {
        "id": "yMHUExx3CWNC",
        "colab_type": "code",
        "outputId": "e7c22d33-84a5-40fd-b0a7-ea98529c978c",
        "colab": {
          "base_uri": "https://localhost:8080/",
          "height": 35
        }
      },
      "source": [
        "from google.colab import drive\n",
        "drive.mount('/content/gdrive')"
      ],
      "execution_count": 42,
      "outputs": [
        {
          "output_type": "stream",
          "text": [
            "Mounted at /content/gdrive\n"
          ],
          "name": "stdout"
        }
      ]
    },
    {
      "cell_type": "code",
      "metadata": {
        "id": "PXBRERHEhuCI",
        "colab_type": "code",
        "colab": {}
      },
      "source": [
        "############################################\n",
        "# K-means based Clustering for Stock Prices#\n",
        "############################################\n",
        "\n",
        "import numpy as np\n",
        "import csv\n",
        "import random\n",
        "import os\n",
        "def compute_distance(point, centroid):\n",
        "  #Compute the distance between the point from the centroid for clustering\n",
        "    return np.argmin(np.sum((point - centroid)**2, axis = 1))\n",
        "def km(X, K, max_iters):\n",
        "    m, n = X.shape\n",
        "    centroids = np.random.rand(K, n)\n",
        "    distance = np.zeros((m, 1))\n",
        "    for i in range(max_iters):\n",
        "        for j in range(m):\n",
        "            distance[j] = compute_distance(np.tile(X[j, :], (K, 1)),centroids)\n",
        "        for k in range(K):\n",
        "            label = np.squeeze(distance[k])\n",
        "            centroids[k,:] = np.mean(np.squeeze(X[np.where(index), :]), axis = 0)\n",
        "    return idx"
      ],
      "execution_count": 0,
      "outputs": []
    },
    {
      "cell_type": "code",
      "metadata": {
        "id": "x-zGBcetEGh_",
        "colab_type": "code",
        "colab": {}
      },
      "source": [
        "os.chdir(r'/content/gdrive/My Drive/Academic/UCONN/Financial Research/MATH5671/')\n",
        "with open(r\"sp500_short_period.csv\") as csvfile:\n",
        "    csvData = csv.reader(csvfile)\n",
        "    datList = []\n",
        "    for row in csvData:\n",
        "        datList.append(row)\n",
        "\n",
        "symbols = np.array(datList.pop(0))\n",
        "\n",
        "data = np.array(datList)\n",
        "data = data.astype(np.float)\n",
        "c = np.double((data[1:np.size(data, 0), :] - data[0:np.size(data, 0) - 1, :]) > 0)\n",
        "movement = np.transpose(c)\n",
        "\n"
      ],
      "execution_count": 0,
      "outputs": []
    },
    {
      "cell_type": "code",
      "metadata": {
        "id": "U01WwJegEMzb",
        "colab_type": "code",
        "outputId": "c4b942b2-5170-42d8-e3f4-0b8db0333359",
        "colab": {
          "base_uri": "https://localhost:8080/",
          "height": 1000
        }
      },
      "source": [
        "K = 10                          # 10 sectors so that 10 classes\n",
        "max_iters = 1000          # maximum iterations\n",
        "random.seed(1234)\n",
        "idx = km(movement, K, max_iters)\n",
        "\n",
        "for k in range(K):\n",
        "    print('\\nStocks in group %d moving up together\\n' % (k+1))\n",
        "    k = np.array(k)\n",
        "    index = np.squeeze(idx == k)\n",
        "    print(symbols[np.where(index)])"
      ],
      "execution_count": 51,
      "outputs": [
        {
          "output_type": "stream",
          "text": [
            "\n",
            "Stocks in group 1 moving up together\n",
            "\n",
            "['FLR' 'FTR' 'GRMN' 'ORCL']\n",
            "\n",
            "Stocks in group 2 moving up together\n",
            "\n",
            "['ACE' 'AMD' 'ALL' 'AN' 'CAH' 'CTL' 'CB' 'CSC' 'JOY' 'TRV' 'WAG' 'WIN']\n",
            "\n",
            "Stocks in group 3 moving up together\n",
            "\n",
            "['MMM' 'ADBE' 'AET' 'AFL' 'APD' 'ARG' 'AGN' 'AXP' 'AIG' 'AMP' 'APH' 'AON'\n",
            " 'AIZ' 'ADP' 'AVY' 'AVP' 'BLL' 'BAC' 'BBT' 'BDX' 'BMS' 'BRK.B' 'BLK' 'BSX'\n",
            " 'COF' 'CFN' 'KMX' 'CAT' 'CI' 'CINF' 'CTAS' 'C' 'CME' 'CCE' 'CMA' 'GLW'\n",
            " 'CSX' 'CMI' 'DHR' 'DE' 'DLPH' 'XRAY' 'DFS' 'DOV' 'DOW' 'DNB' 'ETFC' 'DD'\n",
            " 'EMN' 'ETN' 'ECL' 'EMR' 'EFX' 'EXPD' 'ESRX' 'FITB' 'FHN' 'FISV' 'FLS'\n",
            " 'FMC' 'F' 'FRX' 'BEN' 'GD' 'GE' 'GNW' 'GS' 'GT' 'GWW' 'HOG' 'HAR' 'HIG'\n",
            " 'HAS' 'HON' 'HST' 'HCBK' 'HUM' 'HBAN' 'ITW' 'ICE' 'IBM' 'IFF' 'IGT' 'IVZ'\n",
            " 'JEC' 'JNJ' 'JCI' 'JPM' 'KEY' 'LLL' 'LH' 'LM' 'LUK' 'LIFE' 'LNC' 'LMT'\n",
            " 'L' 'MTB' 'MMC' 'MAT' 'MWV' 'MDT' 'MET' 'MON' 'MCO' 'MS' 'MOS' 'NDAQ'\n",
            " 'NSC' 'NTRS' 'NOC' 'OMC' 'OI' 'PCAR' 'PLL' 'PDCO' 'PBCT' 'PKI' 'PNC'\n",
            " 'PPG' 'PX' 'PCP' 'PFG' 'PGR' 'PRU' 'RTN' 'RF' 'RSG' 'ROK' 'COL' 'ROP' 'R'\n",
            " 'SCHW' 'SLM' 'SNA' 'LUV' 'STJ' 'SWK' 'STT' 'SRCL' 'SYK' 'STI' 'TROW'\n",
            " 'TXT' 'BK' 'TMO' 'TMK' 'TYC' 'UNP' 'UPS' 'UTX' 'UNH' 'UNM' 'USB' 'VAR'\n",
            " 'V' 'VMC' 'DIS' 'WM' 'WAT' 'WLP' 'WFC' 'XL' 'ZMH' 'ZION']\n",
            "\n",
            "Stocks in group 4 moving up together\n",
            "\n",
            "['ALTR' 'ADI' 'AMAT' 'ADSK' 'BMC' 'BWA' 'BRCM' 'CA' 'CF' 'CSCO' 'CTXS'\n",
            " 'EMC' 'FFIV' 'FSLR' 'FLIR' 'HRS' 'HPQ' 'HSP' 'INTC' 'JBL' 'JDSU' 'JNPR'\n",
            " 'KLAC' 'LRCX' 'LLTC' 'MCHP' 'MU' 'MSFT' 'NTAP' 'NVDA' 'PH' 'QCOM' 'RHT'\n",
            " 'RHI' 'CRM' 'SNDK' 'STX' 'SYMC' 'TEL' 'TER' 'TXN' 'WDC' 'XRX' 'XLNX'\n",
            " 'YHOO']\n",
            "\n",
            "Stocks in group 5 moving up together\n",
            "\n",
            "['APC' 'APA' 'BHI' 'COG' 'CAM' 'CHK' 'CVX' 'COP' 'DNR' 'DVN' 'DO' 'ESV'\n",
            " 'EOG' 'EQT' 'XOM' 'FTI' 'HAL' 'HP' 'HES' 'MRO' 'MUR' 'NBR' 'NOV' 'NFX'\n",
            " 'NE' 'NBL' 'OXY' 'PXD' 'QEP' 'RRC' 'RDC' 'SLB' 'SWN' 'WMB' 'WPX']\n",
            "\n",
            "Stocks in group 6 moving up together\n",
            "\n",
            "['AES' 'GAS' 'AEE' 'AEP' 'CNP' 'CMS' 'ED' 'D' 'DTE' 'DUK' 'EIX' 'ETR'\n",
            " 'EXC' 'FE' 'TEG' 'NEE' 'NI' 'NU' 'NRG' 'POM' 'PCG' 'PNW' 'PPL' 'PEG'\n",
            " 'SCG' 'SRE' 'SO' 'SE' 'TE' 'WEC' 'XEL']\n",
            "\n",
            "Stocks in group 7 moving up together\n",
            "\n",
            "['ACT' 'ALXN' 'APOL' 'AAPL' 'BA' 'FDX' 'FOSL' 'ISRG' 'ORLY' 'PNR' 'RL'\n",
            " 'ROST' 'S' 'HOT' 'TDC' 'TJX' 'TSS' 'WYNN' 'XYL']\n",
            "\n",
            "Stocks in group 8 moving up together\n",
            "\n",
            "['ABT' 'MO' 'AMT' 'ABC' 'AMGN' 'AIV' 'T' 'AVB' 'BAX' 'BXP' 'BF.B' 'CPB'\n",
            " 'CLX' 'KO' 'CL' 'CAG' 'COST' 'COV' 'CCI' 'CVS' 'DVA' 'DTV' 'DPS' 'EQR'\n",
            " 'FDO' 'GIS' 'HCP' 'HCN' 'HSY' 'HRL' 'IRM' 'K' 'KMB' 'KIM' 'KMI' 'KSS'\n",
            " 'KR' 'LLY' 'LO' 'MKC' 'MCK' 'MRK' 'TAP' 'OKE' 'PEP' 'PFE' 'PM' 'PCL' 'PG'\n",
            " 'PLD' 'PSA' 'DGX' 'RAI' 'SWY' 'SPG' 'SJM' 'SYY' 'TGT' 'TWC' 'VTR' 'VZ'\n",
            " 'VNO' 'WMT']\n",
            "\n",
            "Stocks in group 9 moving up together\n",
            "\n",
            "['ANF' 'ACN' 'A' 'AKAM' 'AMZN' 'ADM' 'AZO' 'BCR' 'BBBY' 'BBY' 'BIIB' 'HRB'\n",
            " 'BMY' 'CCL' 'CBG' 'CBS' 'CELG' 'CERN' 'CHRW' 'CMG' 'COH' 'CTSH' 'CMCSA'\n",
            " 'STZ' 'CVH' 'DRI' 'DF' 'DISCA' 'DG' 'DLTR' 'EBAY' 'EW' 'EA' 'EL' 'EXPE'\n",
            " 'FAST' 'FIS' 'GME' 'GCI' 'GPS' 'GPC' 'GILD' 'HD' 'DHI' 'IR' 'IPG' 'IP'\n",
            " 'INTU' 'LEG' 'LEN' 'LOW' 'LYB' 'M' 'MPC' 'MAR' 'MAS' 'MA' 'MCD' 'MJN'\n",
            " 'MDLZ' 'MNST' 'MSI' 'MYL' 'NFLX' 'NWL' 'NKE' 'JWN' 'PAYX' 'PRGO' 'PETM'\n",
            " 'PSX' 'PBI' 'PCLN' 'PHM' 'PVH' 'PWR' 'SNI' 'SEE' 'SHW' 'SIAL' 'SPLS'\n",
            " 'SBUX' 'THC' 'TSO' 'TIF' 'TWX' 'TRIP' 'TSN' 'URBN' 'VLO' 'VRSN' 'VFC'\n",
            " 'VIAB' 'WU' 'WY' 'WHR' 'WFM' 'WYN' 'YUM']\n",
            "\n",
            "Stocks in group 10 moving up together\n",
            "\n",
            "['AA' 'ATI' 'CVC' 'CLF' 'CNX' 'FCX' 'NEM' 'NUE' 'BTU' 'JCP' 'X']\n"
          ],
          "name": "stdout"
        }
      ]
    }
  ]
}