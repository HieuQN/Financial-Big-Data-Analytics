{
  "nbformat": 4,
  "nbformat_minor": 0,
  "metadata": {
    "kernelspec": {
      "display_name": "Python 3",
      "language": "python",
      "name": "python3"
    },
    "language_info": {
      "codemirror_mode": {
        "name": "ipython",
        "version": 3
      },
      "file_extension": ".py",
      "mimetype": "text/x-python",
      "name": "python",
      "nbconvert_exporter": "python",
      "pygments_lexer": "ipython3",
      "version": "3.6.3"
    },
    "colab": {
      "name": "MATH5671_Group005_Assignment_007.ipynb",
      "provenance": [],
      "include_colab_link": true
    }
  },
  "cells": [
    {
      "cell_type": "markdown",
      "metadata": {
        "id": "view-in-github",
        "colab_type": "text"
      },
      "source": [
        "<a href=\"https://colab.research.google.com/github/nguyen084/MATH5671/blob/master/MATH5671_Group005_Assignment_007.ipynb\" target=\"_parent\"><img src=\"https://colab.research.google.com/assets/colab-badge.svg\" alt=\"Open In Colab\"/></a>"
      ]
    },
    {
      "cell_type": "markdown",
      "metadata": {
        "id": "g-jGdQ6SuEXb",
        "colab_type": "text"
      },
      "source": [
        "# Loan recommendation with Collaborative Filtering"
      ]
    },
    {
      "cell_type": "markdown",
      "metadata": {
        "id": "YiNNx5oguEXe",
        "colab_type": "text"
      },
      "source": [
        "The rating data is in loan_rating.csv, containing lender_id, loan_id, rating. Rating can be from 0-10."
      ]
    },
    {
      "cell_type": "code",
      "metadata": {
        "id": "bPddmNKGxH94",
        "colab_type": "code",
        "outputId": "60c0892e-a34f-4073-ba1b-f24fc139a143",
        "colab": {
          "base_uri": "https://localhost:8080/",
          "height": 120
        }
      },
      "source": [
        "from google.colab import drive\n",
        "drive.mount('/content/gdrive')"
      ],
      "execution_count": 2,
      "outputs": [
        {
          "output_type": "stream",
          "text": [
            "Go to this URL in a browser: https://accounts.google.com/o/oauth2/auth?client_id=947318989803-6bn6qk8qdgf4n4g3pfee6491hc0brc4i.apps.googleusercontent.com&redirect_uri=urn%3Aietf%3Awg%3Aoauth%3A2.0%3Aoob&scope=email%20https%3A%2F%2Fwww.googleapis.com%2Fauth%2Fdocs.test%20https%3A%2F%2Fwww.googleapis.com%2Fauth%2Fdrive%20https%3A%2F%2Fwww.googleapis.com%2Fauth%2Fdrive.photos.readonly%20https%3A%2F%2Fwww.googleapis.com%2Fauth%2Fpeopleapi.readonly&response_type=code\n",
            "\n",
            "Enter your authorization code:\n",
            "··········\n",
            "Mounted at /content/gdrive\n"
          ],
          "name": "stdout"
        }
      ]
    },
    {
      "cell_type": "code",
      "metadata": {
        "id": "-H8fZ6STuEXg",
        "colab_type": "code",
        "outputId": "971563e4-996d-4752-ab51-8cd2926f18ca",
        "colab": {
          "base_uri": "https://localhost:8080/",
          "height": 197
        }
      },
      "source": [
        "import os\n",
        "import pandas as pd\n",
        "from sklearn.model_selection import train_test_split\n",
        "import numpy as np\n",
        "import random\n",
        "import csv\n",
        "from sklearn.model_selection import train_test_split\n",
        "import locale # for currency formatting\n",
        "import matplotlib.pyplot as plt\n",
        "import warnings\n",
        "warnings.filterwarnings(\"ignore\")\n",
        "\n",
        "os.chdir(r'/content/gdrive/My Drive/Academic/UCONN/Financial Research/MATH5671/')\n",
        "\n",
        "loan_rating_df = pd.read_csv(\"loan_rating.csv\",header =0)\n",
        "loan_rating_df.head()"
      ],
      "execution_count": 3,
      "outputs": [
        {
          "output_type": "execute_result",
          "data": {
            "text/html": [
              "<div>\n",
              "<style scoped>\n",
              "    .dataframe tbody tr th:only-of-type {\n",
              "        vertical-align: middle;\n",
              "    }\n",
              "\n",
              "    .dataframe tbody tr th {\n",
              "        vertical-align: top;\n",
              "    }\n",
              "\n",
              "    .dataframe thead th {\n",
              "        text-align: right;\n",
              "    }\n",
              "</style>\n",
              "<table border=\"1\" class=\"dataframe\">\n",
              "  <thead>\n",
              "    <tr style=\"text-align: right;\">\n",
              "      <th></th>\n",
              "      <th>lender_id</th>\n",
              "      <th>loan_id</th>\n",
              "      <th>rating</th>\n",
              "    </tr>\n",
              "  </thead>\n",
              "  <tbody>\n",
              "    <tr>\n",
              "      <th>0</th>\n",
              "      <td>0</td>\n",
              "      <td>0</td>\n",
              "      <td>3</td>\n",
              "    </tr>\n",
              "    <tr>\n",
              "      <th>1</th>\n",
              "      <td>1</td>\n",
              "      <td>0</td>\n",
              "      <td>0</td>\n",
              "    </tr>\n",
              "    <tr>\n",
              "      <th>2</th>\n",
              "      <td>2</td>\n",
              "      <td>0</td>\n",
              "      <td>0</td>\n",
              "    </tr>\n",
              "    <tr>\n",
              "      <th>3</th>\n",
              "      <td>3</td>\n",
              "      <td>0</td>\n",
              "      <td>0</td>\n",
              "    </tr>\n",
              "    <tr>\n",
              "      <th>4</th>\n",
              "      <td>4</td>\n",
              "      <td>0</td>\n",
              "      <td>2</td>\n",
              "    </tr>\n",
              "  </tbody>\n",
              "</table>\n",
              "</div>"
            ],
            "text/plain": [
              "   lender_id  loan_id  rating\n",
              "0          0        0       3\n",
              "1          1        0       0\n",
              "2          2        0       0\n",
              "3          3        0       0\n",
              "4          4        0       2"
            ]
          },
          "metadata": {
            "tags": []
          },
          "execution_count": 3
        }
      ]
    },
    {
      "cell_type": "code",
      "metadata": {
        "id": "vI41i7TquEXn",
        "colab_type": "code",
        "colab": {}
      },
      "source": [
        "n_lenders = len(loan_rating_df['lender_id'].unique())\n",
        "n_loans = len(loan_rating_df['loan_id'].unique())"
      ],
      "execution_count": 0,
      "outputs": []
    },
    {
      "cell_type": "markdown",
      "metadata": {
        "id": "myRBZufWuEXr",
        "colab_type": "text"
      },
      "source": [
        "Now a recommender system model from scratch"
      ]
    },
    {
      "cell_type": "code",
      "metadata": {
        "id": "7__mcYb3uEXt",
        "colab_type": "code",
        "colab": {}
      },
      "source": [
        "lenders = loan_rating_df['lender_id'].unique()\n",
        "n_lenders = len(lenders)\n",
        "loans = loan_rating_df['loan_id'].unique()\n",
        "n_loans = len(loans)\n",
        "Y = np.empty([n_loans, n_lenders])\n",
        "limit = 100\n",
        "\n",
        "for loan in loans[:limit]:\n",
        "    for lender in lenders:\n",
        "        rating = loan_rating_df[loan_rating_df['loan_id'] == loan][loan_rating_df['lender_id'] == lender]['rating']\n",
        "        if len(rating) == 0:\n",
        "            Y[loan,lender] = -1\n",
        "        else:\n",
        "            Y[loan,lender] = rating.values[0]\n",
        "        \n",
        "        Y = Y.astype(float)\n",
        "\n",
        "# use just part of Y (like, 100 loans)\n",
        "Y = Y[:limit,:]\n",
        "R = (Y != -1)\n",
        "R = R.astype(float)"
      ],
      "execution_count": 0,
      "outputs": []
    },
    {
      "cell_type": "code",
      "metadata": {
        "id": "RxQ0qgDluEXw",
        "colab_type": "code",
        "outputId": "a0df3c9b-4646-44ca-88ab-fa1836634ece",
        "colab": {
          "base_uri": "https://localhost:8080/",
          "height": 197
        }
      },
      "source": [
        "pd.DataFrame(Y, columns = ['lender_' + str(i) for i in range(len(Y[0]))], index = ['loan_' + str(i) for i in range(len(Y))]).head()"
      ],
      "execution_count": 6,
      "outputs": [
        {
          "output_type": "execute_result",
          "data": {
            "text/html": [
              "<div>\n",
              "<style scoped>\n",
              "    .dataframe tbody tr th:only-of-type {\n",
              "        vertical-align: middle;\n",
              "    }\n",
              "\n",
              "    .dataframe tbody tr th {\n",
              "        vertical-align: top;\n",
              "    }\n",
              "\n",
              "    .dataframe thead th {\n",
              "        text-align: right;\n",
              "    }\n",
              "</style>\n",
              "<table border=\"1\" class=\"dataframe\">\n",
              "  <thead>\n",
              "    <tr style=\"text-align: right;\">\n",
              "      <th></th>\n",
              "      <th>lender_0</th>\n",
              "      <th>lender_1</th>\n",
              "      <th>lender_2</th>\n",
              "      <th>lender_3</th>\n",
              "      <th>lender_4</th>\n",
              "      <th>lender_5</th>\n",
              "      <th>lender_6</th>\n",
              "      <th>lender_7</th>\n",
              "      <th>lender_8</th>\n",
              "      <th>lender_9</th>\n",
              "    </tr>\n",
              "  </thead>\n",
              "  <tbody>\n",
              "    <tr>\n",
              "      <th>loan_0</th>\n",
              "      <td>3.0</td>\n",
              "      <td>0.0</td>\n",
              "      <td>0.0</td>\n",
              "      <td>0.0</td>\n",
              "      <td>2.0</td>\n",
              "      <td>0.0</td>\n",
              "      <td>0.0</td>\n",
              "      <td>6.0</td>\n",
              "      <td>0.0</td>\n",
              "      <td>0.0</td>\n",
              "    </tr>\n",
              "    <tr>\n",
              "      <th>loan_1</th>\n",
              "      <td>4.0</td>\n",
              "      <td>6.0</td>\n",
              "      <td>0.0</td>\n",
              "      <td>0.0</td>\n",
              "      <td>2.0</td>\n",
              "      <td>7.0</td>\n",
              "      <td>0.0</td>\n",
              "      <td>0.0</td>\n",
              "      <td>9.0</td>\n",
              "      <td>4.0</td>\n",
              "    </tr>\n",
              "    <tr>\n",
              "      <th>loan_2</th>\n",
              "      <td>0.0</td>\n",
              "      <td>0.0</td>\n",
              "      <td>0.0</td>\n",
              "      <td>8.0</td>\n",
              "      <td>4.0</td>\n",
              "      <td>8.0</td>\n",
              "      <td>0.0</td>\n",
              "      <td>0.0</td>\n",
              "      <td>0.0</td>\n",
              "      <td>0.0</td>\n",
              "    </tr>\n",
              "    <tr>\n",
              "      <th>loan_3</th>\n",
              "      <td>0.0</td>\n",
              "      <td>0.0</td>\n",
              "      <td>2.0</td>\n",
              "      <td>0.0</td>\n",
              "      <td>0.0</td>\n",
              "      <td>0.0</td>\n",
              "      <td>0.0</td>\n",
              "      <td>0.0</td>\n",
              "      <td>4.0</td>\n",
              "      <td>0.0</td>\n",
              "    </tr>\n",
              "    <tr>\n",
              "      <th>loan_4</th>\n",
              "      <td>0.0</td>\n",
              "      <td>4.0</td>\n",
              "      <td>0.0</td>\n",
              "      <td>1.0</td>\n",
              "      <td>0.0</td>\n",
              "      <td>0.0</td>\n",
              "      <td>7.0</td>\n",
              "      <td>7.0</td>\n",
              "      <td>4.0</td>\n",
              "      <td>4.0</td>\n",
              "    </tr>\n",
              "  </tbody>\n",
              "</table>\n",
              "</div>"
            ],
            "text/plain": [
              "        lender_0  lender_1  lender_2  ...  lender_7  lender_8  lender_9\n",
              "loan_0       3.0       0.0       0.0  ...       6.0       0.0       0.0\n",
              "loan_1       4.0       6.0       0.0  ...       0.0       9.0       4.0\n",
              "loan_2       0.0       0.0       0.0  ...       0.0       0.0       0.0\n",
              "loan_3       0.0       0.0       2.0  ...       0.0       4.0       0.0\n",
              "loan_4       0.0       4.0       0.0  ...       7.0       4.0       4.0\n",
              "\n",
              "[5 rows x 10 columns]"
            ]
          },
          "metadata": {
            "tags": []
          },
          "execution_count": 6
        }
      ]
    },
    {
      "cell_type": "code",
      "metadata": {
        "id": "OnS8urdsuEXy",
        "colab_type": "code",
        "outputId": "07c6243a-b700-4b96-94f7-1742d2da6879",
        "colab": {
          "base_uri": "https://localhost:8080/",
          "height": 197
        }
      },
      "source": [
        "loan_df = pd.read_csv(\"loan.csv\",header =0)\n",
        "loan_df.head()\n",
        "info = np.array(loan_df)[:limit,:]\n",
        "loan_df.head()"
      ],
      "execution_count": 7,
      "outputs": [
        {
          "output_type": "execute_result",
          "data": {
            "text/html": [
              "<div>\n",
              "<style scoped>\n",
              "    .dataframe tbody tr th:only-of-type {\n",
              "        vertical-align: middle;\n",
              "    }\n",
              "\n",
              "    .dataframe tbody tr th {\n",
              "        vertical-align: top;\n",
              "    }\n",
              "\n",
              "    .dataframe thead th {\n",
              "        text-align: right;\n",
              "    }\n",
              "</style>\n",
              "<table border=\"1\" class=\"dataframe\">\n",
              "  <thead>\n",
              "    <tr style=\"text-align: right;\">\n",
              "      <th></th>\n",
              "      <th>loan_amnt</th>\n",
              "      <th>term</th>\n",
              "      <th>int_rate</th>\n",
              "      <th>emp_length</th>\n",
              "      <th>home_ownership</th>\n",
              "      <th>annual_inc</th>\n",
              "      <th>purpose</th>\n",
              "      <th>addr_state</th>\n",
              "      <th>dti</th>\n",
              "      <th>delinq_2yrs</th>\n",
              "      <th>revol_util</th>\n",
              "      <th>total_acc</th>\n",
              "      <th>bad_loan</th>\n",
              "      <th>longest_credit_length</th>\n",
              "      <th>verification_status</th>\n",
              "    </tr>\n",
              "  </thead>\n",
              "  <tbody>\n",
              "    <tr>\n",
              "      <th>0</th>\n",
              "      <td>5000</td>\n",
              "      <td>36 months</td>\n",
              "      <td>10.65</td>\n",
              "      <td>10.0</td>\n",
              "      <td>RENT</td>\n",
              "      <td>24000.0</td>\n",
              "      <td>credit_card</td>\n",
              "      <td>AZ</td>\n",
              "      <td>27.65</td>\n",
              "      <td>0.0</td>\n",
              "      <td>83.7</td>\n",
              "      <td>9.0</td>\n",
              "      <td>0</td>\n",
              "      <td>26.0</td>\n",
              "      <td>verified</td>\n",
              "    </tr>\n",
              "    <tr>\n",
              "      <th>1</th>\n",
              "      <td>2500</td>\n",
              "      <td>60 months</td>\n",
              "      <td>15.27</td>\n",
              "      <td>0.0</td>\n",
              "      <td>RENT</td>\n",
              "      <td>30000.0</td>\n",
              "      <td>car</td>\n",
              "      <td>GA</td>\n",
              "      <td>1.00</td>\n",
              "      <td>0.0</td>\n",
              "      <td>9.4</td>\n",
              "      <td>4.0</td>\n",
              "      <td>1</td>\n",
              "      <td>12.0</td>\n",
              "      <td>verified</td>\n",
              "    </tr>\n",
              "    <tr>\n",
              "      <th>2</th>\n",
              "      <td>2400</td>\n",
              "      <td>36 months</td>\n",
              "      <td>15.96</td>\n",
              "      <td>10.0</td>\n",
              "      <td>RENT</td>\n",
              "      <td>12252.0</td>\n",
              "      <td>small_business</td>\n",
              "      <td>IL</td>\n",
              "      <td>8.72</td>\n",
              "      <td>0.0</td>\n",
              "      <td>98.5</td>\n",
              "      <td>10.0</td>\n",
              "      <td>0</td>\n",
              "      <td>10.0</td>\n",
              "      <td>not verified</td>\n",
              "    </tr>\n",
              "    <tr>\n",
              "      <th>3</th>\n",
              "      <td>10000</td>\n",
              "      <td>36 months</td>\n",
              "      <td>13.49</td>\n",
              "      <td>10.0</td>\n",
              "      <td>RENT</td>\n",
              "      <td>49200.0</td>\n",
              "      <td>other</td>\n",
              "      <td>CA</td>\n",
              "      <td>20.00</td>\n",
              "      <td>0.0</td>\n",
              "      <td>21.0</td>\n",
              "      <td>37.0</td>\n",
              "      <td>0</td>\n",
              "      <td>15.0</td>\n",
              "      <td>verified</td>\n",
              "    </tr>\n",
              "    <tr>\n",
              "      <th>4</th>\n",
              "      <td>5000</td>\n",
              "      <td>36 months</td>\n",
              "      <td>7.90</td>\n",
              "      <td>3.0</td>\n",
              "      <td>RENT</td>\n",
              "      <td>36000.0</td>\n",
              "      <td>wedding</td>\n",
              "      <td>AZ</td>\n",
              "      <td>11.20</td>\n",
              "      <td>0.0</td>\n",
              "      <td>28.3</td>\n",
              "      <td>12.0</td>\n",
              "      <td>0</td>\n",
              "      <td>7.0</td>\n",
              "      <td>verified</td>\n",
              "    </tr>\n",
              "  </tbody>\n",
              "</table>\n",
              "</div>"
            ],
            "text/plain": [
              "   loan_amnt       term  ...  longest_credit_length  verification_status\n",
              "0       5000  36 months  ...                   26.0             verified\n",
              "1       2500  60 months  ...                   12.0             verified\n",
              "2       2400  36 months  ...                   10.0         not verified\n",
              "3      10000  36 months  ...                   15.0             verified\n",
              "4       5000  36 months  ...                    7.0             verified\n",
              "\n",
              "[5 rows x 15 columns]"
            ]
          },
          "metadata": {
            "tags": []
          },
          "execution_count": 7
        }
      ]
    },
    {
      "cell_type": "markdown",
      "metadata": {
        "id": "BAH35pIJuEX2",
        "colab_type": "text"
      },
      "source": [
        "Starting here write your own code in these functions"
      ]
    },
    {
      "cell_type": "code",
      "metadata": {
        "id": "qAvMgsXFuEX4",
        "colab_type": "code",
        "colab": {}
      },
      "source": [
        "def cost_grad(param, Y, r, n_lenders, n_loans, n_features, lamba):    \n",
        "    # Obtain X and Theta from param vector\n",
        "    X = param[0:(n_loans * n_features)].reshape(n_loans, n_features, order = \"F\")\n",
        "    Theta = param[(n_loans * n_features):len(param)].reshape(n_lenders, n_features, order = \"F\")   \n",
        "    # Cost\n",
        "    predictions = np.dot(X, Theta.T)\n",
        "    errors = np.multiply(predictions - Y, r) \n",
        "    J = (1/2)*np.sum(errors**2)\n",
        "    # Regularized cost function to penalize overfitting\n",
        "    reg_X = (lamba/2) * np.sum(X**2)\n",
        "    reg_Theta = (lamba/2) * np.sum(Theta**2)\n",
        "    J = J + reg_Theta + reg_X\n",
        "    \n",
        "    # Gradients    \n",
        "    X_grad = np.dot(errors, Theta) \n",
        "    Theta_grad = np.dot(errors.T, X) \n",
        " \n",
        "    # Add regularization terms to gradients\n",
        "    X_grad = X_grad + lamba * X\n",
        "    Theta_grad = Theta_grad + lamba * Theta\n",
        "\n",
        "    grad = np.squeeze(np.concatenate((X_grad.reshape(n_loans * n_features, 1, order = \"F\"), \\\n",
        "                           Theta_grad.reshape(n_lenders * n_features, 1, order = \"F\"))))\n",
        "    return grad,J\n",
        "    \n",
        "def optimizeCost(param, Y, r, n_lenders, n_loans, n_features, lamba, step, maxrun):\n",
        "    cost_range = np.zeros((maxrun, 1))\n",
        "    for iter in range(maxrun):\n",
        "        grad,J = cost_grad(param, Y, r, n_lenders, n_loans, n_features, lamba)\n",
        "        param = param - step * grad\n",
        "        cost_range[iter] = J\n",
        "\n",
        "    return param,cost_range\n"
      ],
      "execution_count": 0,
      "outputs": []
    },
    {
      "cell_type": "code",
      "metadata": {
        "id": "rcwWur3Smlg0",
        "colab_type": "code",
        "colab": {
          "base_uri": "https://localhost:8080/",
          "height": 1000
        },
        "outputId": "cf7c0274-9441-4750-a6fd-4af1b9c99ca0"
      },
      "source": [
        "n_lenders = np.size(Y, 1)\n",
        "n_loans = np.size(Y, 0)\n",
        "n_features = 10\n",
        "# Initialization\n",
        "X = np.random.normal(loc = 0.0, scale = 1.0, size = (n_loans, n_features))\n",
        "Theta = np.random.normal(loc = 0.0, scale = 1.0, size = (n_lenders,n_features))\n",
        "init_param = np.concatenate((X.reshape(n_loans * n_features, 1, order = \"F\"),\n",
        "                             Theta.reshape(n_lenders * n_features, 1, order = \"F\")))\n",
        "init_param = np.squeeze(init_param)\n",
        "\n",
        "# Optimization\n",
        "lamba = 10\n",
        "maxrun = 10000\n",
        "step = 0.001\n",
        "\n",
        "param,cost_range = optimizeCost(init_param, Y, R, n_lenders, n_loans, \\\n",
        "                     n_features, lamba, step, maxrun)\n",
        "# now plot the cost\n",
        "plt.plot(cost_range,\"b.\",markersize=1,label=\"Cost\") # note: this is 0-based\n",
        "plt.show()\n",
        "    \n",
        "# Extract X and Theta from param vector\n",
        "X = param[0:(n_loans * n_features)]\n",
        "Theta = param[(n_loans * n_features):len(param)]\n",
        "X = X.reshape(n_loans, n_features, order = \"F\")\n",
        "Theta = Theta.reshape(n_lenders, n_features, order = \"F\")\n",
        "pred = np.dot(X, Theta.T)\n",
        "\n",
        "# print out top 3 ratings for each lender\n",
        "top_n = 3\n",
        "for j in range(n_lenders):\n",
        "    rating = np.sort(pred[:, j])[::-1]\n",
        "    ind = np.argsort(pred[:, j])[::-1]\n",
        "    a = info[ind,:]\n",
        "    print('\\nTop %d recommendations for lender %d:\\n' % (top_n, (j+1)))\n",
        "    for i in range(top_n):\n",
        "        print('Predicted rating %.1f for loan of  %s  for %s with %s purpose at %.1f percent interest\\n' %\n",
        "        (rating[i], locale.currency(np.float(a[i, 0]),grouping=True), a[i, 1], a[i, 6], np.float(a[i,2])))  "
      ],
      "execution_count": 11,
      "outputs": [
        {
          "output_type": "display_data",
          "data": {
            "image/png": "[encoded data removed]",
            "text/plain": [
              "<Figure size 432x288 with 1 Axes>"
            ]
          },
          "metadata": {
            "tags": []
          }
        },
        {
          "output_type": "stream",
          "text": [
            "\n",
            "Top 3 recommendations for lender 1:\n",
            "\n",
            "Predicted rating 6.8 for loan of  $15,000.00  for 36 months with credit_card purpose at 9.9 percent interest\n",
            "\n",
            "Predicted rating 6.3 for loan of  $9,600.00  for 36 months with other purpose at 7.5 percent interest\n",
            "\n",
            "Predicted rating 6.2 for loan of  $12,000.00  for 36 months with debt_consolidation purpose at 13.5 percent interest\n",
            "\n",
            "\n",
            "Top 3 recommendations for lender 2:\n",
            "\n",
            "Predicted rating 7.3 for loan of  $31,825.00  for 36 months with debt_consolidation purpose at 7.9 percent interest\n",
            "\n",
            "Predicted rating 7.2 for loan of  $6,200.00  for 36 months with debt_consolidation purpose at 9.9 percent interest\n",
            "\n",
            "Predicted rating 7.1 for loan of  $6,000.00  for 36 months with debt_consolidation purpose at 8.9 percent interest\n",
            "\n",
            "\n",
            "Top 3 recommendations for lender 3:\n",
            "\n",
            "Predicted rating 6.6 for loan of  $15,000.00  for 36 months with debt_consolidation purpose at 9.9 percent interest\n",
            "\n",
            "Predicted rating 6.2 for loan of  $31,825.00  for 36 months with debt_consolidation purpose at 7.9 percent interest\n",
            "\n",
            "Predicted rating 6.1 for loan of  $18,000.00  for 60 months with debt_consolidation purpose at 19.9 percent interest\n",
            "\n",
            "\n",
            "Top 3 recommendations for lender 4:\n",
            "\n",
            "Predicted rating 6.9 for loan of  $5,000.00  for 60 months with other purpose at 16.8 percent interest\n",
            "\n",
            "Predicted rating 6.4 for loan of  $6,000.00  for 36 months with debt_consolidation purpose at 13.5 percent interest\n",
            "\n",
            "Predicted rating 6.3 for loan of  $16,425.00  for 36 months with debt_consolidation purpose at 14.3 percent interest\n",
            "\n",
            "\n",
            "Top 3 recommendations for lender 5:\n",
            "\n",
            "Predicted rating 6.6 for loan of  $7,250.00  for 60 months with debt_consolidation purpose at 21.7 percent interest\n",
            "\n",
            "Predicted rating 6.5 for loan of  $7,000.00  for 36 months with credit_card purpose at 16.0 percent interest\n",
            "\n",
            "Predicted rating 6.0 for loan of  $24,000.00  for 36 months with debt_consolidation purpose at 10.7 percent interest\n",
            "\n",
            "\n",
            "Top 3 recommendations for lender 6:\n",
            "\n",
            "Predicted rating 7.1 for loan of  $7,250.00  for 60 months with debt_consolidation purpose at 21.7 percent interest\n",
            "\n",
            "Predicted rating 6.9 for loan of  $12,000.00  for 36 months with debt_consolidation purpose at 16.3 percent interest\n",
            "\n",
            "Predicted rating 6.9 for loan of  $7,000.00  for 36 months with debt_consolidation purpose at 11.7 percent interest\n",
            "\n",
            "\n",
            "Top 3 recommendations for lender 7:\n",
            "\n",
            "Predicted rating 6.5 for loan of  $6,000.00  for 36 months with debt_consolidation purpose at 12.4 percent interest\n",
            "\n",
            "Predicted rating 6.5 for loan of  $10,000.00  for 36 months with credit_card purpose at 11.7 percent interest\n",
            "\n",
            "Predicted rating 6.5 for loan of  $7,000.00  for 36 months with credit_card purpose at 10.7 percent interest\n",
            "\n",
            "\n",
            "Top 3 recommendations for lender 8:\n",
            "\n",
            "Predicted rating 7.4 for loan of  $5,000.00  for 60 months with other purpose at 16.8 percent interest\n",
            "\n",
            "Predicted rating 7.3 for loan of  $15,000.00  for 36 months with debt_consolidation purpose at 14.3 percent interest\n",
            "\n",
            "Predicted rating 7.1 for loan of  $12,000.00  for 36 months with credit_card purpose at 16.8 percent interest\n",
            "\n",
            "\n",
            "Top 3 recommendations for lender 9:\n",
            "\n",
            "Predicted rating 7.2 for loan of  $12,000.00  for 36 months with debt_consolidation purpose at 16.3 percent interest\n",
            "\n",
            "Predicted rating 7.2 for loan of  $2,500.00  for 60 months with car purpose at 15.3 percent interest\n",
            "\n",
            "Predicted rating 7.2 for loan of  $11,800.00  for 36 months with credit_card purpose at 12.7 percent interest\n",
            "\n",
            "\n",
            "Top 3 recommendations for lender 10:\n",
            "\n",
            "Predicted rating 7.1 for loan of  $31,825.00  for 36 months with debt_consolidation purpose at 7.9 percent interest\n",
            "\n",
            "Predicted rating 6.9 for loan of  $4,400.00  for 36 months with debt_consolidation purpose at 16.8 percent interest\n",
            "\n",
            "Predicted rating 6.8 for loan of  $6,000.00  for 36 months with debt_consolidation purpose at 13.5 percent interest\n",
            "\n"
          ],
          "name": "stdout"
        }
      ]
    },
    {
      "cell_type": "code",
      "metadata": {
        "id": "ddVpC6oVzTf1",
        "colab_type": "code",
        "outputId": "933eaf5c-9a80-43b4-a7c4-b9ecc259cd3c",
        "colab": {
          "base_uri": "https://localhost:8080/",
          "height": 33
        }
      },
      "source": [
        "import locale\n",
        "locale.setlocale( locale.LC_ALL, '' )"
      ],
      "execution_count": 1,
      "outputs": [
        {
          "output_type": "execute_result",
          "data": {
            "text/plain": [
              "'en_US.UTF-8'"
            ]
          },
          "metadata": {
            "tags": []
          },
          "execution_count": 1
        }
      ]
    }
  ]
}