{
  "nbformat": 4,
  "nbformat_minor": 0,
  "metadata": {
    "colab": {
      "name": "Insurance_Purchase_Prediction_Using_Deep_Neural_Network.ipynb",
      "provenance": [],
      "collapsed_sections": [],
      "include_colab_link": true
    },
    "kernelspec": {
      "name": "python3",
      "display_name": "Python 3"
    },
    "language_info": {
      "codemirror_mode": {
        "name": "ipython",
        "version": 3
      },
      "file_extension": ".py",
      "mimetype": "text/x-python",
      "name": "python",
      "nbconvert_exporter": "python",
      "pygments_lexer": "ipython3",
      "version": "3.6.3"
    },
    "accelerator": "GPU"
  },
  "cells": [
    {
      "cell_type": "markdown",
      "metadata": {
        "id": "view-in-github",
        "colab_type": "text"
      },
      "source": [
        "<a href=\"https://colab.research.google.com/github/nguyen084/MATH5671/blob/master/MATH_5671_group_005_assignment_004.ipynb\" target=\"_parent\"><img src=\"https://colab.research.google.com/assets/colab-badge.svg\" alt=\"Open In Colab\"/></a>"
      ]
    },
    {
      "cell_type": "markdown",
      "metadata": {
        "colab_type": "text",
        "id": "C28oDVpwTONO"
      },
      "source": [
        "# Insurance Purchase Prediction Using Deep Neural Network"
      ]
    },
    {
      "cell_type": "markdown",
      "metadata": {
        "colab_type": "text",
        "id": "umVQoazn9g4O"
      },
      "source": [
        "In this notebook a deep neural network is used using tf.keras."
      ]
    },
    {
      "cell_type": "code",
      "metadata": {
        "colab_type": "code",
        "id": "2g4EQg7HTV68",
        "outputId": "f438ab5c-9a31-4e6e-f60b-2727b577ddc0",
        "colab": {
          "base_uri": "https://localhost:8080/",
          "height": 120
        }
      },
      "source": [
        "from google.colab import drive\n",
        "drive.mount('/content/gdrive')"
      ],
      "execution_count": 0,
      "outputs": [
        {
          "output_type": "stream",
          "text": [
            "Go to this URL in a browser: https://accounts.google.com/o/oauth2/auth?client_id=947318989803-6bn6qk8qdgf4n4g3pfee6491hc0brc4i.apps.googleusercontent.com&redirect_uri=urn%3Aietf%3Awg%3Aoauth%3A2.0%3Aoob&scope=email%20https%3A%2F%2Fwww.googleapis.com%2Fauth%2Fdocs.test%20https%3A%2F%2Fwww.googleapis.com%2Fauth%2Fdrive%20https%3A%2F%2Fwww.googleapis.com%2Fauth%2Fdrive.photos.readonly%20https%3A%2F%2Fwww.googleapis.com%2Fauth%2Fpeopleapi.readonly&response_type=code\n",
            "\n",
            "Enter your authorization code:\n",
            "··········\n",
            "Mounted at /content/gdrive\n"
          ],
          "name": "stdout"
        }
      ]
    },
    {
      "cell_type": "code",
      "metadata": {
        "colab_type": "code",
        "id": "rhdXiYn1TONQ",
        "outputId": "20c72ecd-11ff-4a6d-fba8-ebfac27bc69c",
        "colab": {
          "base_uri": "https://localhost:8080/",
          "height": 217
        }
      },
      "source": [
        "import os\n",
        "import pandas as pd\n",
        "import warnings\n",
        "warnings.filterwarnings(\"ignore\")\n",
        "\n",
        "os.chdir(r'/content/gdrive/My Drive/Academic/UCONN/Financial Research/MATH5671/')\n",
        "insurance_df = pd.read_csv(\"training_data.csv\",header =0)\n",
        "insurance_df.head()"
      ],
      "execution_count": 0,
      "outputs": [
        {
          "output_type": "execute_result",
          "data": {
            "text/html": [
              "<div>\n",
              "<style scoped>\n",
              "    .dataframe tbody tr th:only-of-type {\n",
              "        vertical-align: middle;\n",
              "    }\n",
              "\n",
              "    .dataframe tbody tr th {\n",
              "        vertical-align: top;\n",
              "    }\n",
              "\n",
              "    .dataframe thead th {\n",
              "        text-align: right;\n",
              "    }\n",
              "</style>\n",
              "<table border=\"1\" class=\"dataframe\">\n",
              "  <thead>\n",
              "    <tr style=\"text-align: right;\">\n",
              "      <th></th>\n",
              "      <th>STATE</th>\n",
              "      <th>REGION</th>\n",
              "      <th>SEX</th>\n",
              "      <th>PROFESSION</th>\n",
              "      <th>AGE</th>\n",
              "      <th>HAS_CHILDREN</th>\n",
              "      <th>SALARY</th>\n",
              "      <th>N_OF_DEPENDENTS</th>\n",
              "      <th>CAR_OWNERSHIP</th>\n",
              "      <th>HOUSE_OWNERSHIP</th>\n",
              "      <th>TIME_AS_CUSTOMER</th>\n",
              "      <th>MARITAL_STATUS</th>\n",
              "      <th>CREDIT_BALANCE</th>\n",
              "      <th>BANK_FUNDS</th>\n",
              "      <th>CHECKING_AMOUNT</th>\n",
              "      <th>MONEY_MONTLY_OVERDRAWN</th>\n",
              "      <th>T_AMOUNT_AUTOM_PAYMENTS</th>\n",
              "      <th>MONTHLY_CHECKS_WRITTEN</th>\n",
              "      <th>MORTGAGE_AMOUNT</th>\n",
              "      <th>N_TRANS_ATM</th>\n",
              "      <th>N_MORTGAGES</th>\n",
              "      <th>N_TRANS_TELLER</th>\n",
              "      <th>CREDIT_CARD_LIMITS</th>\n",
              "      <th>N_TRANS_KIOSK</th>\n",
              "      <th>N_TRANS_WEB_BANK</th>\n",
              "      <th>LTV</th>\n",
              "      <th>LTV_BIN</th>\n",
              "      <th>BUY_INSURANCE</th>\n",
              "    </tr>\n",
              "  </thead>\n",
              "  <tbody>\n",
              "    <tr>\n",
              "      <th>0</th>\n",
              "      <td>CA</td>\n",
              "      <td>West</td>\n",
              "      <td>M</td>\n",
              "      <td>IT Staff</td>\n",
              "      <td>63</td>\n",
              "      <td>0</td>\n",
              "      <td>59461</td>\n",
              "      <td>0</td>\n",
              "      <td>1</td>\n",
              "      <td>0</td>\n",
              "      <td>2</td>\n",
              "      <td>SINGLE</td>\n",
              "      <td>0</td>\n",
              "      <td>0</td>\n",
              "      <td>25</td>\n",
              "      <td>53.06</td>\n",
              "      <td>504</td>\n",
              "      <td>0</td>\n",
              "      <td>0</td>\n",
              "      <td>0</td>\n",
              "      <td>0</td>\n",
              "      <td>0</td>\n",
              "      <td>900</td>\n",
              "      <td>2</td>\n",
              "      <td>0</td>\n",
              "      <td>22165.25</td>\n",
              "      <td>HIGH</td>\n",
              "      <td>0</td>\n",
              "    </tr>\n",
              "    <tr>\n",
              "      <th>1</th>\n",
              "      <td>CA</td>\n",
              "      <td>West</td>\n",
              "      <td>M</td>\n",
              "      <td>PROF-9</td>\n",
              "      <td>36</td>\n",
              "      <td>1</td>\n",
              "      <td>60271</td>\n",
              "      <td>1</td>\n",
              "      <td>1</td>\n",
              "      <td>1</td>\n",
              "      <td>1</td>\n",
              "      <td>DIVORCED</td>\n",
              "      <td>0</td>\n",
              "      <td>2900</td>\n",
              "      <td>25</td>\n",
              "      <td>54.51</td>\n",
              "      <td>1311</td>\n",
              "      <td>3</td>\n",
              "      <td>3063</td>\n",
              "      <td>5</td>\n",
              "      <td>1</td>\n",
              "      <td>1</td>\n",
              "      <td>900</td>\n",
              "      <td>0</td>\n",
              "      <td>3063</td>\n",
              "      <td>22167.75</td>\n",
              "      <td>HIGH</td>\n",
              "      <td>1</td>\n",
              "    </tr>\n",
              "    <tr>\n",
              "      <th>2</th>\n",
              "      <td>FL</td>\n",
              "      <td>South</td>\n",
              "      <td>M</td>\n",
              "      <td>Programmer/Developer</td>\n",
              "      <td>21</td>\n",
              "      <td>0</td>\n",
              "      <td>64738</td>\n",
              "      <td>3</td>\n",
              "      <td>1</td>\n",
              "      <td>0</td>\n",
              "      <td>3</td>\n",
              "      <td>SINGLE</td>\n",
              "      <td>0</td>\n",
              "      <td>500</td>\n",
              "      <td>25</td>\n",
              "      <td>53.02</td>\n",
              "      <td>539</td>\n",
              "      <td>4</td>\n",
              "      <td>0</td>\n",
              "      <td>2</td>\n",
              "      <td>0</td>\n",
              "      <td>2</td>\n",
              "      <td>1000</td>\n",
              "      <td>4</td>\n",
              "      <td>0</td>\n",
              "      <td>13784.50</td>\n",
              "      <td>LOW</td>\n",
              "      <td>1</td>\n",
              "    </tr>\n",
              "    <tr>\n",
              "      <th>3</th>\n",
              "      <td>WA</td>\n",
              "      <td>West</td>\n",
              "      <td>F</td>\n",
              "      <td>IT Staff</td>\n",
              "      <td>47</td>\n",
              "      <td>1</td>\n",
              "      <td>65071</td>\n",
              "      <td>1</td>\n",
              "      <td>1</td>\n",
              "      <td>1</td>\n",
              "      <td>1</td>\n",
              "      <td>OTHER</td>\n",
              "      <td>56297</td>\n",
              "      <td>12500</td>\n",
              "      <td>25</td>\n",
              "      <td>57.70</td>\n",
              "      <td>59437</td>\n",
              "      <td>17</td>\n",
              "      <td>15000</td>\n",
              "      <td>6</td>\n",
              "      <td>1</td>\n",
              "      <td>7</td>\n",
              "      <td>500</td>\n",
              "      <td>3</td>\n",
              "      <td>3000</td>\n",
              "      <td>24467.75</td>\n",
              "      <td>HIGH</td>\n",
              "      <td>1</td>\n",
              "    </tr>\n",
              "    <tr>\n",
              "      <th>4</th>\n",
              "      <td>UT</td>\n",
              "      <td>Southwest</td>\n",
              "      <td>M</td>\n",
              "      <td>Technical Writer</td>\n",
              "      <td>26</td>\n",
              "      <td>0</td>\n",
              "      <td>61674</td>\n",
              "      <td>3</td>\n",
              "      <td>1</td>\n",
              "      <td>1</td>\n",
              "      <td>3</td>\n",
              "      <td>SINGLE</td>\n",
              "      <td>0</td>\n",
              "      <td>0</td>\n",
              "      <td>25</td>\n",
              "      <td>53.06</td>\n",
              "      <td>0</td>\n",
              "      <td>0</td>\n",
              "      <td>300</td>\n",
              "      <td>0</td>\n",
              "      <td>1</td>\n",
              "      <td>0</td>\n",
              "      <td>1500</td>\n",
              "      <td>5</td>\n",
              "      <td>300</td>\n",
              "      <td>23518.50</td>\n",
              "      <td>HIGH</td>\n",
              "      <td>0</td>\n",
              "    </tr>\n",
              "  </tbody>\n",
              "</table>\n",
              "</div>"
            ],
            "text/plain": [
              "  STATE     REGION SEX  ...       LTV  LTV_BIN  BUY_INSURANCE\n",
              "0    CA       West   M  ...  22165.25     HIGH              0\n",
              "1    CA       West   M  ...  22167.75     HIGH              1\n",
              "2    FL      South   M  ...  13784.50      LOW              1\n",
              "3    WA       West   F  ...  24467.75     HIGH              1\n",
              "4    UT  Southwest   M  ...  23518.50     HIGH              0\n",
              "\n",
              "[5 rows x 28 columns]"
            ]
          },
          "metadata": {
            "tags": []
          },
          "execution_count": 2
        }
      ]
    },
    {
      "cell_type": "markdown",
      "metadata": {
        "colab_type": "text",
        "id": "t5-8xFH4TONY"
      },
      "source": [
        "## Data Exploration\n",
        "Exploring the dataset using plots, histograms, descriptive statistics, etc."
      ]
    },
    {
      "cell_type": "code",
      "metadata": {
        "colab_type": "code",
        "id": "bL95pOhrTONZ",
        "outputId": "cb2d56c0-0a6e-45ff-fbbe-1384a21ac004",
        "colab": {
          "base_uri": "https://localhost:8080/",
          "height": 137
        }
      },
      "source": [
        "import matplotlib.pyplot as plt \n",
        "import pandas as pd\n",
        "import numpy as np\n",
        "\n",
        "# target variable distribution\n",
        "insurance_df.groupby(['BUY_INSURANCE'])[['BUY_INSURANCE']].count()"
      ],
      "execution_count": 0,
      "outputs": [
        {
          "output_type": "execute_result",
          "data": {
            "text/html": [
              "<div>\n",
              "<style scoped>\n",
              "    .dataframe tbody tr th:only-of-type {\n",
              "        vertical-align: middle;\n",
              "    }\n",
              "\n",
              "    .dataframe tbody tr th {\n",
              "        vertical-align: top;\n",
              "    }\n",
              "\n",
              "    .dataframe thead th {\n",
              "        text-align: right;\n",
              "    }\n",
              "</style>\n",
              "<table border=\"1\" class=\"dataframe\">\n",
              "  <thead>\n",
              "    <tr style=\"text-align: right;\">\n",
              "      <th></th>\n",
              "      <th>BUY_INSURANCE</th>\n",
              "    </tr>\n",
              "    <tr>\n",
              "      <th>BUY_INSURANCE</th>\n",
              "      <th></th>\n",
              "    </tr>\n",
              "  </thead>\n",
              "  <tbody>\n",
              "    <tr>\n",
              "      <th>0</th>\n",
              "      <td>529</td>\n",
              "    </tr>\n",
              "    <tr>\n",
              "      <th>1</th>\n",
              "      <td>181</td>\n",
              "    </tr>\n",
              "  </tbody>\n",
              "</table>\n",
              "</div>"
            ],
            "text/plain": [
              "               BUY_INSURANCE\n",
              "BUY_INSURANCE               \n",
              "0                        529\n",
              "1                        181"
            ]
          },
          "metadata": {
            "tags": []
          },
          "execution_count": 3
        }
      ]
    },
    {
      "cell_type": "markdown",
      "metadata": {
        "colab_type": "text",
        "id": "Zi7rhmowsBqQ"
      },
      "source": [
        "Let's take a look at the correlation matrix"
      ]
    },
    {
      "cell_type": "code",
      "metadata": {
        "colab_type": "code",
        "id": "s6N8xeN8TONc",
        "outputId": "6ce3eb5e-c0ff-4445-efe9-649cc551fccd",
        "colab": {
          "base_uri": "https://localhost:8080/",
          "height": 1000
        }
      },
      "source": [
        "import seaborn as sns\n",
        "import matplotlib.pyplot as plt\n",
        "%matplotlib inline\n",
        "corr = insurance_df.corr()\n",
        "plt.figure(figsize=(16, 16))\n",
        "sns.heatmap(corr,annot = True,\n",
        "        xticklabels=corr.columns,\n",
        "        yticklabels=corr.columns)"
      ],
      "execution_count": 0,
      "outputs": [
        {
          "output_type": "execute_result",
          "data": {
            "text/plain": [
              "<matplotlib.axes._subplots.AxesSubplot at 0x7f2cc796eb70>"
            ]
          },
          "metadata": {
            "tags": []
          },
          "execution_count": 4
        },
        {
          "output_type": "display_data",
          "data": {
            "image/png": "[encoded data removed]",
            "text/plain": [
              "<Figure size 1152x1152 with 2 Axes>"
            ]
          },
          "metadata": {
            "tags": []
          }
        }
      ]
    },
    {
      "cell_type": "markdown",
      "metadata": {
        "colab_type": "text",
        "id": "9uwX-xgrTONf"
      },
      "source": [
        "## Preprocessing\n",
        "Convert a number of categorical variables to dummy variables"
      ]
    },
    {
      "cell_type": "code",
      "metadata": {
        "colab_type": "code",
        "id": "YKIBdiIkTONh",
        "colab": {}
      },
      "source": [
        "# convert categorical variables to dummy variables\n",
        "cat_vars=['STATE','REGION','SEX','PROFESSION','MARITAL_STATUS']\n",
        "cat_df = pd.get_dummies(insurance_df[cat_vars], prefix='var')\n",
        "insurance_df = pd.concat([insurance_df,cat_df],axis = 1) # concat horizontally with newly dummy features"
      ],
      "execution_count": 0,
      "outputs": []
    },
    {
      "cell_type": "code",
      "metadata": {
        "colab_type": "code",
        "id": "5jhAq0-3TONj",
        "outputId": "5aa61405-b90e-4815-f69c-0d94e7034a5f",
        "colab": {
          "base_uri": "https://localhost:8080/",
          "height": 280
        }
      },
      "source": [
        "# remove the original categorical variables\n",
        "data_vars = insurance_df.columns.values.tolist()\n",
        "selected_columns = list(set(data_vars).difference(set(cat_vars)))\n",
        "# np.array(selected_columns)\n",
        "\n",
        "# now only get variables after converting to dummy variables\n",
        "data = insurance_df[selected_columns]\n",
        "data.head()"
      ],
      "execution_count": 0,
      "outputs": [
        {
          "output_type": "execute_result",
          "data": {
            "text/html": [
              "<div>\n",
              "<style scoped>\n",
              "    .dataframe tbody tr th:only-of-type {\n",
              "        vertical-align: middle;\n",
              "    }\n",
              "\n",
              "    .dataframe tbody tr th {\n",
              "        vertical-align: top;\n",
              "    }\n",
              "\n",
              "    .dataframe thead th {\n",
              "        text-align: right;\n",
              "    }\n",
              "</style>\n",
              "<table border=\"1\" class=\"dataframe\">\n",
              "  <thead>\n",
              "    <tr style=\"text-align: right;\">\n",
              "      <th></th>\n",
              "      <th>MONEY_MONTLY_OVERDRAWN</th>\n",
              "      <th>MONTHLY_CHECKS_WRITTEN</th>\n",
              "      <th>AGE</th>\n",
              "      <th>var_PROF-29</th>\n",
              "      <th>var_PROF-20</th>\n",
              "      <th>var_DBA</th>\n",
              "      <th>CREDIT_BALANCE</th>\n",
              "      <th>N_MORTGAGES</th>\n",
              "      <th>var_Administrator</th>\n",
              "      <th>var_PROF-4</th>\n",
              "      <th>var_OH</th>\n",
              "      <th>LTV</th>\n",
              "      <th>var_F</th>\n",
              "      <th>var_Fireman</th>\n",
              "      <th>TIME_AS_CUSTOMER</th>\n",
              "      <th>var_UT</th>\n",
              "      <th>var_PROF-2</th>\n",
              "      <th>T_AMOUNT_AUTOM_PAYMENTS</th>\n",
              "      <th>var_Mason</th>\n",
              "      <th>var_IL</th>\n",
              "      <th>BANK_FUNDS</th>\n",
              "      <th>var_PROF-57</th>\n",
              "      <th>var_PROF-55</th>\n",
              "      <th>var_NorthEast</th>\n",
              "      <th>N_TRANS_WEB_BANK</th>\n",
              "      <th>BUY_INSURANCE</th>\n",
              "      <th>var_Nurse</th>\n",
              "      <th>var_PROF-11</th>\n",
              "      <th>var_PROF-51</th>\n",
              "      <th>var_AK</th>\n",
              "      <th>var_PROF-60</th>\n",
              "      <th>var_PROF-40</th>\n",
              "      <th>var_PROF-22</th>\n",
              "      <th>var_OK</th>\n",
              "      <th>var_PROF-47</th>\n",
              "      <th>var_PROF-61</th>\n",
              "      <th>var_TX</th>\n",
              "      <th>var_PROF-26</th>\n",
              "      <th>var_PROF-6</th>\n",
              "      <th>N_TRANS_KIOSK</th>\n",
              "      <th>...</th>\n",
              "      <th>var_PROF-33</th>\n",
              "      <th>var_PROF-36</th>\n",
              "      <th>var_PROF-18</th>\n",
              "      <th>var_WIDOWED</th>\n",
              "      <th>var_PROF-7</th>\n",
              "      <th>var_South</th>\n",
              "      <th>var_Bank Teller</th>\n",
              "      <th>LTV_BIN</th>\n",
              "      <th>var_PROF-34</th>\n",
              "      <th>var_PROF-48</th>\n",
              "      <th>var_PROF-9</th>\n",
              "      <th>var_OR</th>\n",
              "      <th>var_NY</th>\n",
              "      <th>var_Southwest</th>\n",
              "      <th>var_PROF-14</th>\n",
              "      <th>var_Construction Laborer</th>\n",
              "      <th>var_PROF-30</th>\n",
              "      <th>var_PROF-3</th>\n",
              "      <th>CAR_OWNERSHIP</th>\n",
              "      <th>var_Medical Doctor</th>\n",
              "      <th>var_PROF-5</th>\n",
              "      <th>var_PROF-12</th>\n",
              "      <th>var_MARRIED</th>\n",
              "      <th>var_Law Enforcement Officer</th>\n",
              "      <th>var_PROF-52</th>\n",
              "      <th>var_PROF-59</th>\n",
              "      <th>var_PROF-56</th>\n",
              "      <th>var_Accountant</th>\n",
              "      <th>var_PROF-21</th>\n",
              "      <th>var_DIVORCED</th>\n",
              "      <th>var_Plumber</th>\n",
              "      <th>N_OF_DEPENDENTS</th>\n",
              "      <th>var_PROF-54</th>\n",
              "      <th>N_TRANS_ATM</th>\n",
              "      <th>var_Programmer/Developer</th>\n",
              "      <th>var_Clerical</th>\n",
              "      <th>var_PROF-41</th>\n",
              "      <th>var_PROF-13</th>\n",
              "      <th>var_PROF-8</th>\n",
              "      <th>var_Midwest</th>\n",
              "    </tr>\n",
              "  </thead>\n",
              "  <tbody>\n",
              "    <tr>\n",
              "      <th>0</th>\n",
              "      <td>53.06</td>\n",
              "      <td>0</td>\n",
              "      <td>63</td>\n",
              "      <td>0</td>\n",
              "      <td>0</td>\n",
              "      <td>0</td>\n",
              "      <td>0</td>\n",
              "      <td>0</td>\n",
              "      <td>0</td>\n",
              "      <td>0</td>\n",
              "      <td>0</td>\n",
              "      <td>22165.25</td>\n",
              "      <td>0</td>\n",
              "      <td>0</td>\n",
              "      <td>2</td>\n",
              "      <td>0</td>\n",
              "      <td>0</td>\n",
              "      <td>504</td>\n",
              "      <td>0</td>\n",
              "      <td>0</td>\n",
              "      <td>0</td>\n",
              "      <td>0</td>\n",
              "      <td>0</td>\n",
              "      <td>0</td>\n",
              "      <td>0</td>\n",
              "      <td>0</td>\n",
              "      <td>0</td>\n",
              "      <td>0</td>\n",
              "      <td>0</td>\n",
              "      <td>0</td>\n",
              "      <td>0</td>\n",
              "      <td>0</td>\n",
              "      <td>0</td>\n",
              "      <td>0</td>\n",
              "      <td>0</td>\n",
              "      <td>0</td>\n",
              "      <td>0</td>\n",
              "      <td>0</td>\n",
              "      <td>0</td>\n",
              "      <td>2</td>\n",
              "      <td>...</td>\n",
              "      <td>0</td>\n",
              "      <td>0</td>\n",
              "      <td>0</td>\n",
              "      <td>0</td>\n",
              "      <td>0</td>\n",
              "      <td>0</td>\n",
              "      <td>0</td>\n",
              "      <td>HIGH</td>\n",
              "      <td>0</td>\n",
              "      <td>0</td>\n",
              "      <td>0</td>\n",
              "      <td>0</td>\n",
              "      <td>0</td>\n",
              "      <td>0</td>\n",
              "      <td>0</td>\n",
              "      <td>0</td>\n",
              "      <td>0</td>\n",
              "      <td>0</td>\n",
              "      <td>1</td>\n",
              "      <td>0</td>\n",
              "      <td>0</td>\n",
              "      <td>0</td>\n",
              "      <td>0</td>\n",
              "      <td>0</td>\n",
              "      <td>0</td>\n",
              "      <td>0</td>\n",
              "      <td>0</td>\n",
              "      <td>0</td>\n",
              "      <td>0</td>\n",
              "      <td>0</td>\n",
              "      <td>0</td>\n",
              "      <td>0</td>\n",
              "      <td>0</td>\n",
              "      <td>0</td>\n",
              "      <td>0</td>\n",
              "      <td>0</td>\n",
              "      <td>0</td>\n",
              "      <td>0</td>\n",
              "      <td>0</td>\n",
              "      <td>0</td>\n",
              "    </tr>\n",
              "    <tr>\n",
              "      <th>1</th>\n",
              "      <td>54.51</td>\n",
              "      <td>3</td>\n",
              "      <td>36</td>\n",
              "      <td>0</td>\n",
              "      <td>0</td>\n",
              "      <td>0</td>\n",
              "      <td>0</td>\n",
              "      <td>1</td>\n",
              "      <td>0</td>\n",
              "      <td>0</td>\n",
              "      <td>0</td>\n",
              "      <td>22167.75</td>\n",
              "      <td>0</td>\n",
              "      <td>0</td>\n",
              "      <td>1</td>\n",
              "      <td>0</td>\n",
              "      <td>0</td>\n",
              "      <td>1311</td>\n",
              "      <td>0</td>\n",
              "      <td>0</td>\n",
              "      <td>2900</td>\n",
              "      <td>0</td>\n",
              "      <td>0</td>\n",
              "      <td>0</td>\n",
              "      <td>3063</td>\n",
              "      <td>1</td>\n",
              "      <td>0</td>\n",
              "      <td>0</td>\n",
              "      <td>0</td>\n",
              "      <td>0</td>\n",
              "      <td>0</td>\n",
              "      <td>0</td>\n",
              "      <td>0</td>\n",
              "      <td>0</td>\n",
              "      <td>0</td>\n",
              "      <td>0</td>\n",
              "      <td>0</td>\n",
              "      <td>0</td>\n",
              "      <td>0</td>\n",
              "      <td>0</td>\n",
              "      <td>...</td>\n",
              "      <td>0</td>\n",
              "      <td>0</td>\n",
              "      <td>0</td>\n",
              "      <td>0</td>\n",
              "      <td>0</td>\n",
              "      <td>0</td>\n",
              "      <td>0</td>\n",
              "      <td>HIGH</td>\n",
              "      <td>0</td>\n",
              "      <td>0</td>\n",
              "      <td>1</td>\n",
              "      <td>0</td>\n",
              "      <td>0</td>\n",
              "      <td>0</td>\n",
              "      <td>0</td>\n",
              "      <td>0</td>\n",
              "      <td>0</td>\n",
              "      <td>0</td>\n",
              "      <td>1</td>\n",
              "      <td>0</td>\n",
              "      <td>0</td>\n",
              "      <td>0</td>\n",
              "      <td>0</td>\n",
              "      <td>0</td>\n",
              "      <td>0</td>\n",
              "      <td>0</td>\n",
              "      <td>0</td>\n",
              "      <td>0</td>\n",
              "      <td>0</td>\n",
              "      <td>1</td>\n",
              "      <td>0</td>\n",
              "      <td>1</td>\n",
              "      <td>0</td>\n",
              "      <td>5</td>\n",
              "      <td>0</td>\n",
              "      <td>0</td>\n",
              "      <td>0</td>\n",
              "      <td>0</td>\n",
              "      <td>0</td>\n",
              "      <td>0</td>\n",
              "    </tr>\n",
              "    <tr>\n",
              "      <th>2</th>\n",
              "      <td>53.02</td>\n",
              "      <td>4</td>\n",
              "      <td>21</td>\n",
              "      <td>0</td>\n",
              "      <td>0</td>\n",
              "      <td>0</td>\n",
              "      <td>0</td>\n",
              "      <td>0</td>\n",
              "      <td>0</td>\n",
              "      <td>0</td>\n",
              "      <td>0</td>\n",
              "      <td>13784.50</td>\n",
              "      <td>0</td>\n",
              "      <td>0</td>\n",
              "      <td>3</td>\n",
              "      <td>0</td>\n",
              "      <td>0</td>\n",
              "      <td>539</td>\n",
              "      <td>0</td>\n",
              "      <td>0</td>\n",
              "      <td>500</td>\n",
              "      <td>0</td>\n",
              "      <td>0</td>\n",
              "      <td>0</td>\n",
              "      <td>0</td>\n",
              "      <td>1</td>\n",
              "      <td>0</td>\n",
              "      <td>0</td>\n",
              "      <td>0</td>\n",
              "      <td>0</td>\n",
              "      <td>0</td>\n",
              "      <td>0</td>\n",
              "      <td>0</td>\n",
              "      <td>0</td>\n",
              "      <td>0</td>\n",
              "      <td>0</td>\n",
              "      <td>0</td>\n",
              "      <td>0</td>\n",
              "      <td>0</td>\n",
              "      <td>4</td>\n",
              "      <td>...</td>\n",
              "      <td>0</td>\n",
              "      <td>0</td>\n",
              "      <td>0</td>\n",
              "      <td>0</td>\n",
              "      <td>0</td>\n",
              "      <td>1</td>\n",
              "      <td>0</td>\n",
              "      <td>LOW</td>\n",
              "      <td>0</td>\n",
              "      <td>0</td>\n",
              "      <td>0</td>\n",
              "      <td>0</td>\n",
              "      <td>0</td>\n",
              "      <td>0</td>\n",
              "      <td>0</td>\n",
              "      <td>0</td>\n",
              "      <td>0</td>\n",
              "      <td>0</td>\n",
              "      <td>1</td>\n",
              "      <td>0</td>\n",
              "      <td>0</td>\n",
              "      <td>0</td>\n",
              "      <td>0</td>\n",
              "      <td>0</td>\n",
              "      <td>0</td>\n",
              "      <td>0</td>\n",
              "      <td>0</td>\n",
              "      <td>0</td>\n",
              "      <td>0</td>\n",
              "      <td>0</td>\n",
              "      <td>0</td>\n",
              "      <td>3</td>\n",
              "      <td>0</td>\n",
              "      <td>2</td>\n",
              "      <td>1</td>\n",
              "      <td>0</td>\n",
              "      <td>0</td>\n",
              "      <td>0</td>\n",
              "      <td>0</td>\n",
              "      <td>0</td>\n",
              "    </tr>\n",
              "    <tr>\n",
              "      <th>3</th>\n",
              "      <td>57.70</td>\n",
              "      <td>17</td>\n",
              "      <td>47</td>\n",
              "      <td>0</td>\n",
              "      <td>0</td>\n",
              "      <td>0</td>\n",
              "      <td>56297</td>\n",
              "      <td>1</td>\n",
              "      <td>0</td>\n",
              "      <td>0</td>\n",
              "      <td>0</td>\n",
              "      <td>24467.75</td>\n",
              "      <td>1</td>\n",
              "      <td>0</td>\n",
              "      <td>1</td>\n",
              "      <td>0</td>\n",
              "      <td>0</td>\n",
              "      <td>59437</td>\n",
              "      <td>0</td>\n",
              "      <td>0</td>\n",
              "      <td>12500</td>\n",
              "      <td>0</td>\n",
              "      <td>0</td>\n",
              "      <td>0</td>\n",
              "      <td>3000</td>\n",
              "      <td>1</td>\n",
              "      <td>0</td>\n",
              "      <td>0</td>\n",
              "      <td>0</td>\n",
              "      <td>0</td>\n",
              "      <td>0</td>\n",
              "      <td>0</td>\n",
              "      <td>0</td>\n",
              "      <td>0</td>\n",
              "      <td>0</td>\n",
              "      <td>0</td>\n",
              "      <td>0</td>\n",
              "      <td>0</td>\n",
              "      <td>0</td>\n",
              "      <td>3</td>\n",
              "      <td>...</td>\n",
              "      <td>0</td>\n",
              "      <td>0</td>\n",
              "      <td>0</td>\n",
              "      <td>0</td>\n",
              "      <td>0</td>\n",
              "      <td>0</td>\n",
              "      <td>0</td>\n",
              "      <td>HIGH</td>\n",
              "      <td>0</td>\n",
              "      <td>0</td>\n",
              "      <td>0</td>\n",
              "      <td>0</td>\n",
              "      <td>0</td>\n",
              "      <td>0</td>\n",
              "      <td>0</td>\n",
              "      <td>0</td>\n",
              "      <td>0</td>\n",
              "      <td>0</td>\n",
              "      <td>1</td>\n",
              "      <td>0</td>\n",
              "      <td>0</td>\n",
              "      <td>0</td>\n",
              "      <td>0</td>\n",
              "      <td>0</td>\n",
              "      <td>0</td>\n",
              "      <td>0</td>\n",
              "      <td>0</td>\n",
              "      <td>0</td>\n",
              "      <td>0</td>\n",
              "      <td>0</td>\n",
              "      <td>0</td>\n",
              "      <td>1</td>\n",
              "      <td>0</td>\n",
              "      <td>6</td>\n",
              "      <td>0</td>\n",
              "      <td>0</td>\n",
              "      <td>0</td>\n",
              "      <td>0</td>\n",
              "      <td>0</td>\n",
              "      <td>0</td>\n",
              "    </tr>\n",
              "    <tr>\n",
              "      <th>4</th>\n",
              "      <td>53.06</td>\n",
              "      <td>0</td>\n",
              "      <td>26</td>\n",
              "      <td>0</td>\n",
              "      <td>0</td>\n",
              "      <td>0</td>\n",
              "      <td>0</td>\n",
              "      <td>1</td>\n",
              "      <td>0</td>\n",
              "      <td>0</td>\n",
              "      <td>0</td>\n",
              "      <td>23518.50</td>\n",
              "      <td>0</td>\n",
              "      <td>0</td>\n",
              "      <td>3</td>\n",
              "      <td>1</td>\n",
              "      <td>0</td>\n",
              "      <td>0</td>\n",
              "      <td>0</td>\n",
              "      <td>0</td>\n",
              "      <td>0</td>\n",
              "      <td>0</td>\n",
              "      <td>0</td>\n",
              "      <td>0</td>\n",
              "      <td>300</td>\n",
              "      <td>0</td>\n",
              "      <td>0</td>\n",
              "      <td>0</td>\n",
              "      <td>0</td>\n",
              "      <td>0</td>\n",
              "      <td>0</td>\n",
              "      <td>0</td>\n",
              "      <td>0</td>\n",
              "      <td>0</td>\n",
              "      <td>0</td>\n",
              "      <td>0</td>\n",
              "      <td>0</td>\n",
              "      <td>0</td>\n",
              "      <td>0</td>\n",
              "      <td>5</td>\n",
              "      <td>...</td>\n",
              "      <td>0</td>\n",
              "      <td>0</td>\n",
              "      <td>0</td>\n",
              "      <td>0</td>\n",
              "      <td>0</td>\n",
              "      <td>0</td>\n",
              "      <td>0</td>\n",
              "      <td>HIGH</td>\n",
              "      <td>0</td>\n",
              "      <td>0</td>\n",
              "      <td>0</td>\n",
              "      <td>0</td>\n",
              "      <td>0</td>\n",
              "      <td>1</td>\n",
              "      <td>0</td>\n",
              "      <td>0</td>\n",
              "      <td>0</td>\n",
              "      <td>0</td>\n",
              "      <td>1</td>\n",
              "      <td>0</td>\n",
              "      <td>0</td>\n",
              "      <td>0</td>\n",
              "      <td>0</td>\n",
              "      <td>0</td>\n",
              "      <td>0</td>\n",
              "      <td>0</td>\n",
              "      <td>0</td>\n",
              "      <td>0</td>\n",
              "      <td>0</td>\n",
              "      <td>0</td>\n",
              "      <td>0</td>\n",
              "      <td>3</td>\n",
              "      <td>0</td>\n",
              "      <td>0</td>\n",
              "      <td>0</td>\n",
              "      <td>0</td>\n",
              "      <td>0</td>\n",
              "      <td>0</td>\n",
              "      <td>0</td>\n",
              "      <td>0</td>\n",
              "    </tr>\n",
              "  </tbody>\n",
              "</table>\n",
              "<p>5 rows × 148 columns</p>\n",
              "</div>"
            ],
            "text/plain": [
              "   MONEY_MONTLY_OVERDRAWN  MONTHLY_CHECKS_WRITTEN  ...  var_PROF-8  var_Midwest\n",
              "0                   53.06                       0  ...           0            0\n",
              "1                   54.51                       3  ...           0            0\n",
              "2                   53.02                       4  ...           0            0\n",
              "3                   57.70                      17  ...           0            0\n",
              "4                   53.06                       0  ...           0            0\n",
              "\n",
              "[5 rows x 148 columns]"
            ]
          },
          "metadata": {
            "tags": []
          },
          "execution_count": 6
        }
      ]
    },
    {
      "cell_type": "markdown",
      "metadata": {
        "colab_type": "text",
        "id": "UftRPDd3sU3R"
      },
      "source": [
        "Simply set a threshold on the correlation with the target variable"
      ]
    },
    {
      "cell_type": "code",
      "metadata": {
        "colab_type": "code",
        "id": "bM0wNOXFTONl",
        "outputId": "9c676982-fe5a-412f-aade-4b356475a9f0",
        "colab": {
          "base_uri": "https://localhost:8080/",
          "height": 300
        }
      },
      "source": [
        "# Simple thresholds\n",
        "relevant_features = []\n",
        "for col in data.columns:\n",
        "    thres = 0.1\n",
        "    try:\n",
        "        corr = data['BUY_INSURANCE'].corr(data[col])\n",
        "    except:\n",
        "        print(col)\n",
        "        \n",
        "    if abs(corr) > thres:\n",
        "        relevant_features.append(col)\n",
        "    \n",
        "relevant_features"
      ],
      "execution_count": 0,
      "outputs": [
        {
          "output_type": "stream",
          "text": [
            "LTV_BIN\n"
          ],
          "name": "stdout"
        },
        {
          "output_type": "execute_result",
          "data": {
            "text/plain": [
              "['MONEY_MONTLY_OVERDRAWN',\n",
              " 'MONTHLY_CHECKS_WRITTEN',\n",
              " 'var_F',\n",
              " 'BANK_FUNDS',\n",
              " 'BUY_INSURANCE',\n",
              " 'var_Nurse',\n",
              " 'N_TRANS_TELLER',\n",
              " 'CHECKING_AMOUNT',\n",
              " 'var_M',\n",
              " 'var_SINGLE',\n",
              " 'var_NC',\n",
              " 'var_DIVORCED',\n",
              " 'N_OF_DEPENDENTS',\n",
              " 'N_TRANS_ATM',\n",
              " 'var_Programmer/Developer',\n",
              " 'var_PROF-8']"
            ]
          },
          "metadata": {
            "tags": []
          },
          "execution_count": 7
        }
      ]
    },
    {
      "cell_type": "code",
      "metadata": {
        "colab_type": "code",
        "id": "niuONAxATONp",
        "colab": {}
      },
      "source": [
        "data = data[relevant_features]"
      ],
      "execution_count": 0,
      "outputs": []
    },
    {
      "cell_type": "code",
      "metadata": {
        "colab_type": "code",
        "id": "dQKL70VFTONt",
        "colab": {}
      },
      "source": [
        "from sklearn.model_selection import train_test_split\n",
        "X = data[data.columns.difference(['BUY_INSURANCE','LTV_BIN'])]"
      ],
      "execution_count": 0,
      "outputs": []
    },
    {
      "cell_type": "code",
      "metadata": {
        "colab_type": "code",
        "id": "AIXUzU65TONv",
        "colab": {}
      },
      "source": [
        "# Min-max scaling. Not really necessary for NN, but a must if using any distance measure\n",
        "from sklearn.preprocessing import MinMaxScaler\n",
        "scaler = MinMaxScaler()\n",
        "X = scaler.fit_transform(X)\n",
        "y = data[['BUY_INSURANCE']].values.astype('float64')"
      ],
      "execution_count": 0,
      "outputs": []
    },
    {
      "cell_type": "markdown",
      "metadata": {
        "colab_type": "text",
        "id": "yKA8tp1ZTONz"
      },
      "source": [
        "This is an unbalance data set so we use imblearn to under/over-sample the data set. "
      ]
    },
    {
      "cell_type": "code",
      "metadata": {
        "colab_type": "code",
        "id": "I7cXiRhLTON1",
        "outputId": "430f3710-1b75-4887-8aa3-34f879c7c810",
        "colab": {
          "base_uri": "https://localhost:8080/",
          "height": 70
        }
      },
      "source": [
        "from imblearn.over_sampling import RandomOverSampler\n",
        "from imblearn.under_sampling import RandomUnderSampler\n",
        "from sklearn.utils import shuffle\n",
        "from sklearn.model_selection import train_test_split\n",
        "X_train, X_test, y_train, y_test = train_test_split(X, y, test_size=0.3, random_state=0)\n",
        "X_resampled, y_resampled = RandomUnderSampler(random_state=0).fit_sample(X_train, y_train)\n",
        "X_resampled, y_resampled = shuffle(X_resampled, y_resampled)"
      ],
      "execution_count": 0,
      "outputs": [
        {
          "output_type": "stream",
          "text": [
            "/usr/local/lib/python3.6/dist-packages/sklearn/externals/six.py:31: DeprecationWarning: The module is deprecated in version 0.21 and will be removed in version 0.23 since we've dropped support for Python 2.7. Please rely on the official version of six (https://pypi.org/project/six/).\n",
            "  \"(https://pypi.org/project/six/).\", DeprecationWarning)\n"
          ],
          "name": "stderr"
        }
      ]
    },
    {
      "cell_type": "markdown",
      "metadata": {
        "colab_type": "text",
        "id": "wo65o5FsTON8"
      },
      "source": [
        "Now the class distribution is balanced"
      ]
    },
    {
      "cell_type": "code",
      "metadata": {
        "colab_type": "code",
        "id": "yeJ_-iZXTON-",
        "outputId": "b5131adf-af7c-449b-dc5a-5a4f21e62b51",
        "colab": {
          "base_uri": "https://localhost:8080/",
          "height": 137
        }
      },
      "source": [
        "y_train_df= pd.DataFrame(data=y_resampled,columns=['BUY_INSURANCE'])\n",
        "y_train_df.groupby(['BUY_INSURANCE'])[['BUY_INSURANCE']].count()"
      ],
      "execution_count": 0,
      "outputs": [
        {
          "output_type": "execute_result",
          "data": {
            "text/html": [
              "<div>\n",
              "<style scoped>\n",
              "    .dataframe tbody tr th:only-of-type {\n",
              "        vertical-align: middle;\n",
              "    }\n",
              "\n",
              "    .dataframe tbody tr th {\n",
              "        vertical-align: top;\n",
              "    }\n",
              "\n",
              "    .dataframe thead th {\n",
              "        text-align: right;\n",
              "    }\n",
              "</style>\n",
              "<table border=\"1\" class=\"dataframe\">\n",
              "  <thead>\n",
              "    <tr style=\"text-align: right;\">\n",
              "      <th></th>\n",
              "      <th>BUY_INSURANCE</th>\n",
              "    </tr>\n",
              "    <tr>\n",
              "      <th>BUY_INSURANCE</th>\n",
              "      <th></th>\n",
              "    </tr>\n",
              "  </thead>\n",
              "  <tbody>\n",
              "    <tr>\n",
              "      <th>0.0</th>\n",
              "      <td>118</td>\n",
              "    </tr>\n",
              "    <tr>\n",
              "      <th>1.0</th>\n",
              "      <td>118</td>\n",
              "    </tr>\n",
              "  </tbody>\n",
              "</table>\n",
              "</div>"
            ],
            "text/plain": [
              "               BUY_INSURANCE\n",
              "BUY_INSURANCE               \n",
              "0.0                      118\n",
              "1.0                      118"
            ]
          },
          "metadata": {
            "tags": []
          },
          "execution_count": 12
        }
      ]
    },
    {
      "cell_type": "markdown",
      "metadata": {
        "colab_type": "text",
        "id": "N-IQfxPaTOOC"
      },
      "source": [
        "## Training, Validation, and Testing"
      ]
    },
    {
      "cell_type": "code",
      "metadata": {
        "colab_type": "code",
        "id": "5KPqRKFRTOOD",
        "colab": {}
      },
      "source": [
        "def display_scores(scores): \n",
        "    print(\"Scores:\", scores) \n",
        "    print(\"Mean:\", scores.mean()) \n",
        "    print(\"Standard deviation:\", scores.std())"
      ],
      "execution_count": 0,
      "outputs": []
    },
    {
      "cell_type": "markdown",
      "metadata": {
        "colab_type": "text",
        "id": "MKPOgeSezQag"
      },
      "source": [
        "If you use TensorBoard then start it as below, specifying the root log directory you used above. Wait a few seconds for TensorBoard's UI to spin up. You may see TensorBoard display the message \"No dashboards are active for the current data set\". That's because initial logging data hasn't been saved yet. As training progresses, the Keras model will start logging data. TensorBoard will periodically refresh and show you your scalar metrics. If you're impatient, you can tap the Refresh arrow at the top right"
      ]
    },
    {
      "cell_type": "markdown",
      "metadata": {
        "colab_type": "text",
        "id": "IBz_W9ZTzy4K"
      },
      "source": [
        "Now training, check back the tensorboard to see the charts (if use Tensorboard)"
      ]
    },
    {
      "cell_type": "code",
      "metadata": {
        "colab_type": "code",
        "id": "TVGez5bETOOH",
        "outputId": "245c8708-8ef0-4eaa-f0f5-6087b6800abc",
        "colab": {
          "base_uri": "https://localhost:8080/",
          "height": 35
        }
      },
      "source": [
        "# Sequential API\n",
        "import tensorflow as tf\n",
        "from tensorflow import keras\n",
        "\n",
        "from tensorflow.python.keras.models import Sequential\n",
        "from tensorflow.python.keras.layers import Dense\n",
        "from tensorflow.python.keras.layers import Dropout\n",
        "from datetime import datetime\n",
        "\n",
        "input_dim = len(X_resampled[0])\n",
        "output_dim = 1\n",
        "nodes = 200\n",
        "layers = 5\n",
        "\n",
        "logdir = \"logs/\" + datetime.now().strftime(\"%Y%m%d-%H%M%S\")\n",
        "early_stopping_cb = keras.callbacks.EarlyStopping(patience=10) \n",
        "tensorboard_cb = keras.callbacks.TensorBoard(log_dir=logdir)\n",
        "\n",
        "model = Sequential()\n",
        "model.add(Dropout(0.1, input_shape=(input_dim,))) # dropout regularization\n",
        "\n",
        "for i in range(layers):\n",
        "    model.add(Dense(nodes, input_dim=input_dim, activation='relu'))\n",
        "    \n",
        "model.add(Dense(output_dim, activation='sigmoid'))\n",
        "\n",
        "# Compile model\n",
        "model.compile(loss='binary_crossentropy', \n",
        "              optimizer='adam', \n",
        "              metrics=['accuracy'])\n",
        "\n",
        "#history = model.fit(X_resampled, y_resampled, epochs=100, batch_size=20, verbose=0, validation_split=0.2)\n",
        "history = model.fit(X_resampled, y_resampled, epochs=100, batch_size=20, verbose=0, validation_split=0.2, callbacks=[early_stopping_cb, tensorboard_cb]) # Use this line if want to try Tensorboard"
      ],
      "execution_count": 0,
      "outputs": [
        {
          "output_type": "stream",
          "text": [
            "WARNING:tensorflow:Method (on_train_batch_end) is slow compared to the batch update (0.165726). Check your callbacks.\n"
          ],
          "name": "stdout"
        }
      ]
    },
    {
      "cell_type": "code",
      "metadata": {
        "colab_type": "code",
        "id": "m4QzBw3RFqoA",
        "outputId": "66eb977d-b594-4d09-8238-f892eca429e1",
        "colab": {
          "base_uri": "https://localhost:8080/",
          "height": 54
        }
      },
      "source": [
        "# Scores for training and validation set\n",
        "print(history.history['acc'][-1])\n",
        "print(history.history['val_acc'][-1])"
      ],
      "execution_count": 0,
      "outputs": [
        {
          "output_type": "stream",
          "text": [
            "0.8031915\n",
            "0.75\n"
          ],
          "name": "stdout"
        }
      ]
    },
    {
      "cell_type": "code",
      "metadata": {
        "colab_type": "code",
        "id": "oQl-MF-MCTuJ",
        "outputId": "3d552cd0-f97d-4dd0-d566-b6b72f0625f9",
        "colab": {
          "base_uri": "https://localhost:8080/",
          "height": 574
        }
      },
      "source": [
        "# plotting history for accuracy\n",
        "plt.plot(history.history['acc'])\n",
        "plt.plot(history.history['val_acc'])\n",
        "plt.title('model accuracy')\n",
        "plt.ylabel('accuracy')\n",
        "plt.xlabel('epoch')\n",
        "plt.legend(['train', 'test'], loc='upper left')\n",
        "plt.show()\n",
        "\n",
        "# plotting history for loss\n",
        "plt.plot(history.history['loss'])\n",
        "plt.plot(history.history['val_loss'])\n",
        "plt.title('model loss')\n",
        "plt.ylabel('loss')\n",
        "plt.xlabel('epoch')\n",
        "plt.legend(['train', 'test'], loc='upper left')\n",
        "plt.show()"
      ],
      "execution_count": 0,
      "outputs": [
        {
          "output_type": "display_data",
          "data": {
            "image/png": "[encoded data removed]",
            "text/plain": [
              "<Figure size 432x288 with 1 Axes>"
            ]
          },
          "metadata": {
            "tags": []
          }
        },
        {
          "output_type": "display_data",
          "data": {
            "image/png": "[encoded data removed]",
            "text/plain": [
              "<Figure size 432x288 with 1 Axes>"
            ]
          },
          "metadata": {
            "tags": []
          }
        }
      ]
    },
    {
      "cell_type": "markdown",
      "metadata": {
        "colab_type": "text",
        "id": "s4YJ0K34s-ww"
      },
      "source": [
        "Have a look at the loss and accuracy. If validation is close to training would mean not overfitting. If overfitting, will need to adjust regularization, feature selection,..."
      ]
    },
    {
      "cell_type": "code",
      "metadata": {
        "colab_type": "code",
        "id": "mAAYUtH9TOOK",
        "outputId": "de631125-0d7b-4798-99f6-ab0fafb1e2f4",
        "colab": {
          "base_uri": "https://localhost:8080/",
          "height": 343
        }
      },
      "source": [
        "#Another way of viewing loss/accuracy using pandas\n",
        "import pandas as pd\n",
        "pd.DataFrame(history.history).plot(figsize=(8, 5)) \n",
        "plt.grid(True) \n",
        "plt.gca().set_ylim(0, 1) # set the vertical range to [0-1] plt.show()"
      ],
      "execution_count": 0,
      "outputs": [
        {
          "output_type": "execute_result",
          "data": {
            "text/plain": [
              "(0, 1)"
            ]
          },
          "metadata": {
            "tags": []
          },
          "execution_count": 41
        },
        {
          "output_type": "display_data",
          "data": {
            "image/png": "[encoded data removed]",
            "text/plain": [
              "<Figure size 576x360 with 1 Axes>"
            ]
          },
          "metadata": {
            "tags": []
          }
        }
      ]
    },
    {
      "cell_type": "markdown",
      "metadata": {
        "colab_type": "text",
        "id": "7nCIyb55tUzU"
      },
      "source": [
        "Model evaluation using the test set: loss and accuracy "
      ]
    },
    {
      "cell_type": "code",
      "metadata": {
        "colab_type": "code",
        "id": "XACcreMPTOON",
        "outputId": "8ebca9c5-bdfa-4a2b-a4df-311c7eaf9a69",
        "colab": {
          "base_uri": "https://localhost:8080/",
          "height": 54
        }
      },
      "source": [
        "model.evaluate(X_test, y_test)"
      ],
      "execution_count": 0,
      "outputs": [
        {
          "output_type": "stream",
          "text": [
            "213/213 [==============================] - 0s 178us/sample - loss: 0.6812 - acc: 0.6901\n"
          ],
          "name": "stdout"
        },
        {
          "output_type": "execute_result",
          "data": {
            "text/plain": [
              "[0.6812399186438798, 0.69014084]"
            ]
          },
          "metadata": {
            "tags": []
          },
          "execution_count": 42
        }
      ]
    },
    {
      "cell_type": "code",
      "metadata": {
        "colab_type": "code",
        "id": "KYB1J84wBeQG",
        "outputId": "1c49e104-77f1-4fdd-e1b5-b1ef5d49e6e7",
        "colab": {
          "base_uri": "https://localhost:8080/",
          "height": 217
        }
      },
      "source": [
        "y_test_pred = model.predict(X_test)\n",
        "\n",
        "from sklearn.metrics import confusion_matrix\n",
        "from sklearn.metrics import classification_report\n",
        "confusion_matrix = confusion_matrix(y_test, y_test_pred.round())\n",
        "print(confusion_matrix)\n",
        "print(classification_report(y_test, y_test_pred.round()))"
      ],
      "execution_count": 0,
      "outputs": [
        {
          "output_type": "stream",
          "text": [
            "[[93 57]\n",
            " [ 9 54]]\n",
            "              precision    recall  f1-score   support\n",
            "\n",
            "         0.0       0.91      0.62      0.74       150\n",
            "         1.0       0.49      0.86      0.62        63\n",
            "\n",
            "    accuracy                           0.69       213\n",
            "   macro avg       0.70      0.74      0.68       213\n",
            "weighted avg       0.79      0.69      0.70       213\n",
            "\n"
          ],
          "name": "stdout"
        }
      ]
    },
    {
      "cell_type": "markdown",
      "metadata": {
        "colab_type": "text",
        "id": "vbcmLfwQttBU"
      },
      "source": [
        "We use a split for validation previously. Let's also try K-fold cross validation: 1 for validation and K-1 folds for training (specified using cv parameter). cross_val_score() return scores for the validation sets, and compare with validation split result"
      ]
    },
    {
      "cell_type": "markdown",
      "metadata": {
        "colab_type": "text",
        "id": "XCfXUJcCTOOQ"
      },
      "source": [
        "However we would want to train many variant models and choose the best one, so we would use Grid Search or Randomized Search. Parameter grid may have multiple hyperparameters. Note that if the best parameter value is at either ends, should continue searching past the ends."
      ]
    },
    {
      "cell_type": "markdown",
      "metadata": {
        "colab_type": "text",
        "id": "_tnYtaa8TOO6"
      },
      "source": [
        "## Your work"
      ]
    },
    {
      "cell_type": "markdown",
      "metadata": {
        "colab_type": "text",
        "id": "Z6J_Rv_VTOO-"
      },
      "source": [
        "Starting here write your own neural network code. To train, use X_resampled and y_resampled. To test, use X_test, y_test. Compute the accuracy, confusion matrix, precision, recall. Start with writing individual functions, then the main code that calls the functions above to train a model using the training data and return theta, then test the model using the test data, compute accuracy, confusion matrix, precision, recall"
      ]
    },
    {
      "cell_type": "code",
      "metadata": {
        "colab_type": "code",
        "id": "lzE43bc5TOO_",
        "colab": {}
      },
      "source": [
        "# Source: https://github.com/SSQ/Coursera-Ng-Neural-Networks-and-Deep-Learning/tree/master/Week%204%20PA%201\n",
        "#The model is derived from Andrew Ng's coursera courses, but we just need to add regulazation into the cost funtions.\n",
        "import numpy as np\n",
        "import math\n",
        "from sklearn import preprocessing\n",
        "# Should use the same training/test datasets above: X_resampled, y_resampled, X_test_os, y_test_os\n",
        "\n",
        "  \n",
        "# function that normalizes each predictor\n",
        "\n",
        "def normalize(X):\n",
        "    Xnorm=np.linalg.norm(X, ord=1)\n",
        "    if Xnorm==0:\n",
        "        Xnorm=np.finfo(X.dtype).eps\n",
        "    return X/Xnorm\n",
        "  \n",
        "def sigmoid(z):\n",
        "    return 1.0/(1.0 + np.exp(-1.0 * z))\n",
        "  \n",
        "def initialize_parameters(n_x, n_h, n_y):\n",
        "  #Create weights and bias for each layer\n",
        "    W1 = np.random.randn(n_h, n_x) * 0.01\n",
        "    b1 = np.zeros((n_h, 1))\n",
        "    W2 = np.random.randn(n_y, n_h) * 0.01\n",
        "    b2 = np.zeros((n_y, 1))\n",
        "    \n",
        "    parameters = {\"W1\": W1,\n",
        "                  \"b1\": b1,\n",
        "                  \"W2\": W2,\n",
        "                  \"b2\": b2}\n",
        "    \n",
        "    return parameters\n",
        "  \n",
        "def forward_propagation(X, parameters):\n",
        "\n",
        "    # Retrieve each parameter from the dictionary \"parameters\"\n",
        "    W1 = parameters[\"W1\"]\n",
        "    b1 = parameters[\"b1\"]\n",
        "    W2 = parameters[\"W2\"]\n",
        "    b2 = parameters[\"b2\"]\n",
        "    #Tanh activation the first layer and sigmoid for the second layer\n",
        "    Z1 = np.add(np.matmul(W1, X), b1)\n",
        "    A1 = np.tanh(Z1)\n",
        "    Z2 = np.add(np.matmul(W2, A1), b2)\n",
        "    A2 = sigmoid(Z2)   \n",
        "    cache = {\"Z1\": Z1,\n",
        "             \"A1\": A1,\n",
        "             \"Z2\": Z2,\n",
        "             \"A2\": A2}\n",
        "    \n",
        "    return A2, cache\n",
        "  \n",
        "def computeCost(A2, Y, parameters, lambd):\n",
        "    m = Y.shape[1] # number of example\n",
        "    W1 = parameters[\"W1\"]\n",
        "    W2 = parameters[\"W2\"]\n",
        "\n",
        "    # Compute the cross-entropy cost\n",
        "    logprobs = np.multiply(Y, np.log(A2)) + np.multiply((1 - Y), np.log(1 - A2))\n",
        "    cross_entropy_cost = (-1.0/m) * np.sum(logprobs)\n",
        "    \n",
        "    # Compute regularization cost\n",
        "    L2_regularization_cost = (np.sum(np.square(W1)) + np.sum(np.square(W2)))*(lambd/(2*m))\n",
        "    \n",
        "    # add cross_entropy_cost and regularization_cost\n",
        "    cost = cross_entropy_cost + L2_regularization_cost\n",
        "    \n",
        "    # makes sure cost is the dimension we expect. \n",
        "    cost = np.squeeze(cost)\n",
        "    return cost\n",
        "  \n",
        "def computeGrad(X, Y, cache, parameters, lambd):\n",
        "    #Compute grad using back propogation\n",
        "    m = X.shape[1]\n",
        "    \n",
        "    # First, retrieve W1 and W2 from the dictionary \"parameters\".\n",
        "    W1 = parameters[\"W1\"]\n",
        "    W2 = parameters[\"W2\"]\n",
        "        \n",
        "    # Retrieve also A1 and A2 from dictionary \"cache\".\n",
        "    A1 = cache[\"A1\"]\n",
        "    A2 = cache[\"A2\"]\n",
        "    \n",
        "    # Backward propagation: calculate dW1, db1, dW2, db2. Add the regularization term to dW2,dW1\n",
        "    dZ2 = A2 - Y\n",
        "    dW2 = (1.0/m) * np.matmul(dZ2, np.transpose(A1)) + (lambd/m)*W2 ## add the regularization term\n",
        "    db2 = (1.0/m) * np.sum(dZ2, axis=1, keepdims=True)\n",
        "    \n",
        "    dZ1 = np.matmul(np.transpose(W2), dZ2) * (1 - np.power(A1, 2))\n",
        "    dW1 = (1.0/m) * np.matmul(dZ1, np.transpose(X)) + (lambd/m)*W1 ## add the regularization\n",
        "    db1 = (1.0/m) * np.sum(dZ1, axis=1, keepdims=True)\n",
        "    \n",
        "    grads = {\"dW1\": dW1,\n",
        "             \"db1\": db1,\n",
        "             \"dW2\": dW2,\n",
        "             \"db2\": db2}\n",
        "    \n",
        "    return grads\n",
        "  \n",
        "def gradient(parameters, grads, learning_rate = 1.2):\n",
        "    #Updates parameters using the gradient descent update rule given above\n",
        "    # Retrieve each parameter from the dictionary \"parameters\"\n",
        "    W1 = parameters[\"W1\"]\n",
        "    b1 = parameters[\"b1\"]\n",
        "    W2 = parameters[\"W2\"]\n",
        "    b2 = parameters[\"b2\"]\n",
        "    \n",
        "    # Retrieve each gradient from the dictionary \"grads\"\n",
        "    dW1 = grads[\"dW1\"]\n",
        "    db1 = grads[\"db1\"]\n",
        "    dW2 = grads[\"dW2\"]\n",
        "    db2 = grads[\"db2\"]\n",
        "    \n",
        "    # Update rule for each parameter\n",
        "    W1 = W1 - learning_rate * dW1\n",
        "    b1 = b1 - learning_rate * db1\n",
        "    W2 = W2 - learning_rate * dW2\n",
        "    b2 = b2 - learning_rate * db2\n",
        "    \n",
        "    parameters = {\"W1\": W1,\n",
        "                  \"b1\": b1,\n",
        "                  \"W2\": W2,\n",
        "                  \"b2\": b2}\n",
        "    \n",
        "    return parameters\n",
        "  \n",
        "def optimize(X, Y, n_h, num_iterations = 10000, learning_rate=1.2, print_cost=False, lambd = 0.7):\n",
        "    #run the neural network upto n iterations\n",
        "    n_x = X.shape[0]\n",
        "    n_y = Y.shape[0]\n",
        "    # Initialize parameters, then retrieve W1, b1, W2, b2. Inputs: \"n_x, n_h, n_y\". Outputs = \"W1, b1, W2, b2, parameters\".\n",
        "    parameters = initialize_parameters(n_x, n_h, n_y)\n",
        "    W1 = parameters[\"W1\"]\n",
        "    b1 = parameters[\"b1\"]\n",
        "    W2 = parameters[\"W2\"]\n",
        "    b2 = parameters[\"b2\"]\n",
        "    #X = normalize(X)\n",
        "    # Loop (gradient descent)\n",
        "    costs = []\n",
        "    for i in range(0, num_iterations):\n",
        "         \n",
        "        # Forward propagation. Inputs: \"X, parameters\". Outputs: \"A2, cache\".\n",
        "        A2, cache = forward_propagation(X, parameters)\n",
        "        #A2 = normalize(A2) #normalize the weight during the traning\n",
        "        # Cost function. Inputs: \"A2, Y, parameters\". Outputs: \"cost\".\n",
        "        cost = computeCost(A2, Y, parameters, lambd)\n",
        "        costs.append(cost)\n",
        "        # Backpropagation. Inputs: \"parameters, cache, X, Y\". Outputs: \"grads\".\n",
        "        grads = computeGrad(X, Y, cache, parameters, lambd)\n",
        "        # Gradient descent parameter update. Inputs: \"parameters, grads\". Outputs: \"parameters\".\n",
        "        parameters = gradient(parameters, grads, learning_rate=learning_rate)\n",
        "        \n",
        "        # cache all about model\n",
        "        trained_model = {\n",
        "            \"layer_sizes\": (n_x, n_h, n_y),\n",
        "            \"learning_rate\": learning_rate,\n",
        "            \"costs\": costs,\n",
        "            \"parameters\": parameters\n",
        "        }\n",
        "\n",
        "        # Print the cost every 1000 iterations\n",
        "        if print_cost and i % 1000 == 0:\n",
        "            print (\"Cost after iteration %i: %f\" %(i, cost))\n",
        "    return trained_model\n",
        "  \n",
        "def predict(parameters, X):\n",
        "    \n",
        "    # Computes probabilities using forward propagation, and classifies to 0/1 using 0.5 as the threshold.\n",
        "    A2, cache = forward_propagation(X, parameters)\n",
        "    predictions = (A2 > 0.5).astype(int)\n",
        "\n",
        "    return predictions"
      ],
      "execution_count": 0,
      "outputs": []
    },
    {
      "cell_type": "code",
      "metadata": {
        "id": "TgWJTs0tBik3",
        "colab_type": "code",
        "outputId": "6c274c3b-ed3b-46ca-eb40-e17ec7a97632",
        "colab": {
          "base_uri": "https://localhost:8080/",
          "height": 683
        }
      },
      "source": [
        "y = optimize(X_train.T, y_train.T, 5, num_iterations = 40000, learning_rate=0.05, print_cost=True, lambd = 1.2)"
      ],
      "execution_count": 0,
      "outputs": [
        {
          "output_type": "stream",
          "text": [
            "Cost after iteration 0: 0.693119\n",
            "Cost after iteration 1000: 0.509267\n",
            "Cost after iteration 2000: 0.419678\n",
            "Cost after iteration 3000: 0.405555\n",
            "Cost after iteration 4000: 0.403409\n",
            "Cost after iteration 5000: 0.402778\n",
            "Cost after iteration 6000: 0.402476\n",
            "Cost after iteration 7000: 0.402276\n",
            "Cost after iteration 8000: 0.402109\n",
            "Cost after iteration 9000: 0.401950\n",
            "Cost after iteration 10000: 0.401791\n",
            "Cost after iteration 11000: 0.401628\n",
            "Cost after iteration 12000: 0.401462\n",
            "Cost after iteration 13000: 0.401293\n",
            "Cost after iteration 14000: 0.401122\n",
            "Cost after iteration 15000: 0.400948\n",
            "Cost after iteration 16000: 0.400774\n",
            "Cost after iteration 17000: 0.400602\n",
            "Cost after iteration 18000: 0.400433\n",
            "Cost after iteration 19000: 0.400269\n",
            "Cost after iteration 20000: 0.400109\n",
            "Cost after iteration 21000: 0.399953\n",
            "Cost after iteration 22000: 0.399798\n",
            "Cost after iteration 23000: 0.399642\n",
            "Cost after iteration 24000: 0.399480\n",
            "Cost after iteration 25000: 0.399309\n",
            "Cost after iteration 26000: 0.399125\n",
            "Cost after iteration 27000: 0.398925\n",
            "Cost after iteration 28000: 0.398709\n",
            "Cost after iteration 29000: 0.398480\n",
            "Cost after iteration 30000: 0.398243\n",
            "Cost after iteration 31000: 0.398003\n",
            "Cost after iteration 32000: 0.397769\n",
            "Cost after iteration 33000: 0.397544\n",
            "Cost after iteration 34000: 0.397333\n",
            "Cost after iteration 35000: 0.397137\n",
            "Cost after iteration 36000: 0.396957\n",
            "Cost after iteration 37000: 0.396791\n",
            "Cost after iteration 38000: 0.396640\n",
            "Cost after iteration 39000: 0.396501\n"
          ],
          "name": "stdout"
        }
      ]
    },
    {
      "cell_type": "code",
      "metadata": {
        "id": "s7DKimYgcXgb",
        "colab_type": "code",
        "outputId": "b49120b6-201b-4e4c-a42b-950adc739aaa",
        "colab": {
          "base_uri": "https://localhost:8080/",
          "height": 311
        }
      },
      "source": [
        "plt.plot(y['costs'])\n",
        "plt.xlabel(\"Iteration\")\n",
        "plt.ylabel(\"$J(\\Theta)$\")\n",
        "plt.title(\"Cost function using Gradient Descent\")\n",
        "#Plot show the convergence of of the model"
      ],
      "execution_count": 0,
      "outputs": [
        {
          "output_type": "execute_result",
          "data": {
            "text/plain": [
              "Text(0.5, 1.0, 'Cost function using Gradient Descent')"
            ]
          },
          "metadata": {
            "tags": []
          },
          "execution_count": 37
        },
        {
          "output_type": "display_data",
          "data": {
            "image/png": "[encoded data removed]",
            "text/plain": [
              "<Figure size 432x288 with 1 Axes>"
            ]
          },
          "metadata": {
            "tags": []
          }
        }
      ]
    },
    {
      "cell_type": "code",
      "metadata": {
        "id": "WkxiigD8Czwt",
        "colab_type": "code",
        "colab": {}
      },
      "source": [
        "pred = predict(y['parameters'],X_test.T)"
      ],
      "execution_count": 0,
      "outputs": []
    },
    {
      "cell_type": "code",
      "metadata": {
        "colab_type": "code",
        "id": "rgQV4zuUTOPK",
        "outputId": "cd69fafc-d4bb-4904-829d-78e74a83681e",
        "colab": {
          "base_uri": "https://localhost:8080/",
          "height": 233
        }
      },
      "source": [
        "print('\\nVal Accuracy: '+ str(np.mean((pred == y_test.T) * 100)))\n",
        "from sklearn.metrics import confusion_matrix\n",
        "from sklearn.metrics import classification_report\n",
        "#These are the accuracy and confusion matrix for training set\n",
        "confusion_matrix_train = confusion_matrix(y_test.T.ravel(), pred.ravel())\n",
        "print(confusion_matrix_train)\n",
        "print(classification_report(y_test, pred.round().T))"
      ],
      "execution_count": 0,
      "outputs": [
        {
          "output_type": "stream",
          "text": [
            "\n",
            "Val Accuracy: 78.87323943661971\n",
            "[[141   9]\n",
            " [ 36  27]]\n",
            "              precision    recall  f1-score   support\n",
            "\n",
            "         0.0       0.80      0.94      0.86       150\n",
            "         1.0       0.75      0.43      0.55        63\n",
            "\n",
            "    accuracy                           0.79       213\n",
            "   macro avg       0.77      0.68      0.70       213\n",
            "weighted avg       0.78      0.79      0.77       213\n",
            "\n"
          ],
          "name": "stdout"
        }
      ]
    },
    {
      "cell_type": "markdown",
      "metadata": {
        "colab_type": "text",
        "id": "VZzEopW4TOPP"
      },
      "source": [
        "## Scoring the leaderboard\n",
        "\n",
        "Use your model to score the test feature dataset in the Insurance Purchase Prediction project/contest below. After joining the practice project, you can create a team and invite members. Submit your score result to see how it is ranked, and share your notebook/write-up.\n",
        "\n",
        "http://www.scriptedin.com/contests/view/6"
      ]
    },
    {
      "cell_type": "markdown",
      "metadata": {
        "colab_type": "text",
        "id": "Z872qYtZTOPQ"
      },
      "source": [
        "Now going through the same preprocessing step above for the test dataset"
      ]
    },
    {
      "cell_type": "code",
      "metadata": {
        "colab_type": "code",
        "id": "PzBhjHbVTOPR",
        "colab": {}
      },
      "source": [
        "test_feature_df = pd.read_csv(\"test_features.csv\",header =0)\n",
        "test_feature_df.head()\n",
        "\n",
        "# convert categorical variables to dummy variables\n",
        "cat_vars=['STATE','REGION','SEX','PROFESSION','MARITAL_STATUS']\n",
        "cat_list = pd.get_dummies(test_feature_df[cat_vars], prefix='var')\n",
        "test_feature_df=pd.concat([test_feature_df,cat_list],axis = 1) # concat horizontally with newly dummy features"
      ],
      "execution_count": 0,
      "outputs": []
    },
    {
      "cell_type": "markdown",
      "metadata": {
        "colab_type": "text",
        "id": "uR69-RXbTOPT"
      },
      "source": [
        "Reindexing the dataset. This is because the number of columns/variables are different. Filling zero in. "
      ]
    },
    {
      "cell_type": "code",
      "metadata": {
        "colab_type": "code",
        "id": "rOuy1P6UTOPV",
        "colab": {}
      },
      "source": [
        "transformed_cols = insurance_df.columns\n",
        "test_feature_df = test_feature_df.reindex(columns = transformed_cols.difference(['BUY_INSURANCE']), fill_value=0)"
      ],
      "execution_count": 0,
      "outputs": []
    },
    {
      "cell_type": "markdown",
      "metadata": {
        "colab_type": "text",
        "id": "xWj6UQ5KTOPd"
      },
      "source": [
        "Now remove the original categorical variables. You don't use them to train the model."
      ]
    },
    {
      "cell_type": "code",
      "metadata": {
        "colab_type": "code",
        "id": "h-FV3xxmTOPe",
        "outputId": "e08bc653-0e06-45ea-a6ab-c0b5f3f287f6",
        "colab": {
          "base_uri": "https://localhost:8080/",
          "height": 33
        }
      },
      "source": [
        "# remove the original categorical variables\n",
        "data_vars=test_feature_df.columns.values.tolist()\n",
        "selected_columns = list(set(data_vars).difference(set(cat_vars)))\n",
        "np.array(selected_columns)\n",
        "\n",
        "# now only get variables after converting to dummy variables\n",
        "test_data = test_feature_df[selected_columns]\n",
        "test_data.shape"
      ],
      "execution_count": 0,
      "outputs": [
        {
          "output_type": "execute_result",
          "data": {
            "text/plain": [
              "(305, 147)"
            ]
          },
          "metadata": {
            "tags": []
          },
          "execution_count": 40
        }
      ]
    },
    {
      "cell_type": "code",
      "metadata": {
        "colab_type": "code",
        "id": "zbjjnN-_TOPn",
        "outputId": "c8d03a16-51ec-490c-d3ea-f062f142bd50",
        "scrolled": true,
        "colab": {
          "base_uri": "https://localhost:8080/",
          "height": 296
        }
      },
      "source": [
        "test_data.head()"
      ],
      "execution_count": 0,
      "outputs": [
        {
          "output_type": "execute_result",
          "data": {
            "text/html": [
              "<div>\n",
              "<style scoped>\n",
              "    .dataframe tbody tr th:only-of-type {\n",
              "        vertical-align: middle;\n",
              "    }\n",
              "\n",
              "    .dataframe tbody tr th {\n",
              "        vertical-align: top;\n",
              "    }\n",
              "\n",
              "    .dataframe thead th {\n",
              "        text-align: right;\n",
              "    }\n",
              "</style>\n",
              "<table border=\"1\" class=\"dataframe\">\n",
              "  <thead>\n",
              "    <tr style=\"text-align: right;\">\n",
              "      <th></th>\n",
              "      <th>MONEY_MONTLY_OVERDRAWN</th>\n",
              "      <th>MONTHLY_CHECKS_WRITTEN</th>\n",
              "      <th>AGE</th>\n",
              "      <th>var_PROF-29</th>\n",
              "      <th>var_PROF-20</th>\n",
              "      <th>var_DBA</th>\n",
              "      <th>CREDIT_BALANCE</th>\n",
              "      <th>N_MORTGAGES</th>\n",
              "      <th>var_Administrator</th>\n",
              "      <th>var_PROF-4</th>\n",
              "      <th>var_OH</th>\n",
              "      <th>LTV</th>\n",
              "      <th>var_F</th>\n",
              "      <th>var_Fireman</th>\n",
              "      <th>TIME_AS_CUSTOMER</th>\n",
              "      <th>var_PROF-2</th>\n",
              "      <th>var_UT</th>\n",
              "      <th>T_AMOUNT_AUTOM_PAYMENTS</th>\n",
              "      <th>var_Mason</th>\n",
              "      <th>var_IL</th>\n",
              "      <th>BANK_FUNDS</th>\n",
              "      <th>var_PROF-57</th>\n",
              "      <th>var_PROF-55</th>\n",
              "      <th>var_NorthEast</th>\n",
              "      <th>N_TRANS_WEB_BANK</th>\n",
              "      <th>var_PROF-11</th>\n",
              "      <th>var_Nurse</th>\n",
              "      <th>var_PROF-51</th>\n",
              "      <th>var_AK</th>\n",
              "      <th>var_PROF-60</th>\n",
              "      <th>var_PROF-40</th>\n",
              "      <th>var_PROF-22</th>\n",
              "      <th>var_OK</th>\n",
              "      <th>var_PROF-47</th>\n",
              "      <th>var_PROF-61</th>\n",
              "      <th>var_TX</th>\n",
              "      <th>var_PROF-26</th>\n",
              "      <th>var_PROF-6</th>\n",
              "      <th>N_TRANS_KIOSK</th>\n",
              "      <th>var_Administrative Assistant</th>\n",
              "      <th>...</th>\n",
              "      <th>var_PROF-33</th>\n",
              "      <th>var_PROF-36</th>\n",
              "      <th>var_PROF-18</th>\n",
              "      <th>var_WIDOWED</th>\n",
              "      <th>var_PROF-7</th>\n",
              "      <th>var_South</th>\n",
              "      <th>var_Bank Teller</th>\n",
              "      <th>LTV_BIN</th>\n",
              "      <th>var_PROF-34</th>\n",
              "      <th>var_PROF-48</th>\n",
              "      <th>var_PROF-9</th>\n",
              "      <th>var_OR</th>\n",
              "      <th>var_NY</th>\n",
              "      <th>var_Southwest</th>\n",
              "      <th>var_PROF-14</th>\n",
              "      <th>var_Construction Laborer</th>\n",
              "      <th>var_PROF-30</th>\n",
              "      <th>var_PROF-3</th>\n",
              "      <th>CAR_OWNERSHIP</th>\n",
              "      <th>var_Medical Doctor</th>\n",
              "      <th>var_PROF-5</th>\n",
              "      <th>var_PROF-12</th>\n",
              "      <th>var_MARRIED</th>\n",
              "      <th>var_Law Enforcement Officer</th>\n",
              "      <th>var_PROF-52</th>\n",
              "      <th>var_PROF-59</th>\n",
              "      <th>var_PROF-56</th>\n",
              "      <th>var_Accountant</th>\n",
              "      <th>var_PROF-21</th>\n",
              "      <th>var_DIVORCED</th>\n",
              "      <th>var_Plumber</th>\n",
              "      <th>N_OF_DEPENDENTS</th>\n",
              "      <th>var_PROF-54</th>\n",
              "      <th>N_TRANS_ATM</th>\n",
              "      <th>var_Programmer/Developer</th>\n",
              "      <th>var_Clerical</th>\n",
              "      <th>var_PROF-41</th>\n",
              "      <th>var_PROF-13</th>\n",
              "      <th>var_PROF-8</th>\n",
              "      <th>var_Midwest</th>\n",
              "    </tr>\n",
              "  </thead>\n",
              "  <tbody>\n",
              "    <tr>\n",
              "      <th>0</th>\n",
              "      <td>53.06</td>\n",
              "      <td>0</td>\n",
              "      <td>21</td>\n",
              "      <td>0</td>\n",
              "      <td>0</td>\n",
              "      <td>0</td>\n",
              "      <td>0</td>\n",
              "      <td>1</td>\n",
              "      <td>0</td>\n",
              "      <td>0</td>\n",
              "      <td>0</td>\n",
              "      <td>17067.00</td>\n",
              "      <td>1</td>\n",
              "      <td>0</td>\n",
              "      <td>5</td>\n",
              "      <td>0</td>\n",
              "      <td>0</td>\n",
              "      <td>0</td>\n",
              "      <td>0</td>\n",
              "      <td>1</td>\n",
              "      <td>0</td>\n",
              "      <td>0</td>\n",
              "      <td>0</td>\n",
              "      <td>0</td>\n",
              "      <td>1500</td>\n",
              "      <td>0</td>\n",
              "      <td>0</td>\n",
              "      <td>0</td>\n",
              "      <td>0</td>\n",
              "      <td>0</td>\n",
              "      <td>0</td>\n",
              "      <td>0</td>\n",
              "      <td>0</td>\n",
              "      <td>0</td>\n",
              "      <td>0</td>\n",
              "      <td>0</td>\n",
              "      <td>0</td>\n",
              "      <td>0</td>\n",
              "      <td>1</td>\n",
              "      <td>0</td>\n",
              "      <td>...</td>\n",
              "      <td>0</td>\n",
              "      <td>0</td>\n",
              "      <td>0</td>\n",
              "      <td>0</td>\n",
              "      <td>0</td>\n",
              "      <td>0</td>\n",
              "      <td>1</td>\n",
              "      <td>MEDIUM</td>\n",
              "      <td>0</td>\n",
              "      <td>0</td>\n",
              "      <td>0</td>\n",
              "      <td>0</td>\n",
              "      <td>0</td>\n",
              "      <td>0</td>\n",
              "      <td>0</td>\n",
              "      <td>0</td>\n",
              "      <td>0</td>\n",
              "      <td>0</td>\n",
              "      <td>1</td>\n",
              "      <td>0</td>\n",
              "      <td>0</td>\n",
              "      <td>0</td>\n",
              "      <td>1</td>\n",
              "      <td>0</td>\n",
              "      <td>0</td>\n",
              "      <td>0</td>\n",
              "      <td>0</td>\n",
              "      <td>0</td>\n",
              "      <td>0</td>\n",
              "      <td>0</td>\n",
              "      <td>0</td>\n",
              "      <td>5</td>\n",
              "      <td>0</td>\n",
              "      <td>0</td>\n",
              "      <td>0</td>\n",
              "      <td>0</td>\n",
              "      <td>0</td>\n",
              "      <td>0</td>\n",
              "      <td>0</td>\n",
              "      <td>1</td>\n",
              "    </tr>\n",
              "    <tr>\n",
              "      <th>1</th>\n",
              "      <td>53.20</td>\n",
              "      <td>18</td>\n",
              "      <td>50</td>\n",
              "      <td>0</td>\n",
              "      <td>0</td>\n",
              "      <td>0</td>\n",
              "      <td>0</td>\n",
              "      <td>1</td>\n",
              "      <td>0</td>\n",
              "      <td>0</td>\n",
              "      <td>0</td>\n",
              "      <td>31303.50</td>\n",
              "      <td>1</td>\n",
              "      <td>0</td>\n",
              "      <td>1</td>\n",
              "      <td>0</td>\n",
              "      <td>0</td>\n",
              "      <td>1159</td>\n",
              "      <td>0</td>\n",
              "      <td>0</td>\n",
              "      <td>450</td>\n",
              "      <td>0</td>\n",
              "      <td>0</td>\n",
              "      <td>0</td>\n",
              "      <td>1000</td>\n",
              "      <td>0</td>\n",
              "      <td>0</td>\n",
              "      <td>0</td>\n",
              "      <td>0</td>\n",
              "      <td>0</td>\n",
              "      <td>0</td>\n",
              "      <td>0</td>\n",
              "      <td>0</td>\n",
              "      <td>0</td>\n",
              "      <td>0</td>\n",
              "      <td>0</td>\n",
              "      <td>0</td>\n",
              "      <td>0</td>\n",
              "      <td>1</td>\n",
              "      <td>0</td>\n",
              "      <td>...</td>\n",
              "      <td>0</td>\n",
              "      <td>0</td>\n",
              "      <td>0</td>\n",
              "      <td>0</td>\n",
              "      <td>0</td>\n",
              "      <td>0</td>\n",
              "      <td>0</td>\n",
              "      <td>VERY HIGH</td>\n",
              "      <td>0</td>\n",
              "      <td>0</td>\n",
              "      <td>0</td>\n",
              "      <td>0</td>\n",
              "      <td>0</td>\n",
              "      <td>0</td>\n",
              "      <td>0</td>\n",
              "      <td>0</td>\n",
              "      <td>0</td>\n",
              "      <td>0</td>\n",
              "      <td>1</td>\n",
              "      <td>0</td>\n",
              "      <td>0</td>\n",
              "      <td>0</td>\n",
              "      <td>1</td>\n",
              "      <td>0</td>\n",
              "      <td>0</td>\n",
              "      <td>0</td>\n",
              "      <td>0</td>\n",
              "      <td>0</td>\n",
              "      <td>0</td>\n",
              "      <td>0</td>\n",
              "      <td>0</td>\n",
              "      <td>1</td>\n",
              "      <td>0</td>\n",
              "      <td>3</td>\n",
              "      <td>0</td>\n",
              "      <td>0</td>\n",
              "      <td>0</td>\n",
              "      <td>0</td>\n",
              "      <td>0</td>\n",
              "      <td>0</td>\n",
              "    </tr>\n",
              "    <tr>\n",
              "      <th>2</th>\n",
              "      <td>55.41</td>\n",
              "      <td>2</td>\n",
              "      <td>65</td>\n",
              "      <td>0</td>\n",
              "      <td>0</td>\n",
              "      <td>0</td>\n",
              "      <td>0</td>\n",
              "      <td>1</td>\n",
              "      <td>0</td>\n",
              "      <td>0</td>\n",
              "      <td>0</td>\n",
              "      <td>24097.25</td>\n",
              "      <td>1</td>\n",
              "      <td>0</td>\n",
              "      <td>4</td>\n",
              "      <td>0</td>\n",
              "      <td>0</td>\n",
              "      <td>2826</td>\n",
              "      <td>0</td>\n",
              "      <td>0</td>\n",
              "      <td>3200</td>\n",
              "      <td>0</td>\n",
              "      <td>0</td>\n",
              "      <td>0</td>\n",
              "      <td>400</td>\n",
              "      <td>0</td>\n",
              "      <td>0</td>\n",
              "      <td>0</td>\n",
              "      <td>0</td>\n",
              "      <td>0</td>\n",
              "      <td>0</td>\n",
              "      <td>0</td>\n",
              "      <td>0</td>\n",
              "      <td>0</td>\n",
              "      <td>0</td>\n",
              "      <td>0</td>\n",
              "      <td>0</td>\n",
              "      <td>0</td>\n",
              "      <td>8</td>\n",
              "      <td>0</td>\n",
              "      <td>...</td>\n",
              "      <td>0</td>\n",
              "      <td>0</td>\n",
              "      <td>0</td>\n",
              "      <td>0</td>\n",
              "      <td>0</td>\n",
              "      <td>1</td>\n",
              "      <td>0</td>\n",
              "      <td>HIGH</td>\n",
              "      <td>0</td>\n",
              "      <td>0</td>\n",
              "      <td>0</td>\n",
              "      <td>0</td>\n",
              "      <td>0</td>\n",
              "      <td>0</td>\n",
              "      <td>0</td>\n",
              "      <td>0</td>\n",
              "      <td>0</td>\n",
              "      <td>0</td>\n",
              "      <td>1</td>\n",
              "      <td>0</td>\n",
              "      <td>0</td>\n",
              "      <td>0</td>\n",
              "      <td>0</td>\n",
              "      <td>0</td>\n",
              "      <td>0</td>\n",
              "      <td>0</td>\n",
              "      <td>0</td>\n",
              "      <td>0</td>\n",
              "      <td>0</td>\n",
              "      <td>1</td>\n",
              "      <td>0</td>\n",
              "      <td>3</td>\n",
              "      <td>0</td>\n",
              "      <td>5</td>\n",
              "      <td>0</td>\n",
              "      <td>0</td>\n",
              "      <td>0</td>\n",
              "      <td>0</td>\n",
              "      <td>0</td>\n",
              "      <td>0</td>\n",
              "    </tr>\n",
              "    <tr>\n",
              "      <th>3</th>\n",
              "      <td>53.45</td>\n",
              "      <td>4</td>\n",
              "      <td>42</td>\n",
              "      <td>0</td>\n",
              "      <td>0</td>\n",
              "      <td>0</td>\n",
              "      <td>0</td>\n",
              "      <td>1</td>\n",
              "      <td>0</td>\n",
              "      <td>0</td>\n",
              "      <td>0</td>\n",
              "      <td>24318.25</td>\n",
              "      <td>0</td>\n",
              "      <td>0</td>\n",
              "      <td>1</td>\n",
              "      <td>0</td>\n",
              "      <td>0</td>\n",
              "      <td>1364</td>\n",
              "      <td>0</td>\n",
              "      <td>1</td>\n",
              "      <td>2950</td>\n",
              "      <td>0</td>\n",
              "      <td>0</td>\n",
              "      <td>0</td>\n",
              "      <td>550</td>\n",
              "      <td>0</td>\n",
              "      <td>0</td>\n",
              "      <td>0</td>\n",
              "      <td>0</td>\n",
              "      <td>0</td>\n",
              "      <td>0</td>\n",
              "      <td>0</td>\n",
              "      <td>0</td>\n",
              "      <td>0</td>\n",
              "      <td>0</td>\n",
              "      <td>0</td>\n",
              "      <td>0</td>\n",
              "      <td>0</td>\n",
              "      <td>1</td>\n",
              "      <td>0</td>\n",
              "      <td>...</td>\n",
              "      <td>0</td>\n",
              "      <td>0</td>\n",
              "      <td>0</td>\n",
              "      <td>0</td>\n",
              "      <td>0</td>\n",
              "      <td>0</td>\n",
              "      <td>0</td>\n",
              "      <td>HIGH</td>\n",
              "      <td>0</td>\n",
              "      <td>0</td>\n",
              "      <td>0</td>\n",
              "      <td>0</td>\n",
              "      <td>0</td>\n",
              "      <td>0</td>\n",
              "      <td>0</td>\n",
              "      <td>0</td>\n",
              "      <td>0</td>\n",
              "      <td>0</td>\n",
              "      <td>1</td>\n",
              "      <td>0</td>\n",
              "      <td>0</td>\n",
              "      <td>0</td>\n",
              "      <td>0</td>\n",
              "      <td>0</td>\n",
              "      <td>0</td>\n",
              "      <td>0</td>\n",
              "      <td>0</td>\n",
              "      <td>0</td>\n",
              "      <td>0</td>\n",
              "      <td>1</td>\n",
              "      <td>0</td>\n",
              "      <td>1</td>\n",
              "      <td>0</td>\n",
              "      <td>4</td>\n",
              "      <td>0</td>\n",
              "      <td>0</td>\n",
              "      <td>0</td>\n",
              "      <td>0</td>\n",
              "      <td>0</td>\n",
              "      <td>1</td>\n",
              "    </tr>\n",
              "    <tr>\n",
              "      <th>4</th>\n",
              "      <td>53.22</td>\n",
              "      <td>9</td>\n",
              "      <td>27</td>\n",
              "      <td>0</td>\n",
              "      <td>0</td>\n",
              "      <td>0</td>\n",
              "      <td>0</td>\n",
              "      <td>0</td>\n",
              "      <td>0</td>\n",
              "      <td>0</td>\n",
              "      <td>0</td>\n",
              "      <td>13127.50</td>\n",
              "      <td>0</td>\n",
              "      <td>0</td>\n",
              "      <td>3</td>\n",
              "      <td>0</td>\n",
              "      <td>0</td>\n",
              "      <td>268</td>\n",
              "      <td>0</td>\n",
              "      <td>0</td>\n",
              "      <td>700</td>\n",
              "      <td>0</td>\n",
              "      <td>0</td>\n",
              "      <td>0</td>\n",
              "      <td>0</td>\n",
              "      <td>0</td>\n",
              "      <td>0</td>\n",
              "      <td>0</td>\n",
              "      <td>0</td>\n",
              "      <td>0</td>\n",
              "      <td>0</td>\n",
              "      <td>0</td>\n",
              "      <td>0</td>\n",
              "      <td>0</td>\n",
              "      <td>0</td>\n",
              "      <td>0</td>\n",
              "      <td>0</td>\n",
              "      <td>0</td>\n",
              "      <td>1</td>\n",
              "      <td>0</td>\n",
              "      <td>...</td>\n",
              "      <td>0</td>\n",
              "      <td>0</td>\n",
              "      <td>0</td>\n",
              "      <td>0</td>\n",
              "      <td>0</td>\n",
              "      <td>0</td>\n",
              "      <td>0</td>\n",
              "      <td>LOW</td>\n",
              "      <td>0</td>\n",
              "      <td>0</td>\n",
              "      <td>0</td>\n",
              "      <td>0</td>\n",
              "      <td>0</td>\n",
              "      <td>0</td>\n",
              "      <td>0</td>\n",
              "      <td>0</td>\n",
              "      <td>0</td>\n",
              "      <td>0</td>\n",
              "      <td>1</td>\n",
              "      <td>0</td>\n",
              "      <td>0</td>\n",
              "      <td>0</td>\n",
              "      <td>0</td>\n",
              "      <td>0</td>\n",
              "      <td>0</td>\n",
              "      <td>0</td>\n",
              "      <td>0</td>\n",
              "      <td>0</td>\n",
              "      <td>0</td>\n",
              "      <td>0</td>\n",
              "      <td>0</td>\n",
              "      <td>3</td>\n",
              "      <td>0</td>\n",
              "      <td>3</td>\n",
              "      <td>1</td>\n",
              "      <td>0</td>\n",
              "      <td>0</td>\n",
              "      <td>0</td>\n",
              "      <td>0</td>\n",
              "      <td>0</td>\n",
              "    </tr>\n",
              "  </tbody>\n",
              "</table>\n",
              "<p>5 rows × 147 columns</p>\n",
              "</div>"
            ],
            "text/plain": [
              "   MONEY_MONTLY_OVERDRAWN  MONTHLY_CHECKS_WRITTEN  ...  var_PROF-8  var_Midwest\n",
              "0                   53.06                       0  ...           0            1\n",
              "1                   53.20                      18  ...           0            0\n",
              "2                   55.41                       2  ...           0            0\n",
              "3                   53.45                       4  ...           0            1\n",
              "4                   53.22                       9  ...           0            0\n",
              "\n",
              "[5 rows x 147 columns]"
            ]
          },
          "metadata": {
            "tags": []
          },
          "execution_count": 41
        }
      ]
    },
    {
      "cell_type": "markdown",
      "metadata": {
        "colab_type": "text",
        "id": "LlHfmNMeTOPs"
      },
      "source": [
        "Also remove some variables. "
      ]
    },
    {
      "cell_type": "code",
      "metadata": {
        "colab_type": "code",
        "id": "qHPfO2juQgEe",
        "colab": {}
      },
      "source": [
        "relevant_features.remove('BUY_INSURANCE')"
      ],
      "execution_count": 0,
      "outputs": []
    },
    {
      "cell_type": "code",
      "metadata": {
        "colab_type": "code",
        "id": "2KrdAGYhQ0mA",
        "outputId": "7377a9af-b893-4099-a717-70ebe1435a63",
        "colab": {
          "base_uri": "https://localhost:8080/",
          "height": 163
        }
      },
      "source": [
        "relevant_features.remove('LTV_BIN')"
      ],
      "execution_count": 0,
      "outputs": [
        {
          "output_type": "error",
          "ename": "ValueError",
          "evalue": "ignored",
          "traceback": [
            "\u001b[0;31m---------------------------------------------------------------------------\u001b[0m",
            "\u001b[0;31mValueError\u001b[0m                                Traceback (most recent call last)",
            "\u001b[0;32m<ipython-input-43-10b5b534272a>\u001b[0m in \u001b[0;36m<module>\u001b[0;34m()\u001b[0m\n\u001b[0;32m----> 1\u001b[0;31m \u001b[0mrelevant_features\u001b[0m\u001b[0;34m.\u001b[0m\u001b[0mremove\u001b[0m\u001b[0;34m(\u001b[0m\u001b[0;34m'LTV_BIN'\u001b[0m\u001b[0;34m)\u001b[0m\u001b[0;34m\u001b[0m\u001b[0;34m\u001b[0m\u001b[0m\n\u001b[0m",
            "\u001b[0;31mValueError\u001b[0m: list.remove(x): x not in list"
          ]
        }
      ]
    },
    {
      "cell_type": "code",
      "metadata": {
        "colab_type": "code",
        "id": "VdmO44uzNtPN",
        "outputId": "2886f64c-941c-490e-8d4a-487d1c531a1e",
        "colab": {
          "base_uri": "https://localhost:8080/",
          "height": 33
        }
      },
      "source": [
        "X_test_more = test_data[relevant_features]\n",
        "X_test_more.shape"
      ],
      "execution_count": 0,
      "outputs": [
        {
          "output_type": "execute_result",
          "data": {
            "text/plain": [
              "(305, 15)"
            ]
          },
          "metadata": {
            "tags": []
          },
          "execution_count": 44
        }
      ]
    },
    {
      "cell_type": "markdown",
      "metadata": {
        "colab_type": "text",
        "id": "m8DlPN6kTOPx"
      },
      "source": [
        "Min-max scaling"
      ]
    },
    {
      "cell_type": "code",
      "metadata": {
        "colab_type": "code",
        "id": "fda3JwhGTOPx",
        "outputId": "05a7913a-c4c4-43ce-ebc1-4c23f57fd6fc",
        "colab": {
          "base_uri": "https://localhost:8080/",
          "height": 33
        }
      },
      "source": [
        "# Min-max scaling. \n",
        "# XX and y are array/list\n",
        "\n",
        "from sklearn.preprocessing import MinMaxScaler\n",
        "scaler = MinMaxScaler()\n",
        "X_test_more = scaler.fit_transform(X_test_more)\n",
        "X_test_more.shape"
      ],
      "execution_count": 0,
      "outputs": [
        {
          "output_type": "execute_result",
          "data": {
            "text/plain": [
              "(305, 15)"
            ]
          },
          "metadata": {
            "tags": []
          },
          "execution_count": 45
        }
      ]
    },
    {
      "cell_type": "code",
      "metadata": {
        "id": "RwNxrKpKp13T",
        "colab_type": "code",
        "colab": {}
      },
      "source": [
        "pred_test = predict(y['parameters'],X_test_more.T)"
      ],
      "execution_count": 0,
      "outputs": []
    },
    {
      "cell_type": "code",
      "metadata": {
        "id": "1-r8EoFhvOLG",
        "colab_type": "code",
        "outputId": "01868198-72a8-467b-f3d5-9ac31ab6bc4f",
        "colab": {
          "base_uri": "https://localhost:8080/",
          "height": 250
        }
      },
      "source": [
        "pred_test.ravel()"
      ],
      "execution_count": 0,
      "outputs": [
        {
          "output_type": "execute_result",
          "data": {
            "text/plain": [
              "array([0, 0, 0, 0, 0, 0, 0, 0, 0, 0, 1, 0, 0, 0, 0, 0, 0, 0, 0, 0, 0, 0,\n",
              "       0, 0, 1, 0, 0, 0, 0, 0, 0, 0, 0, 0, 0, 0, 0, 0, 1, 0, 0, 1, 0, 0,\n",
              "       0, 0, 0, 0, 0, 1, 0, 0, 0, 0, 0, 0, 0, 0, 1, 0, 0, 0, 0, 0, 0, 0,\n",
              "       0, 0, 0, 0, 0, 0, 0, 0, 0, 0, 0, 0, 0, 0, 0, 0, 0, 0, 0, 1, 0, 0,\n",
              "       0, 0, 0, 0, 0, 1, 0, 0, 0, 0, 0, 0, 0, 0, 0, 0, 0, 1, 0, 0, 0, 0,\n",
              "       0, 0, 0, 0, 0, 0, 1, 0, 1, 0, 0, 0, 0, 0, 1, 0, 0, 0, 0, 0, 0, 0,\n",
              "       0, 0, 0, 0, 0, 1, 0, 1, 1, 0, 0, 0, 0, 0, 0, 0, 0, 1, 0, 0, 0, 0,\n",
              "       0, 0, 0, 0, 0, 0, 0, 0, 0, 0, 1, 1, 0, 0, 0, 0, 0, 1, 0, 1, 1, 0,\n",
              "       0, 0, 0, 0, 0, 0, 0, 0, 0, 0, 0, 0, 0, 0, 0, 1, 0, 0, 0, 0, 0, 0,\n",
              "       0, 0, 0, 1, 0, 0, 0, 0, 0, 0, 0, 0, 0, 0, 0, 0, 0, 0, 0, 0, 0, 0,\n",
              "       0, 0, 0, 0, 0, 0, 0, 0, 0, 0, 0, 0, 0, 0, 0, 0, 0, 1, 0, 0, 0, 0,\n",
              "       0, 0, 0, 0, 1, 0, 0, 0, 0, 0, 0, 0, 0, 0, 0, 1, 0, 0, 1, 0, 0, 1,\n",
              "       0, 0, 0, 0, 0, 0, 0, 1, 0, 0, 0, 0, 0, 0, 0, 0, 0, 0, 0, 0, 0, 0,\n",
              "       0, 0, 0, 0, 0, 0, 0, 1, 0, 0, 0, 0, 0, 0, 0, 0, 1, 0, 0])"
            ]
          },
          "metadata": {
            "tags": []
          },
          "execution_count": 47
        }
      ]
    },
    {
      "cell_type": "markdown",
      "metadata": {
        "colab_type": "text",
        "id": "FHsixD6SMS8l"
      },
      "source": [
        "Now have some fun. Assuming My_y_pred is the predicted result as a list. Export the result to a csv file as follows. The first column is numbered starting from 1;The second is the label of the prediction. The first row is the header. Submit the csv to the project at https://www.scriptedin.com/contests/view/6 via Add Submission to see where you are on the leaderboard"
      ]
    },
    {
      "cell_type": "code",
      "metadata": {
        "colab_type": "code",
        "id": "GErSK8PNMOol",
        "colab": {}
      },
      "source": [
        "pd.DataFrame(list(zip(list(range(1, len(pred_test.ravel()) + 1)),pred_test.ravel())), columns=['num','label']).to_csv(r'/content/gdrive/My Drive/Academic/UCONN/Financial Research/MATH5671/submission.csv', index=None, header=True)\n",
        "#got 73%"
      ],
      "execution_count": 0,
      "outputs": []
    }
  ]
}
