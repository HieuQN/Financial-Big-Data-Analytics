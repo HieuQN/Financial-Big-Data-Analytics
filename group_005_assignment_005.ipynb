{
  "nbformat": 4,
  "nbformat_minor": 0,
  "metadata": {
    "kernelspec": {
      "display_name": "Python 3",
      "language": "python",
      "name": "python3"
    },
    "language_info": {
      "codemirror_mode": {
        "name": "ipython",
        "version": 3
      },
      "file_extension": ".py",
      "mimetype": "text/x-python",
      "name": "python",
      "nbconvert_exporter": "python",
      "pygments_lexer": "ipython3",
      "version": "3.6.3"
    },
    "colab": {
      "name": "group_005_assignment_005.ipynb",
      "provenance": [],
      "include_colab_link": true
    }
  },
  "cells": [
    {
      "cell_type": "markdown",
      "metadata": {
        "id": "view-in-github",
        "colab_type": "text"
      },
      "source": [
        "<a href=\"https://colab.research.google.com/github/nguyen084/MATH5671/blob/master/group_005_assignment_005.ipynb\" target=\"_parent\"><img src=\"https://colab.research.google.com/assets/colab-badge.svg\" alt=\"Open In Colab\"/></a>"
      ]
    },
    {
      "cell_type": "markdown",
      "metadata": {
        "id": "bdSAvp9bb2S_",
        "colab_type": "text"
      },
      "source": [
        "# Support Vector Machine Template for Credit Card Applications"
      ]
    },
    {
      "cell_type": "code",
      "metadata": {
        "id": "pli6toRCT6vx",
        "colab_type": "code",
        "outputId": "94bd5773-3e15-4335-9569-411066091b32",
        "colab": {
          "base_uri": "https://localhost:8080/",
          "height": 35
        }
      },
      "source": [
        "from google.colab import drive\n",
        "drive.mount('/content/gdrive')"
      ],
      "execution_count": 122,
      "outputs": [
        {
          "output_type": "stream",
          "text": [
            "Drive already mounted at /content/gdrive; to attempt to forcibly remount, call drive.mount(\"/content/gdrive\", force_remount=True).\n"
          ],
          "name": "stdout"
        }
      ]
    },
    {
      "cell_type": "code",
      "metadata": {
        "id": "ls3l0igub2TA",
        "colab_type": "code",
        "outputId": "5bfc04b2-8e81-4923-e875-5db3047757db",
        "colab": {
          "base_uri": "https://localhost:8080/",
          "height": 221
        }
      },
      "source": [
        "import os\n",
        "import pandas as pd\n",
        "import warnings\n",
        "warnings.filterwarnings(\"ignore\")\n",
        "\n",
        "os.chdir(r'/content/gdrive/My Drive/Academic/UCONN/Financial Research/MATH5671/')\n",
        "credit_X_df = pd.read_csv(\"training_features.csv\",header =0)\n",
        "credit_X_df.head()"
      ],
      "execution_count": 123,
      "outputs": [
        {
          "output_type": "execute_result",
          "data": {
            "text/html": [
              "<div>\n",
              "<style scoped>\n",
              "    .dataframe tbody tr th:only-of-type {\n",
              "        vertical-align: middle;\n",
              "    }\n",
              "\n",
              "    .dataframe tbody tr th {\n",
              "        vertical-align: top;\n",
              "    }\n",
              "\n",
              "    .dataframe thead th {\n",
              "        text-align: right;\n",
              "    }\n",
              "</style>\n",
              "<table border=\"1\" class=\"dataframe\">\n",
              "  <thead>\n",
              "    <tr style=\"text-align: right;\">\n",
              "      <th></th>\n",
              "      <th>checkin_acc</th>\n",
              "      <th>duration</th>\n",
              "      <th>credit_history</th>\n",
              "      <th>purpose</th>\n",
              "      <th>amount</th>\n",
              "      <th>saving_acc</th>\n",
              "      <th>present_emp_since</th>\n",
              "      <th>inst_rate</th>\n",
              "      <th>personal_status</th>\n",
              "      <th>other_debtors</th>\n",
              "      <th>residing_since</th>\n",
              "      <th>property</th>\n",
              "      <th>age</th>\n",
              "      <th>inst_plans</th>\n",
              "      <th>housing</th>\n",
              "      <th>num_credits</th>\n",
              "      <th>job</th>\n",
              "      <th>dependents</th>\n",
              "      <th>telephone</th>\n",
              "      <th>foreign_worker</th>\n",
              "    </tr>\n",
              "  </thead>\n",
              "  <tbody>\n",
              "    <tr>\n",
              "      <th>0</th>\n",
              "      <td>A12</td>\n",
              "      <td>24</td>\n",
              "      <td>A34</td>\n",
              "      <td>A410</td>\n",
              "      <td>11938</td>\n",
              "      <td>A61</td>\n",
              "      <td>A73</td>\n",
              "      <td>2</td>\n",
              "      <td>A93</td>\n",
              "      <td>A102</td>\n",
              "      <td>3</td>\n",
              "      <td>A123</td>\n",
              "      <td>39</td>\n",
              "      <td>A143</td>\n",
              "      <td>A152</td>\n",
              "      <td>2</td>\n",
              "      <td>A174</td>\n",
              "      <td>2</td>\n",
              "      <td>A192</td>\n",
              "      <td>A201</td>\n",
              "    </tr>\n",
              "    <tr>\n",
              "      <th>1</th>\n",
              "      <td>A14</td>\n",
              "      <td>36</td>\n",
              "      <td>A32</td>\n",
              "      <td>A46</td>\n",
              "      <td>1819</td>\n",
              "      <td>A61</td>\n",
              "      <td>A73</td>\n",
              "      <td>4</td>\n",
              "      <td>A93</td>\n",
              "      <td>A101</td>\n",
              "      <td>4</td>\n",
              "      <td>A124</td>\n",
              "      <td>37</td>\n",
              "      <td>A142</td>\n",
              "      <td>A153</td>\n",
              "      <td>1</td>\n",
              "      <td>A173</td>\n",
              "      <td>1</td>\n",
              "      <td>A192</td>\n",
              "      <td>A201</td>\n",
              "    </tr>\n",
              "    <tr>\n",
              "      <th>2</th>\n",
              "      <td>A11</td>\n",
              "      <td>15</td>\n",
              "      <td>A34</td>\n",
              "      <td>A42</td>\n",
              "      <td>1478</td>\n",
              "      <td>A61</td>\n",
              "      <td>A75</td>\n",
              "      <td>4</td>\n",
              "      <td>A93</td>\n",
              "      <td>A101</td>\n",
              "      <td>4</td>\n",
              "      <td>A123</td>\n",
              "      <td>44</td>\n",
              "      <td>A143</td>\n",
              "      <td>A152</td>\n",
              "      <td>2</td>\n",
              "      <td>A173</td>\n",
              "      <td>2</td>\n",
              "      <td>A192</td>\n",
              "      <td>A201</td>\n",
              "    </tr>\n",
              "    <tr>\n",
              "      <th>3</th>\n",
              "      <td>A14</td>\n",
              "      <td>24</td>\n",
              "      <td>A34</td>\n",
              "      <td>A43</td>\n",
              "      <td>1516</td>\n",
              "      <td>A64</td>\n",
              "      <td>A73</td>\n",
              "      <td>4</td>\n",
              "      <td>A92</td>\n",
              "      <td>A101</td>\n",
              "      <td>1</td>\n",
              "      <td>A121</td>\n",
              "      <td>43</td>\n",
              "      <td>A143</td>\n",
              "      <td>A152</td>\n",
              "      <td>2</td>\n",
              "      <td>A172</td>\n",
              "      <td>1</td>\n",
              "      <td>A191</td>\n",
              "      <td>A201</td>\n",
              "    </tr>\n",
              "    <tr>\n",
              "      <th>4</th>\n",
              "      <td>A11</td>\n",
              "      <td>9</td>\n",
              "      <td>A32</td>\n",
              "      <td>A42</td>\n",
              "      <td>2136</td>\n",
              "      <td>A61</td>\n",
              "      <td>A73</td>\n",
              "      <td>3</td>\n",
              "      <td>A93</td>\n",
              "      <td>A101</td>\n",
              "      <td>2</td>\n",
              "      <td>A121</td>\n",
              "      <td>25</td>\n",
              "      <td>A143</td>\n",
              "      <td>A152</td>\n",
              "      <td>1</td>\n",
              "      <td>A173</td>\n",
              "      <td>1</td>\n",
              "      <td>A191</td>\n",
              "      <td>A201</td>\n",
              "    </tr>\n",
              "  </tbody>\n",
              "</table>\n",
              "</div>"
            ],
            "text/plain": [
              "  checkin_acc  duration credit_history  ... dependents  telephone foreign_worker\n",
              "0         A12        24            A34  ...          2       A192           A201\n",
              "1         A14        36            A32  ...          1       A192           A201\n",
              "2         A11        15            A34  ...          2       A192           A201\n",
              "3         A14        24            A34  ...          1       A191           A201\n",
              "4         A11         9            A32  ...          1       A191           A201\n",
              "\n",
              "[5 rows x 20 columns]"
            ]
          },
          "metadata": {
            "tags": []
          },
          "execution_count": 123
        }
      ]
    },
    {
      "cell_type": "code",
      "metadata": {
        "id": "TH5iE4zmb2TE",
        "colab_type": "code",
        "outputId": "6d0427fa-473c-4552-aebd-5a005b3568ac",
        "colab": {
          "base_uri": "https://localhost:8080/",
          "height": 140
        }
      },
      "source": [
        "import matplotlib.pyplot as plt \n",
        "import pandas as pd\n",
        "import numpy as np\n",
        "\n",
        "credit_y_df = pd.read_csv(\"training_labels.csv\",header =0)\n",
        "\n",
        "# target variable distribution\n",
        "credit_y_df.groupby(['status'])[['status']].count()"
      ],
      "execution_count": 124,
      "outputs": [
        {
          "output_type": "execute_result",
          "data": {
            "text/html": [
              "<div>\n",
              "<style scoped>\n",
              "    .dataframe tbody tr th:only-of-type {\n",
              "        vertical-align: middle;\n",
              "    }\n",
              "\n",
              "    .dataframe tbody tr th {\n",
              "        vertical-align: top;\n",
              "    }\n",
              "\n",
              "    .dataframe thead th {\n",
              "        text-align: right;\n",
              "    }\n",
              "</style>\n",
              "<table border=\"1\" class=\"dataframe\">\n",
              "  <thead>\n",
              "    <tr style=\"text-align: right;\">\n",
              "      <th></th>\n",
              "      <th>status</th>\n",
              "    </tr>\n",
              "    <tr>\n",
              "      <th>status</th>\n",
              "      <th></th>\n",
              "    </tr>\n",
              "  </thead>\n",
              "  <tbody>\n",
              "    <tr>\n",
              "      <th>-1</th>\n",
              "      <td>214</td>\n",
              "    </tr>\n",
              "    <tr>\n",
              "      <th>1</th>\n",
              "      <td>486</td>\n",
              "    </tr>\n",
              "  </tbody>\n",
              "</table>\n",
              "</div>"
            ],
            "text/plain": [
              "        status\n",
              "status        \n",
              "-1         214\n",
              " 1         486"
            ]
          },
          "metadata": {
            "tags": []
          },
          "execution_count": 124
        }
      ]
    },
    {
      "cell_type": "markdown",
      "metadata": {
        "id": "FP3aoqJxb2TI",
        "colab_type": "text"
      },
      "source": [
        "It can be seen that the class distribution is unbalanced"
      ]
    },
    {
      "cell_type": "code",
      "metadata": {
        "id": "vjAWsBiYb2TJ",
        "colab_type": "code",
        "outputId": "d54c64ca-8fca-4735-bf21-badb5965226d",
        "colab": {
          "base_uri": "https://localhost:8080/",
          "height": 221
        }
      },
      "source": [
        "credit_all_df = pd.concat([credit_X_df.reset_index(drop=True), credit_y_df], axis=1) \n",
        "credit_all_df.head()"
      ],
      "execution_count": 125,
      "outputs": [
        {
          "output_type": "execute_result",
          "data": {
            "text/html": [
              "<div>\n",
              "<style scoped>\n",
              "    .dataframe tbody tr th:only-of-type {\n",
              "        vertical-align: middle;\n",
              "    }\n",
              "\n",
              "    .dataframe tbody tr th {\n",
              "        vertical-align: top;\n",
              "    }\n",
              "\n",
              "    .dataframe thead th {\n",
              "        text-align: right;\n",
              "    }\n",
              "</style>\n",
              "<table border=\"1\" class=\"dataframe\">\n",
              "  <thead>\n",
              "    <tr style=\"text-align: right;\">\n",
              "      <th></th>\n",
              "      <th>checkin_acc</th>\n",
              "      <th>duration</th>\n",
              "      <th>credit_history</th>\n",
              "      <th>purpose</th>\n",
              "      <th>amount</th>\n",
              "      <th>saving_acc</th>\n",
              "      <th>present_emp_since</th>\n",
              "      <th>inst_rate</th>\n",
              "      <th>personal_status</th>\n",
              "      <th>other_debtors</th>\n",
              "      <th>residing_since</th>\n",
              "      <th>property</th>\n",
              "      <th>age</th>\n",
              "      <th>inst_plans</th>\n",
              "      <th>housing</th>\n",
              "      <th>num_credits</th>\n",
              "      <th>job</th>\n",
              "      <th>dependents</th>\n",
              "      <th>telephone</th>\n",
              "      <th>foreign_worker</th>\n",
              "      <th>status</th>\n",
              "    </tr>\n",
              "  </thead>\n",
              "  <tbody>\n",
              "    <tr>\n",
              "      <th>0</th>\n",
              "      <td>A12</td>\n",
              "      <td>24</td>\n",
              "      <td>A34</td>\n",
              "      <td>A410</td>\n",
              "      <td>11938</td>\n",
              "      <td>A61</td>\n",
              "      <td>A73</td>\n",
              "      <td>2</td>\n",
              "      <td>A93</td>\n",
              "      <td>A102</td>\n",
              "      <td>3</td>\n",
              "      <td>A123</td>\n",
              "      <td>39</td>\n",
              "      <td>A143</td>\n",
              "      <td>A152</td>\n",
              "      <td>2</td>\n",
              "      <td>A174</td>\n",
              "      <td>2</td>\n",
              "      <td>A192</td>\n",
              "      <td>A201</td>\n",
              "      <td>-1</td>\n",
              "    </tr>\n",
              "    <tr>\n",
              "      <th>1</th>\n",
              "      <td>A14</td>\n",
              "      <td>36</td>\n",
              "      <td>A32</td>\n",
              "      <td>A46</td>\n",
              "      <td>1819</td>\n",
              "      <td>A61</td>\n",
              "      <td>A73</td>\n",
              "      <td>4</td>\n",
              "      <td>A93</td>\n",
              "      <td>A101</td>\n",
              "      <td>4</td>\n",
              "      <td>A124</td>\n",
              "      <td>37</td>\n",
              "      <td>A142</td>\n",
              "      <td>A153</td>\n",
              "      <td>1</td>\n",
              "      <td>A173</td>\n",
              "      <td>1</td>\n",
              "      <td>A192</td>\n",
              "      <td>A201</td>\n",
              "      <td>-1</td>\n",
              "    </tr>\n",
              "    <tr>\n",
              "      <th>2</th>\n",
              "      <td>A11</td>\n",
              "      <td>15</td>\n",
              "      <td>A34</td>\n",
              "      <td>A42</td>\n",
              "      <td>1478</td>\n",
              "      <td>A61</td>\n",
              "      <td>A75</td>\n",
              "      <td>4</td>\n",
              "      <td>A93</td>\n",
              "      <td>A101</td>\n",
              "      <td>4</td>\n",
              "      <td>A123</td>\n",
              "      <td>44</td>\n",
              "      <td>A143</td>\n",
              "      <td>A152</td>\n",
              "      <td>2</td>\n",
              "      <td>A173</td>\n",
              "      <td>2</td>\n",
              "      <td>A192</td>\n",
              "      <td>A201</td>\n",
              "      <td>1</td>\n",
              "    </tr>\n",
              "    <tr>\n",
              "      <th>3</th>\n",
              "      <td>A14</td>\n",
              "      <td>24</td>\n",
              "      <td>A34</td>\n",
              "      <td>A43</td>\n",
              "      <td>1516</td>\n",
              "      <td>A64</td>\n",
              "      <td>A73</td>\n",
              "      <td>4</td>\n",
              "      <td>A92</td>\n",
              "      <td>A101</td>\n",
              "      <td>1</td>\n",
              "      <td>A121</td>\n",
              "      <td>43</td>\n",
              "      <td>A143</td>\n",
              "      <td>A152</td>\n",
              "      <td>2</td>\n",
              "      <td>A172</td>\n",
              "      <td>1</td>\n",
              "      <td>A191</td>\n",
              "      <td>A201</td>\n",
              "      <td>1</td>\n",
              "    </tr>\n",
              "    <tr>\n",
              "      <th>4</th>\n",
              "      <td>A11</td>\n",
              "      <td>9</td>\n",
              "      <td>A32</td>\n",
              "      <td>A42</td>\n",
              "      <td>2136</td>\n",
              "      <td>A61</td>\n",
              "      <td>A73</td>\n",
              "      <td>3</td>\n",
              "      <td>A93</td>\n",
              "      <td>A101</td>\n",
              "      <td>2</td>\n",
              "      <td>A121</td>\n",
              "      <td>25</td>\n",
              "      <td>A143</td>\n",
              "      <td>A152</td>\n",
              "      <td>1</td>\n",
              "      <td>A173</td>\n",
              "      <td>1</td>\n",
              "      <td>A191</td>\n",
              "      <td>A201</td>\n",
              "      <td>1</td>\n",
              "    </tr>\n",
              "  </tbody>\n",
              "</table>\n",
              "</div>"
            ],
            "text/plain": [
              "  checkin_acc  duration credit_history  ... telephone  foreign_worker status\n",
              "0         A12        24            A34  ...      A192            A201     -1\n",
              "1         A14        36            A32  ...      A192            A201     -1\n",
              "2         A11        15            A34  ...      A192            A201      1\n",
              "3         A14        24            A34  ...      A191            A201      1\n",
              "4         A11         9            A32  ...      A191            A201      1\n",
              "\n",
              "[5 rows x 21 columns]"
            ]
          },
          "metadata": {
            "tags": []
          },
          "execution_count": 125
        }
      ]
    },
    {
      "cell_type": "markdown",
      "metadata": {
        "id": "00HcYgbWb2TM",
        "colab_type": "text"
      },
      "source": [
        "## Data Exploration\n",
        "Exploring the dataset using plots, histograms, descriptive statistics, etc."
      ]
    },
    {
      "cell_type": "code",
      "metadata": {
        "id": "qcfOrOQMb2TO",
        "colab_type": "code",
        "outputId": "b08fedcf-e60c-4057-e92a-702e61952dd9",
        "colab": {
          "base_uri": "https://localhost:8080/",
          "height": 940
        }
      },
      "source": [
        "# just numeric variables\n",
        "import seaborn as sns\n",
        "import matplotlib.pyplot as plt\n",
        "%matplotlib inline\n",
        "corr = credit_all_df.corr()\n",
        "plt.figure(figsize=(16, 16))\n",
        "sns.heatmap(corr,annot = True,\n",
        "        xticklabels=corr.columns,\n",
        "        yticklabels=corr.columns)"
      ],
      "execution_count": 128,
      "outputs": [
        {
          "output_type": "execute_result",
          "data": {
            "text/plain": [
              "<matplotlib.axes._subplots.AxesSubplot at 0x7f8317283cc0>"
            ]
          },
          "metadata": {
            "tags": []
          },
          "execution_count": 128
        },
        {
          "output_type": "display_data",
          "data": {
            "image/png": "[encoded data removed]",
            "text/plain": [
              "<Figure size 1152x1152 with 2 Axes>"
            ]
          },
          "metadata": {
            "tags": []
          }
        }
      ]
    },
    {
      "cell_type": "markdown",
      "metadata": {
        "id": "k9POw1ATb2TR",
        "colab_type": "text"
      },
      "source": [
        "## Preprocessing\n",
        "Convert a number of categorical variables to dummy variables"
      ]
    },
    {
      "cell_type": "code",
      "metadata": {
        "id": "ah4qertbb2TR",
        "colab_type": "code",
        "outputId": "fb393f35-3f64-4dc6-a071-489d6d91acfc",
        "colab": {
          "base_uri": "https://localhost:8080/",
          "height": 390
        }
      },
      "source": [
        "# convert categorical variables to dummy variables\n",
        "cat_vars=['checkin_acc','credit_history','purpose','saving_acc','present_emp_since','personal_status','other_debtors',\n",
        "          'property', 'inst_plans','housing','job', 'telephone', 'foreign_worker']\n",
        "\n",
        "credit_X_df = pd.get_dummies(credit_X_df, columns = cat_vars)\n",
        "credit_X_df.head()"
      ],
      "execution_count": 129,
      "outputs": [
        {
          "output_type": "error",
          "ename": "KeyError",
          "evalue": "ignored",
          "traceback": [
            "\u001b[0;31m---------------------------------------------------------------------------\u001b[0m",
            "\u001b[0;31mKeyError\u001b[0m                                  Traceback (most recent call last)",
            "\u001b[0;32m<ipython-input-129-d9ebf724d71c>\u001b[0m in \u001b[0;36m<module>\u001b[0;34m()\u001b[0m\n\u001b[1;32m      2\u001b[0m           'property', 'inst_plans','housing','job', 'telephone', 'foreign_worker']\n\u001b[1;32m      3\u001b[0m \u001b[0;34m\u001b[0m\u001b[0m\n\u001b[0;32m----> 4\u001b[0;31m \u001b[0mcredit_X_df\u001b[0m \u001b[0;34m=\u001b[0m \u001b[0mpd\u001b[0m\u001b[0;34m.\u001b[0m\u001b[0mget_dummies\u001b[0m\u001b[0;34m(\u001b[0m\u001b[0mcredit_X_df\u001b[0m\u001b[0;34m,\u001b[0m \u001b[0mcolumns\u001b[0m \u001b[0;34m=\u001b[0m \u001b[0mcat_vars\u001b[0m\u001b[0;34m)\u001b[0m\u001b[0;34m\u001b[0m\u001b[0;34m\u001b[0m\u001b[0m\n\u001b[0m\u001b[1;32m      5\u001b[0m \u001b[0mcredit_X_df\u001b[0m\u001b[0;34m.\u001b[0m\u001b[0mhead\u001b[0m\u001b[0;34m(\u001b[0m\u001b[0;34m)\u001b[0m\u001b[0;34m\u001b[0m\u001b[0;34m\u001b[0m\u001b[0m\n",
            "\u001b[0;32m/usr/local/lib/python3.6/dist-packages/pandas/core/reshape/reshape.py\u001b[0m in \u001b[0;36mget_dummies\u001b[0;34m(data, prefix, prefix_sep, dummy_na, columns, sparse, drop_first, dtype)\u001b[0m\n\u001b[1;32m    810\u001b[0m                 include=dtypes_to_encode)\n\u001b[1;32m    811\u001b[0m         \u001b[0;32melse\u001b[0m\u001b[0;34m:\u001b[0m\u001b[0;34m\u001b[0m\u001b[0;34m\u001b[0m\u001b[0m\n\u001b[0;32m--> 812\u001b[0;31m             \u001b[0mdata_to_encode\u001b[0m \u001b[0;34m=\u001b[0m \u001b[0mdata\u001b[0m\u001b[0;34m[\u001b[0m\u001b[0mcolumns\u001b[0m\u001b[0;34m]\u001b[0m\u001b[0;34m\u001b[0m\u001b[0;34m\u001b[0m\u001b[0m\n\u001b[0m\u001b[1;32m    813\u001b[0m \u001b[0;34m\u001b[0m\u001b[0m\n\u001b[1;32m    814\u001b[0m         \u001b[0;31m# validate prefixes and separator to avoid silently dropping cols\u001b[0m\u001b[0;34m\u001b[0m\u001b[0;34m\u001b[0m\u001b[0;34m\u001b[0m\u001b[0m\n",
            "\u001b[0;32m/usr/local/lib/python3.6/dist-packages/pandas/core/frame.py\u001b[0m in \u001b[0;36m__getitem__\u001b[0;34m(self, key)\u001b[0m\n\u001b[1;32m   2932\u001b[0m                 \u001b[0mkey\u001b[0m \u001b[0;34m=\u001b[0m \u001b[0mlist\u001b[0m\u001b[0;34m(\u001b[0m\u001b[0mkey\u001b[0m\u001b[0;34m)\u001b[0m\u001b[0;34m\u001b[0m\u001b[0;34m\u001b[0m\u001b[0m\n\u001b[1;32m   2933\u001b[0m             indexer = self.loc._convert_to_indexer(key, axis=1,\n\u001b[0;32m-> 2934\u001b[0;31m                                                    raise_missing=True)\n\u001b[0m\u001b[1;32m   2935\u001b[0m \u001b[0;34m\u001b[0m\u001b[0m\n\u001b[1;32m   2936\u001b[0m         \u001b[0;31m# take() does not accept boolean indexers\u001b[0m\u001b[0;34m\u001b[0m\u001b[0;34m\u001b[0m\u001b[0;34m\u001b[0m\u001b[0m\n",
            "\u001b[0;32m/usr/local/lib/python3.6/dist-packages/pandas/core/indexing.py\u001b[0m in \u001b[0;36m_convert_to_indexer\u001b[0;34m(self, obj, axis, is_setter, raise_missing)\u001b[0m\n\u001b[1;32m   1352\u001b[0m                 kwargs = {'raise_missing': True if is_setter else\n\u001b[1;32m   1353\u001b[0m                           raise_missing}\n\u001b[0;32m-> 1354\u001b[0;31m                 \u001b[0;32mreturn\u001b[0m \u001b[0mself\u001b[0m\u001b[0;34m.\u001b[0m\u001b[0m_get_listlike_indexer\u001b[0m\u001b[0;34m(\u001b[0m\u001b[0mobj\u001b[0m\u001b[0;34m,\u001b[0m \u001b[0maxis\u001b[0m\u001b[0;34m,\u001b[0m \u001b[0;34m**\u001b[0m\u001b[0mkwargs\u001b[0m\u001b[0;34m)\u001b[0m\u001b[0;34m[\u001b[0m\u001b[0;36m1\u001b[0m\u001b[0;34m]\u001b[0m\u001b[0;34m\u001b[0m\u001b[0;34m\u001b[0m\u001b[0m\n\u001b[0m\u001b[1;32m   1355\u001b[0m         \u001b[0;32melse\u001b[0m\u001b[0;34m:\u001b[0m\u001b[0;34m\u001b[0m\u001b[0;34m\u001b[0m\u001b[0m\n\u001b[1;32m   1356\u001b[0m             \u001b[0;32mtry\u001b[0m\u001b[0;34m:\u001b[0m\u001b[0;34m\u001b[0m\u001b[0;34m\u001b[0m\u001b[0m\n",
            "\u001b[0;32m/usr/local/lib/python3.6/dist-packages/pandas/core/indexing.py\u001b[0m in \u001b[0;36m_get_listlike_indexer\u001b[0;34m(self, key, axis, raise_missing)\u001b[0m\n\u001b[1;32m   1159\u001b[0m         self._validate_read_indexer(keyarr, indexer,\n\u001b[1;32m   1160\u001b[0m                                     \u001b[0mo\u001b[0m\u001b[0;34m.\u001b[0m\u001b[0m_get_axis_number\u001b[0m\u001b[0;34m(\u001b[0m\u001b[0maxis\u001b[0m\u001b[0;34m)\u001b[0m\u001b[0;34m,\u001b[0m\u001b[0;34m\u001b[0m\u001b[0;34m\u001b[0m\u001b[0m\n\u001b[0;32m-> 1161\u001b[0;31m                                     raise_missing=raise_missing)\n\u001b[0m\u001b[1;32m   1162\u001b[0m         \u001b[0;32mreturn\u001b[0m \u001b[0mkeyarr\u001b[0m\u001b[0;34m,\u001b[0m \u001b[0mindexer\u001b[0m\u001b[0;34m\u001b[0m\u001b[0;34m\u001b[0m\u001b[0m\n\u001b[1;32m   1163\u001b[0m \u001b[0;34m\u001b[0m\u001b[0m\n",
            "\u001b[0;32m/usr/local/lib/python3.6/dist-packages/pandas/core/indexing.py\u001b[0m in \u001b[0;36m_validate_read_indexer\u001b[0;34m(self, key, indexer, axis, raise_missing)\u001b[0m\n\u001b[1;32m   1244\u001b[0m                 raise KeyError(\n\u001b[1;32m   1245\u001b[0m                     u\"None of [{key}] are in the [{axis}]\".format(\n\u001b[0;32m-> 1246\u001b[0;31m                         key=key, axis=self.obj._get_axis_name(axis)))\n\u001b[0m\u001b[1;32m   1247\u001b[0m \u001b[0;34m\u001b[0m\u001b[0m\n\u001b[1;32m   1248\u001b[0m             \u001b[0;31m# We (temporarily) allow for some missing keys with .loc, except in\u001b[0m\u001b[0;34m\u001b[0m\u001b[0;34m\u001b[0m\u001b[0;34m\u001b[0m\u001b[0m\n",
            "\u001b[0;31mKeyError\u001b[0m: \"None of [Index(['checkin_acc', 'credit_history', 'purpose', 'saving_acc',\\n       'present_emp_since', 'personal_status', 'other_debtors', 'property',\\n       'inst_plans', 'housing', 'job', 'telephone', 'foreign_worker'],\\n      dtype='object')] are in the [columns]\""
          ]
        }
      ]
    },
    {
      "cell_type": "markdown",
      "metadata": {
        "id": "-Hzosomvb2TU",
        "colab_type": "text"
      },
      "source": [
        "Data is unbalanced, undersampling or oversampling"
      ]
    },
    {
      "cell_type": "code",
      "metadata": {
        "id": "3W4wugOAb2TV",
        "colab_type": "code",
        "colab": {}
      },
      "source": [
        "import warnings\n",
        "warnings.filterwarnings(\"ignore\", category=FutureWarning)\n",
        "\n",
        "from imblearn.over_sampling import RandomOverSampler\n",
        "from imblearn.under_sampling import RandomUnderSampler\n",
        "from sklearn.utils import shuffle\n",
        "from sklearn.model_selection import train_test_split\n",
        "X_train, X_test, y_train, y_test = train_test_split(credit_X_df, credit_y_df, test_size=0.3, random_state=0)\n",
        "X_resampled, y_resampled = RandomUnderSampler(random_state=0).fit_sample(X_train, y_train)\n",
        "X_resampled, y_resampled = shuffle(X_resampled, y_resampled)"
      ],
      "execution_count": 0,
      "outputs": []
    },
    {
      "cell_type": "markdown",
      "metadata": {
        "id": "ceVfEOs9b2TY",
        "colab_type": "text"
      },
      "source": [
        "Simple feature selection using correlation threshold"
      ]
    },
    {
      "cell_type": "code",
      "metadata": {
        "id": "HK8JalNAb2TZ",
        "colab_type": "code",
        "outputId": "9c07fcad-a308-4cff-9bd7-2f08828f2f18",
        "colab": {
          "base_uri": "https://localhost:8080/",
          "height": 35
        }
      },
      "source": [
        "from scipy.stats.stats import pearsonr\n",
        "relevant_features = []\n",
        "for i in range(len(X_resampled[0]) - 1): \n",
        "    thres = 0.1\n",
        "    corr = pearsonr(y_resampled.flatten(),X_resampled[:,i])[0]\n",
        "        \n",
        "    if abs(corr) > thres:\n",
        "        relevant_features.append(i)\n",
        "    \n",
        "relevant_features"
      ],
      "execution_count": 131,
      "outputs": [
        {
          "output_type": "execute_result",
          "data": {
            "text/plain": [
              "[0, 7, 8, 10, 11, 12, 15, 17, 20, 21, 26, 29, 30, 32, 43, 50, 57, 58]"
            ]
          },
          "metadata": {
            "tags": []
          },
          "execution_count": 131
        }
      ]
    },
    {
      "cell_type": "code",
      "metadata": {
        "id": "5ChW5TEnb2Tc",
        "colab_type": "code",
        "colab": {}
      },
      "source": [
        "X_resampled = X_resampled[:,relevant_features]"
      ],
      "execution_count": 0,
      "outputs": []
    },
    {
      "cell_type": "code",
      "metadata": {
        "id": "g-JFShRkb2Tg",
        "colab_type": "code",
        "colab": {}
      },
      "source": [
        "X_test = X_test.iloc[:,relevant_features]"
      ],
      "execution_count": 0,
      "outputs": []
    },
    {
      "cell_type": "markdown",
      "metadata": {
        "id": "KGvr6L2Mb2Tl",
        "colab_type": "text"
      },
      "source": [
        "Normalization"
      ]
    },
    {
      "cell_type": "code",
      "metadata": {
        "id": "nkVDDDe2b2Tm",
        "colab_type": "code",
        "colab": {}
      },
      "source": [
        "from sklearn.preprocessing import normalize\n",
        "X_resampled = normalize(X_resampled)\n",
        "X_test = normalize(X_test)"
      ],
      "execution_count": 0,
      "outputs": []
    },
    {
      "cell_type": "markdown",
      "metadata": {
        "id": "L3FZe_DXb2Tp",
        "colab_type": "text"
      },
      "source": [
        "Use solve.qp to solve for alpha (which is x in the optimization problems)"
      ]
    },
    {
      "cell_type": "markdown",
      "metadata": {
        "collapsed": true,
        "id": "jHuUIpsgb2Tp",
        "colab_type": "text"
      },
      "source": [
        "![image.png](attachment:image.png)"
      ]
    },
    {
      "cell_type": "code",
      "metadata": {
        "id": "WtIeu32Gb2Tq",
        "colab_type": "code",
        "colab": {}
      },
      "source": [
        "import csv\n",
        "import numpy as np\n",
        "import math\n",
        "import cvxopt as opt\n",
        "from cvxopt import matrix, solvers\n",
        "\n",
        "def kernel(XTest, XTrain, Ktype = 0, sigma = 0,c=0,d=1):\n",
        "    # Write your code here to return the kernel, type may be 0, 1, 2 for different kernel types\n",
        "    if Ktype == 0: #linear\n",
        "      K = np.dot(XTest, XTrain.T) \n",
        "    if Ktype == 1:\n",
        "      K = np.dot(XTest, XTrain.T+c)**d\n",
        "    if Ktype == 2:\n",
        "      Val_test = np.sum(XTest**2, axis = 1) #get the total variance of Xtest\n",
        "      Val_train = np.sum(XTrain**2, axis = 1) #get the total variance of Xtrain\n",
        "      product = np.dot(np.ones(np.size(XTest, axis=0))[:, None], Val_train.T[None,:]) - 2 * np.dot(XTest, XTrain.T)\n",
        "      K = np.dot(Val_test[:,None], np.ones(np.size(XTrain, axis=0)).T[None,:]) + product\n",
        "      K = np.exp(-K/(2*sigma))\n",
        "    return K   \n",
        "\n",
        "def predict(XTest, XTrain, yTrain, alpha, Type = 0, d = 1, sigma = 1):\n",
        "    b = intercept(XTest, XTrain, yTrain, alpha, Type, d, sigma)\n",
        "    K = kernel(XTest, XTrain, Type, d, sigma)\n",
        "    pred = (K @ (alpha * yTrain) + b)\n",
        "    pred[pred >= 0] = 1\n",
        "    pred[pred < 0] = -1\n",
        "    return pred\n",
        "\n",
        "def intercept(XTest,XTrain, yTrain, alpha, Type = 0, d = 1, sigma = 1):\n",
        "  return np.mean(yTrain - np.dot(kernel(XTrain, XTrain, Type, d, sigma), (np.multiply(alpha, yTrain))))"
      ],
      "execution_count": 0,
      "outputs": []
    },
    {
      "cell_type": "code",
      "metadata": {
        "id": "Tfdyf_G6U4vf",
        "colab_type": "code",
        "outputId": "5a488ddb-e80c-4551-92d6-fceeae0cb425",
        "colab": {
          "base_uri": "https://localhost:8080/",
          "height": 159
        }
      },
      "source": [
        "# Gaussian Kernel\n",
        "TrainSize = X_resampled.shape[0]\n",
        "K = kernel(X_resampled, X_resampled,Ktype = 2, sigma = 5)\n",
        "a0 = np.random.randn(TrainSize)\n",
        "\n",
        "# Inequality that individual alpha>=0\n",
        "G = matrix(np.eye(TrainSize))\n",
        "h = matrix(np.zeros(TrainSize))\n",
        "\n",
        "# Equality that sum(alpha_i*y_i)=0\n",
        "A = opt.matrix(np.double(y_resampled))\n",
        "b = matrix(0.0)\n",
        "\n",
        "# Change from min to max optimization by multiplying with -1\n",
        "# Regularization term to force H positive definite\n",
        "ymat = np.diag(y_resampled.flatten())\n",
        "P = 0.5 * np.dot(ymat, np.dot(K, ymat)) + 1e-10 * np.identity(TrainSize)\n",
        "q = opt.matrix(-np.ones((TrainSize,1)))\n",
        "\n",
        "opts = {'maxiters':100000}\n",
        "solvers.options['show_progress'] = False \n",
        "sol = solvers.qp(matrix(P), q, G, h, A.T, b, initvals = a0, options=opts) # solvers.qp to solve the optimization\n",
        "alpha = np.array(sol['x'])\n",
        "#alpha = preprocessing.scale(alpha)"
      ],
      "execution_count": 139,
      "outputs": [
        {
          "output_type": "stream",
          "text": [
            "     pcost       dcost       gap    pres   dres\n",
            " 0:  0.0000e+00  0.0000e+00  3e+02  2e+01  0e+00\n",
            " 1:  0.0000e+00 -4.4409e-16  3e+00  2e-01  1e-16\n",
            " 2:  1.8174e-16  2.7756e-17  3e-02  2e-03  1e-16\n",
            " 3:  1.0059e-18  5.4210e-20  3e-04  2e-05  0e+00\n",
            " 4:  9.6541e-21 -4.2352e-22  3e-06  2e-07  0e+00\n",
            " 5:  1.0894e-22 -9.9262e-24  3e-08  2e-09  1e-16\n",
            "Optimal solution found.\n"
          ],
          "name": "stdout"
        }
      ]
    },
    {
      "cell_type": "code",
      "metadata": {
        "id": "7wciNBx4qZ9D",
        "colab_type": "code",
        "outputId": "da86ee69-d170-4602-ce00-4a7af833c47e",
        "colab": {
          "base_uri": "https://localhost:8080/",
          "height": 195
        }
      },
      "source": [
        "from sklearn import metrics\n",
        "pred = predict(X_test, X_resampled, y_resampled, alpha, Type=2, sigma=5)\n",
        "print('\\nTraining Accuracy: '+ str(np.mean((pred == y_test) * 100)))\n",
        "print(\"Accuracy:\",metrics.accuracy_score(y_test, pred))\n",
        "print(\"Precision:\",metrics.precision_score(y_test, pred))\n",
        "print(\"Recall:\",metrics.recall_score(y_test, pred))\n",
        "print(\"Confusion Matrix:\\n\")\n",
        "print(metrics.confusion_matrix(y_test, pred))"
      ],
      "execution_count": 140,
      "outputs": [
        {
          "output_type": "stream",
          "text": [
            "\n",
            "Training Accuracy: status    66.666667\n",
            "dtype: float64\n",
            "Accuracy: 0.6666666666666666\n",
            "Precision: 0.6763285024154589\n",
            "Recall: 0.9790209790209791\n",
            "Confusion Matrix:\n",
            "\n",
            "[[  0  67]\n",
            " [  3 140]]\n"
          ],
          "name": "stdout"
        }
      ]
    },
    {
      "cell_type": "markdown",
      "metadata": {
        "id": "Iz25uV-Qb2Tw",
        "colab_type": "text"
      },
      "source": [
        "# Additional Model Scoring"
      ]
    },
    {
      "cell_type": "markdown",
      "metadata": {
        "id": "AFeMBeNAb2Tx",
        "colab_type": "text"
      },
      "source": [
        "Use your model to score the test dataset in the German Credit Card Application project/contest below. After joining, you can create a team and invite members. Submit your score result to see how it is ranked, and share your write-up/notebook\n",
        "http://www.scriptedin.com/contests/view/20\n",
        "\n",
        "(You need to convert categorical variables to dummy variables). You can re-train the model using the training dataset as well if you’d like."
      ]
    },
    {
      "cell_type": "code",
      "metadata": {
        "id": "nFPgz2PMb2Ty",
        "colab_type": "code",
        "outputId": "67678079-d421-4367-8344-1cc6ad6d20f5",
        "colab": {
          "base_uri": "https://localhost:8080/",
          "height": 238
        }
      },
      "source": [
        "test_feature_df = pd.read_csv(\"test_features.csv\",header =0)\n",
        "#test_feature_df = pd.get_dummies(test_feature_df, columns = cat_vars)\n",
        "test_feature_df.head()"
      ],
      "execution_count": 141,
      "outputs": [
        {
          "output_type": "execute_result",
          "data": {
            "text/html": [
              "<div>\n",
              "<style scoped>\n",
              "    .dataframe tbody tr th:only-of-type {\n",
              "        vertical-align: middle;\n",
              "    }\n",
              "\n",
              "    .dataframe tbody tr th {\n",
              "        vertical-align: top;\n",
              "    }\n",
              "\n",
              "    .dataframe thead th {\n",
              "        text-align: right;\n",
              "    }\n",
              "</style>\n",
              "<table border=\"1\" class=\"dataframe\">\n",
              "  <thead>\n",
              "    <tr style=\"text-align: right;\">\n",
              "      <th></th>\n",
              "      <th>STATE</th>\n",
              "      <th>REGION</th>\n",
              "      <th>SEX</th>\n",
              "      <th>PROFESSION</th>\n",
              "      <th>AGE</th>\n",
              "      <th>HAS_CHILDREN</th>\n",
              "      <th>SALARY</th>\n",
              "      <th>N_OF_DEPENDENTS</th>\n",
              "      <th>CAR_OWNERSHIP</th>\n",
              "      <th>HOUSE_OWNERSHIP</th>\n",
              "      <th>TIME_AS_CUSTOMER</th>\n",
              "      <th>MARITAL_STATUS</th>\n",
              "      <th>CREDIT_BALANCE</th>\n",
              "      <th>BANK_FUNDS</th>\n",
              "      <th>CHECKING_AMOUNT</th>\n",
              "      <th>MONEY_MONTLY_OVERDRAWN</th>\n",
              "      <th>T_AMOUNT_AUTOM_PAYMENTS</th>\n",
              "      <th>MONTHLY_CHECKS_WRITTEN</th>\n",
              "      <th>MORTGAGE_AMOUNT</th>\n",
              "      <th>N_TRANS_ATM</th>\n",
              "      <th>N_MORTGAGES</th>\n",
              "      <th>N_TRANS_TELLER</th>\n",
              "      <th>CREDIT_CARD_LIMITS</th>\n",
              "      <th>N_TRANS_KIOSK</th>\n",
              "      <th>N_TRANS_WEB_BANK</th>\n",
              "      <th>LTV</th>\n",
              "      <th>LTV_BIN</th>\n",
              "    </tr>\n",
              "  </thead>\n",
              "  <tbody>\n",
              "    <tr>\n",
              "      <th>0</th>\n",
              "      <td>IL</td>\n",
              "      <td>Midwest</td>\n",
              "      <td>F</td>\n",
              "      <td>Bank Teller</td>\n",
              "      <td>21</td>\n",
              "      <td>1</td>\n",
              "      <td>69868</td>\n",
              "      <td>5</td>\n",
              "      <td>1</td>\n",
              "      <td>1</td>\n",
              "      <td>5</td>\n",
              "      <td>MARRIED</td>\n",
              "      <td>0</td>\n",
              "      <td>0</td>\n",
              "      <td>25</td>\n",
              "      <td>53.06</td>\n",
              "      <td>0</td>\n",
              "      <td>0</td>\n",
              "      <td>1500</td>\n",
              "      <td>0</td>\n",
              "      <td>1</td>\n",
              "      <td>0</td>\n",
              "      <td>1000</td>\n",
              "      <td>1</td>\n",
              "      <td>1500</td>\n",
              "      <td>17067.00</td>\n",
              "      <td>MEDIUM</td>\n",
              "    </tr>\n",
              "    <tr>\n",
              "      <th>1</th>\n",
              "      <td>CA</td>\n",
              "      <td>West</td>\n",
              "      <td>F</td>\n",
              "      <td>Truck Driver</td>\n",
              "      <td>50</td>\n",
              "      <td>0</td>\n",
              "      <td>71214</td>\n",
              "      <td>1</td>\n",
              "      <td>1</td>\n",
              "      <td>1</td>\n",
              "      <td>1</td>\n",
              "      <td>MARRIED</td>\n",
              "      <td>0</td>\n",
              "      <td>450</td>\n",
              "      <td>170</td>\n",
              "      <td>53.20</td>\n",
              "      <td>1159</td>\n",
              "      <td>18</td>\n",
              "      <td>1000</td>\n",
              "      <td>3</td>\n",
              "      <td>1</td>\n",
              "      <td>2</td>\n",
              "      <td>1000</td>\n",
              "      <td>1</td>\n",
              "      <td>1000</td>\n",
              "      <td>31303.50</td>\n",
              "      <td>VERY HIGH</td>\n",
              "    </tr>\n",
              "    <tr>\n",
              "      <th>2</th>\n",
              "      <td>FL</td>\n",
              "      <td>South</td>\n",
              "      <td>F</td>\n",
              "      <td>IT Staff</td>\n",
              "      <td>65</td>\n",
              "      <td>1</td>\n",
              "      <td>66389</td>\n",
              "      <td>3</td>\n",
              "      <td>1</td>\n",
              "      <td>1</td>\n",
              "      <td>4</td>\n",
              "      <td>DIVORCED</td>\n",
              "      <td>0</td>\n",
              "      <td>3200</td>\n",
              "      <td>25</td>\n",
              "      <td>55.41</td>\n",
              "      <td>2826</td>\n",
              "      <td>2</td>\n",
              "      <td>4000</td>\n",
              "      <td>5</td>\n",
              "      <td>1</td>\n",
              "      <td>2</td>\n",
              "      <td>800</td>\n",
              "      <td>8</td>\n",
              "      <td>400</td>\n",
              "      <td>24097.25</td>\n",
              "      <td>HIGH</td>\n",
              "    </tr>\n",
              "    <tr>\n",
              "      <th>3</th>\n",
              "      <td>IL</td>\n",
              "      <td>Midwest</td>\n",
              "      <td>M</td>\n",
              "      <td>Cashier</td>\n",
              "      <td>42</td>\n",
              "      <td>1</td>\n",
              "      <td>66473</td>\n",
              "      <td>1</td>\n",
              "      <td>1</td>\n",
              "      <td>1</td>\n",
              "      <td>1</td>\n",
              "      <td>DIVORCED</td>\n",
              "      <td>0</td>\n",
              "      <td>2950</td>\n",
              "      <td>25</td>\n",
              "      <td>53.45</td>\n",
              "      <td>1364</td>\n",
              "      <td>4</td>\n",
              "      <td>3737</td>\n",
              "      <td>4</td>\n",
              "      <td>1</td>\n",
              "      <td>1</td>\n",
              "      <td>2000</td>\n",
              "      <td>1</td>\n",
              "      <td>550</td>\n",
              "      <td>24318.25</td>\n",
              "      <td>HIGH</td>\n",
              "    </tr>\n",
              "    <tr>\n",
              "      <th>4</th>\n",
              "      <td>CA</td>\n",
              "      <td>West</td>\n",
              "      <td>M</td>\n",
              "      <td>Programmer/Developer</td>\n",
              "      <td>27</td>\n",
              "      <td>0</td>\n",
              "      <td>59710</td>\n",
              "      <td>3</td>\n",
              "      <td>1</td>\n",
              "      <td>0</td>\n",
              "      <td>3</td>\n",
              "      <td>SINGLE</td>\n",
              "      <td>0</td>\n",
              "      <td>700</td>\n",
              "      <td>25</td>\n",
              "      <td>53.22</td>\n",
              "      <td>268</td>\n",
              "      <td>9</td>\n",
              "      <td>0</td>\n",
              "      <td>3</td>\n",
              "      <td>0</td>\n",
              "      <td>3</td>\n",
              "      <td>1000</td>\n",
              "      <td>1</td>\n",
              "      <td>0</td>\n",
              "      <td>13127.50</td>\n",
              "      <td>LOW</td>\n",
              "    </tr>\n",
              "  </tbody>\n",
              "</table>\n",
              "</div>"
            ],
            "text/plain": [
              "  STATE   REGION SEX  ... N_TRANS_WEB_BANK       LTV    LTV_BIN\n",
              "0    IL  Midwest   F  ...             1500  17067.00     MEDIUM\n",
              "1    CA     West   F  ...             1000  31303.50  VERY HIGH\n",
              "2    FL    South   F  ...              400  24097.25       HIGH\n",
              "3    IL  Midwest   M  ...              550  24318.25       HIGH\n",
              "4    CA     West   M  ...                0  13127.50        LOW\n",
              "\n",
              "[5 rows x 27 columns]"
            ]
          },
          "metadata": {
            "tags": []
          },
          "execution_count": 141
        }
      ]
    },
    {
      "cell_type": "code",
      "metadata": {
        "id": "wDUJktFVb2T1",
        "colab_type": "code",
        "colab": {}
      },
      "source": [
        "# test_feature_df should have same columns as credit_X_df\n",
        "test_feature_df = test_feature_df.reindex(columns = credit_X_df.columns, fill_value=0)"
      ],
      "execution_count": 0,
      "outputs": []
    },
    {
      "cell_type": "code",
      "metadata": {
        "id": "Rxwkusv1b2T3",
        "colab_type": "code",
        "colab": {}
      },
      "source": [
        "test_feature_df = test_feature_df.iloc[:,relevant_features]"
      ],
      "execution_count": 0,
      "outputs": []
    },
    {
      "cell_type": "code",
      "metadata": {
        "id": "XYxJQbCRb2T6",
        "colab_type": "code",
        "outputId": "b3d9e83b-f9c3-400b-9261-bae57f1a4f82",
        "colab": {
          "base_uri": "https://localhost:8080/",
          "height": 141
        }
      },
      "source": [
        "test_feature_df = normalize(test_feature_df)\n",
        "print(test_feature_df)\n",
        "y_test_more_pred = predict(test_feature_df, X_resampled, y_resampled, alpha)"
      ],
      "execution_count": 144,
      "outputs": [
        {
          "output_type": "stream",
          "text": [
            "[[0. 0. 0. ... 0. 0. 0.]\n",
            " [0. 0. 0. ... 0. 0. 0.]\n",
            " [0. 0. 0. ... 0. 0. 0.]\n",
            " ...\n",
            " [0. 0. 0. ... 0. 0. 0.]\n",
            " [0. 0. 0. ... 0. 0. 0.]\n",
            " [0. 0. 0. ... 0. 0. 0.]]\n"
          ],
          "name": "stdout"
        }
      ]
    },
    {
      "cell_type": "code",
      "metadata": {
        "id": "iuduxG1ob2T-",
        "colab_type": "code",
        "colab": {}
      },
      "source": [
        "y_test_more_pred= pd.DataFrame(y_test_more_pred)\n",
        "y_test_more_pred= y_test_more_pred.reset_index()"
      ],
      "execution_count": 0,
      "outputs": []
    },
    {
      "cell_type": "code",
      "metadata": {
        "scrolled": true,
        "id": "sqPQCEO6b2UD",
        "colab_type": "code",
        "outputId": "295e2acd-0c6a-47ad-a348-7bc531e73ea1",
        "colab": {
          "base_uri": "https://localhost:8080/",
          "height": 201
        }
      },
      "source": [
        "y_test_more_pred.head()"
      ],
      "execution_count": 146,
      "outputs": [
        {
          "output_type": "execute_result",
          "data": {
            "text/html": [
              "<div>\n",
              "<style scoped>\n",
              "    .dataframe tbody tr th:only-of-type {\n",
              "        vertical-align: middle;\n",
              "    }\n",
              "\n",
              "    .dataframe tbody tr th {\n",
              "        vertical-align: top;\n",
              "    }\n",
              "\n",
              "    .dataframe thead th {\n",
              "        text-align: right;\n",
              "    }\n",
              "</style>\n",
              "<table border=\"1\" class=\"dataframe\">\n",
              "  <thead>\n",
              "    <tr style=\"text-align: right;\">\n",
              "      <th></th>\n",
              "      <th>index</th>\n",
              "      <th>0</th>\n",
              "    </tr>\n",
              "  </thead>\n",
              "  <tbody>\n",
              "    <tr>\n",
              "      <th>0</th>\n",
              "      <td>0</td>\n",
              "      <td>1.0</td>\n",
              "    </tr>\n",
              "    <tr>\n",
              "      <th>1</th>\n",
              "      <td>1</td>\n",
              "      <td>1.0</td>\n",
              "    </tr>\n",
              "    <tr>\n",
              "      <th>2</th>\n",
              "      <td>2</td>\n",
              "      <td>1.0</td>\n",
              "    </tr>\n",
              "    <tr>\n",
              "      <th>3</th>\n",
              "      <td>3</td>\n",
              "      <td>1.0</td>\n",
              "    </tr>\n",
              "    <tr>\n",
              "      <th>4</th>\n",
              "      <td>4</td>\n",
              "      <td>1.0</td>\n",
              "    </tr>\n",
              "  </tbody>\n",
              "</table>\n",
              "</div>"
            ],
            "text/plain": [
              "   index    0\n",
              "0      0  1.0\n",
              "1      1  1.0\n",
              "2      2  1.0\n",
              "3      3  1.0\n",
              "4      4  1.0"
            ]
          },
          "metadata": {
            "tags": []
          },
          "execution_count": 146
        }
      ]
    },
    {
      "cell_type": "code",
      "metadata": {
        "id": "zwN8lxt0b2UH",
        "colab_type": "code",
        "outputId": "db805467-fad7-42c7-b949-0227be730150",
        "colab": {
          "base_uri": "https://localhost:8080/",
          "height": 201
        }
      },
      "source": [
        "y_test_more_pred.columns = ['num','label']\n",
        "y_test_more_pred.head()"
      ],
      "execution_count": 147,
      "outputs": [
        {
          "output_type": "execute_result",
          "data": {
            "text/html": [
              "<div>\n",
              "<style scoped>\n",
              "    .dataframe tbody tr th:only-of-type {\n",
              "        vertical-align: middle;\n",
              "    }\n",
              "\n",
              "    .dataframe tbody tr th {\n",
              "        vertical-align: top;\n",
              "    }\n",
              "\n",
              "    .dataframe thead th {\n",
              "        text-align: right;\n",
              "    }\n",
              "</style>\n",
              "<table border=\"1\" class=\"dataframe\">\n",
              "  <thead>\n",
              "    <tr style=\"text-align: right;\">\n",
              "      <th></th>\n",
              "      <th>num</th>\n",
              "      <th>label</th>\n",
              "    </tr>\n",
              "  </thead>\n",
              "  <tbody>\n",
              "    <tr>\n",
              "      <th>0</th>\n",
              "      <td>0</td>\n",
              "      <td>1.0</td>\n",
              "    </tr>\n",
              "    <tr>\n",
              "      <th>1</th>\n",
              "      <td>1</td>\n",
              "      <td>1.0</td>\n",
              "    </tr>\n",
              "    <tr>\n",
              "      <th>2</th>\n",
              "      <td>2</td>\n",
              "      <td>1.0</td>\n",
              "    </tr>\n",
              "    <tr>\n",
              "      <th>3</th>\n",
              "      <td>3</td>\n",
              "      <td>1.0</td>\n",
              "    </tr>\n",
              "    <tr>\n",
              "      <th>4</th>\n",
              "      <td>4</td>\n",
              "      <td>1.0</td>\n",
              "    </tr>\n",
              "  </tbody>\n",
              "</table>\n",
              "</div>"
            ],
            "text/plain": [
              "   num  label\n",
              "0    0    1.0\n",
              "1    1    1.0\n",
              "2    2    1.0\n",
              "3    3    1.0\n",
              "4    4    1.0"
            ]
          },
          "metadata": {
            "tags": []
          },
          "execution_count": 147
        }
      ]
    },
    {
      "cell_type": "code",
      "metadata": {
        "id": "khOqgVggb2UJ",
        "colab_type": "code",
        "colab": {}
      },
      "source": [
        "y_test_more_pred['num'] = y_test_more_pred['num'] + 1\n",
        "y_test_more_pred.to_csv(r'test_submission.csv', index = False)"
      ],
      "execution_count": 0,
      "outputs": []
    }
  ]
}