{
  "nbformat": 4,
  "nbformat_minor": 0,
  "metadata": {
    "colab": {
      "name": "Group_005_assignment_001.ipynb",
      "version": "0.3.2",
      "provenance": []
    },
    "kernelspec": {
      "name": "python3",
      "display_name": "Python 3"
    }
  },
  "cells": [
    {
      "cell_type": "markdown",
      "metadata": {
        "id": "I_y2koPBAmFQ",
        "colab_type": "text"
      },
      "source": [
        "Author: Hieu Nguyen\n",
        "Date: 09/10/2019\n",
        "Assignment 1: Gathering data using XML in Python"
      ]
    },
    {
      "cell_type": "code",
      "metadata": {
        "id": "4eRnCFARAB_G",
        "colab_type": "code",
        "colab": {}
      },
      "source": [
        "import urllib.request\n",
        "import requests\n",
        "from lxml import objectify,etree\n",
        "xml = urllib.request.urlopen('http://data.treasury.gov/feed.svc/DailyTreasuryYieldCurveRateData?$filter=year(NEW_DATE)%20eq%202017').read()"
      ],
      "execution_count": 0,
      "outputs": []
    },
    {
      "cell_type": "markdown",
      "metadata": {
        "id": "4oBQCH84QXg6",
        "colab_type": "text"
      },
      "source": [
        "Find all yield rate type"
      ]
    },
    {
      "cell_type": "code",
      "metadata": {
        "id": "aCk8O3_jA2Io",
        "colab_type": "code",
        "colab": {}
      },
      "source": [
        "tree = etree.fromstring(xml)\n",
        "tree.xpath(\"//*\")\n",
        "newdate = tree.findall(\".//{http://schemas.microsoft.com/ado/2007/08/dataservices}NEW_DATE\")\n",
        "tbill1month =tree.findall(\".//{http://schemas.microsoft.com/ado/2007/08/dataservices}BC_1MONTH\")\n",
        "tbill3month =tree.findall(\".//{http://schemas.microsoft.com/ado/2007/08/dataservices}BC_3MONTH\")\n",
        "tbill6month =tree.findall(\".//{http://schemas.microsoft.com/ado/2007/08/dataservices}BC_6MONTH\")\n",
        "tbill1year =tree.findall(\".//{http://schemas.microsoft.com/ado/2007/08/dataservices}BC_1YEAR\")\n",
        "tbill2year =tree.findall(\".//{http://schemas.microsoft.com/ado/2007/08/dataservices}BC_2YEAR\")\n",
        "tbill3year =tree.findall(\".//{http://schemas.microsoft.com/ado/2007/08/dataservices}BC_3YEAR\")\n",
        "tbill5year =tree.findall(\".//{http://schemas.microsoft.com/ado/2007/08/dataservices}BC_5YEAR\")\n",
        "tbill7year =tree.findall(\".//{http://schemas.microsoft.com/ado/2007/08/dataservices}BC_7YEAR\")\n",
        "tbill10year =tree.findall(\".//{http://schemas.microsoft.com/ado/2007/08/dataservices}BC_10YEAR\")\n",
        "tbill20year =tree.findall(\".//{http://schemas.microsoft.com/ado/2007/08/dataservices}BC_20YEAR\")\n",
        "tbill30year =tree.findall(\".//{http://schemas.microsoft.com/ado/2007/08/dataservices}BC_30YEAR\")\n"
      ],
      "execution_count": 0,
      "outputs": []
    },
    {
      "cell_type": "markdown",
      "metadata": {
        "id": "4Fr3sAPcQgC4",
        "colab_type": "text"
      },
      "source": [
        "Use pandas library for data frame"
      ]
    },
    {
      "cell_type": "code",
      "metadata": {
        "id": "TA-YtxK7BDEg",
        "colab_type": "code",
        "colab": {}
      },
      "source": [
        "import pandas as pd\n",
        "df = pd.DataFrame(columns=['Date','1 Mo','3 Mo','6 Mo','1 Yr', '2 Yr', '3 Yr','5 Yr','7 Yr', '10 Yr', '20 Yr', '30 Yr'])\n"
      ],
      "execution_count": 0,
      "outputs": []
    },
    {
      "cell_type": "markdown",
      "metadata": {
        "id": "gWxElphIQllv",
        "colab_type": "text"
      },
      "source": [
        "Loop through every single values and add them to the table"
      ]
    },
    {
      "cell_type": "code",
      "metadata": {
        "id": "W0s5VdjDFwru",
        "colab_type": "code",
        "colab": {}
      },
      "source": [
        "for i in range(len(newdate)):\n",
        "  tmp = pd.DataFrame([[newdate[i].text[:-9],tbill1month[i].text,\n",
        "                     tbill3month[i].text,tbill6month[i].text,tbill1year[i].text,\n",
        "                     tbill2year[i].text,tbill3year[i].text,tbill5year[i].text,\n",
        "                     tbill7year[i].text,tbill10year[i].text,tbill20year[i].text,\n",
        "                     tbill30year[i].text]],columns=['Date','1 Mo','3 Mo','6 Mo','1 Yr', '2 Yr', '3 Yr','5 Yr','7 Yr', '10 Yr', '20 Yr', '30 Yr'])\n",
        "  df = df.append(tmp,ignore_index=True)\n",
        "#print(df)"
      ],
      "execution_count": 0,
      "outputs": []
    },
    {
      "cell_type": "markdown",
      "metadata": {
        "id": "5y4beTrRQrPZ",
        "colab_type": "text"
      },
      "source": [
        "This loop through several year of data, and produce similar result as above"
      ]
    },
    {
      "cell_type": "code",
      "metadata": {
        "id": "W1H67uOfMmJc",
        "colab_type": "code",
        "colab": {}
      },
      "source": [
        "df2 = pd.DataFrame(columns=['Date','1 Mo','3 Mo','6 Mo','1 Yr', '2 Yr', '3 Yr','5 Yr','7 Yr', '10 Yr', '20 Yr', '30 Yr'])\n",
        "for year in ['2010','2011','2012','2013','2014','2015','2016','2017','2018']:\n",
        "  tmpxml = urllib.request.urlopen('http://data.treasury.gov/feed.svc/DailyTreasuryYieldCurveRateData?$filter=year(NEW_DATE)%20eq%20{}'.format(year)).read()\n",
        "  tmptree = etree.fromstring(tmpxml)\n",
        "  tmptree.xpath(\"//*\")\n",
        "  tmpnewdate = tmptree.findall(\".//{http://schemas.microsoft.com/ado/2007/08/dataservices}NEW_DATE\")\n",
        "  tmptbill1month =tmptree.findall(\".//{http://schemas.microsoft.com/ado/2007/08/dataservices}BC_1MONTH\")\n",
        "  tmptbill3month =tmptree.findall(\".//{http://schemas.microsoft.com/ado/2007/08/dataservices}BC_3MONTH\")\n",
        "  tmptbill6month =tmptree.findall(\".//{http://schemas.microsoft.com/ado/2007/08/dataservices}BC_6MONTH\")\n",
        "  tmptbill1year =tmptree.findall(\".//{http://schemas.microsoft.com/ado/2007/08/dataservices}BC_1YEAR\")\n",
        "  tmptbill2year =tmptree.findall(\".//{http://schemas.microsoft.com/ado/2007/08/dataservices}BC_2YEAR\")\n",
        "  tmptbill3year =tmptree.findall(\".//{http://schemas.microsoft.com/ado/2007/08/dataservices}BC_3YEAR\")\n",
        "  tmptbill5year =tmptree.findall(\".//{http://schemas.microsoft.com/ado/2007/08/dataservices}BC_5YEAR\")\n",
        "  tmptbill7year =tmptree.findall(\".//{http://schemas.microsoft.com/ado/2007/08/dataservices}BC_7YEAR\")\n",
        "  tmptbill10year =tmptree.findall(\".//{http://schemas.microsoft.com/ado/2007/08/dataservices}BC_10YEAR\")\n",
        "  tmptbill20year =tmptree.findall(\".//{http://schemas.microsoft.com/ado/2007/08/dataservices}BC_20YEAR\")\n",
        "  tmptbill30year =tmptree.findall(\".//{http://schemas.microsoft.com/ado/2007/08/dataservices}BC_30YEAR\")\n",
        "  for i in range(len(tmpnewdate)):\n",
        "    tmp = pd.DataFrame([[tmpnewdate[i].text[:-9],tmptbill1month[i].text,\n",
        "                     tmptbill3month[i].text,tmptbill6month[i].text,tmptbill1year[i].text,\n",
        "                     tmptbill2year[i].text,tmptbill3year[i].text,tmptbill5year[i].text,\n",
        "                     tmptbill7year[i].text,tmptbill10year[i].text,tmptbill20year[i].text,\n",
        "                     tmptbill30year[i].text]],columns=['Date','1 Mo','3 Mo','6 Mo','1 Yr', '2 Yr', '3 Yr','5 Yr','7 Yr', '10 Yr', '20 Yr', '30 Yr'])\n",
        "    df2 = df2.append(tmp,ignore_index=True)\n",
        "#print(df2)"
      ],
      "execution_count": 0,
      "outputs": []
    },
    {
      "cell_type": "code",
      "metadata": {
        "id": "3mzZ34HfOMJU",
        "colab_type": "code",
        "colab": {}
      },
      "source": [
        "df2.to_excel('Group_005_assignment_001.xlsx')"
      ],
      "execution_count": 0,
      "outputs": []
    },
    {
      "cell_type": "code",
      "metadata": {
        "id": "j80MEbFgRXT-",
        "colab_type": "code",
        "colab": {}
      },
      "source": [
        "from google.colab import files\n",
        "files.download('Group_005_assignment_001.xlsx') "
      ],
      "execution_count": 0,
      "outputs": []
    }
  ]
}